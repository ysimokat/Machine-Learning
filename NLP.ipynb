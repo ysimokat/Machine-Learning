{
 "cells": [
  {
   "cell_type": "code",
   "execution_count": 23,
   "metadata": {},
   "outputs": [],
   "source": [
    "import numpy as np\n",
    "import pandas as pd\n",
    "import matplotlib.pyplot as plt\n",
    "import seaborn as sns"
   ]
  },
  {
   "cell_type": "code",
   "execution_count": 24,
   "metadata": {},
   "outputs": [],
   "source": [
    "col_name=['App Name','App Store','App','Store','App ID','Review ID','Country',\n",
    "          'Version','Rating','Date','Author','googleTranslateAuthor','Subject',\n",
    "          'googleTranslateSubject','Body','googleTranslateBody','Translated Subject',\n",
    "          'Translated Body','Emotion','Device']"
   ]
  },
  {
   "cell_type": "code",
   "execution_count": 25,
   "metadata": {},
   "outputs": [],
   "source": [
    "review_1 = pd.read_csv('export_export_reviews (1).csv', names=col_name, header=0, encoding='utf-8')\n",
    "review_2 = pd.read_csv('export_export_reviews (2).csv', names=col_name, header=0, encoding='utf-8')\n",
    "review_3 = pd.read_csv('export_export_reviews (3).csv', names=col_name, header=0, encoding='utf-8')\n",
    "review_4 = pd.read_csv('export_export_reviews (4).csv', names=col_name, header=0, encoding='utf-8')\n",
    "review_5 = pd.read_csv('export_export_reviews (5).csv', names=col_name, header=0, encoding='utf-8')\n",
    "review_6 = pd.read_csv('export_export_reviews (6).csv', names=col_name, header=0, encoding='utf-8')\n",
    "review_7 = pd.read_csv('export_export_reviews (7).csv', names=col_name, header=0, encoding='utf-8')\n",
    "review_8 = pd.read_csv('export_export_reviews (8).csv', names=col_name, header=0, encoding='utf-8')\n",
    "review_9 = pd.read_csv('export_export_reviews (9).csv', names=col_name, header=0, encoding='utf-8')\n",
    "review_10 = pd.read_csv('export_export_reviews (10).csv', names=col_name, header=0, encoding='utf-8')\n",
    "review_11 = pd.read_csv('export_export_reviews (11).csv', names=col_name, header=0, encoding='utf-8')\n",
    "review_12 = pd.read_csv('export_export_reviews (12).csv', names=col_name, header=0, encoding='utf-8')\n",
    "review_13 = pd.read_csv('export_export_reviews (13).csv', names=col_name, header=0, encoding='utf-8')\n",
    "review_14 = pd.read_csv('export_export_reviews (14).csv', names=col_name, header=0, encoding='utf-8')\n",
    "review_15 = pd.read_csv('export_export_reviews (15).csv', names=col_name, header=0, encoding='utf-8')\n",
    "review_16 = pd.read_csv('export_export_reviews (16).csv', names=col_name, header=0, encoding='utf-8')\n",
    "review_17 = pd.read_csv('export_export_reviews (17).csv', names=col_name, header=0, encoding='utf-8')\n",
    "review_18 = pd.read_csv('export_export_reviews (18).csv', names=col_name, header=0, encoding='utf-8')\n",
    "review_19 = pd.read_csv('export_export_reviews (19).csv', names=col_name, header=0, encoding='utf-8')\n",
    "review_20 = pd.read_csv('export_export_reviews (20).csv', names=col_name, header=0, encoding='utf-8')\n",
    "review_21 = pd.read_csv('export_export_reviews (21).csv', names=col_name, header=0, encoding='utf-8')\n",
    "review_22 = pd.read_csv('export_export_reviews (22).csv', names=col_name, header=0, encoding='utf-8')\n",
    "review_23 = pd.read_csv('export_export_reviews (23).csv', names=col_name, header=0, encoding='utf-8')\n",
    "review_24 = pd.read_csv('export_export_reviews (24).csv', names=col_name, header=0, encoding='utf-8')\n",
    "review_25 = pd.read_csv('export_export_reviews (25).csv', names=col_name, header=0, encoding='utf-8')\n",
    "review_26 = pd.read_csv('export_export_reviews (26).csv', names=col_name, header=0, encoding='utf-8')\n",
    "review_27 = pd.read_csv('export_export_reviews (27).csv', names=col_name, header=0, encoding='utf-8')"
   ]
  },
  {
   "cell_type": "code",
   "execution_count": 26,
   "metadata": {
    "scrolled": true
   },
   "outputs": [
    {
     "data": {
      "text/html": [
       "<div>\n",
       "<style scoped>\n",
       "    .dataframe tbody tr th:only-of-type {\n",
       "        vertical-align: middle;\n",
       "    }\n",
       "\n",
       "    .dataframe tbody tr th {\n",
       "        vertical-align: top;\n",
       "    }\n",
       "\n",
       "    .dataframe thead th {\n",
       "        text-align: right;\n",
       "    }\n",
       "</style>\n",
       "<table border=\"1\" class=\"dataframe\">\n",
       "  <thead>\n",
       "    <tr style=\"text-align: right;\">\n",
       "      <th></th>\n",
       "      <th>App Name</th>\n",
       "      <th>App Store</th>\n",
       "      <th>App</th>\n",
       "      <th>Store</th>\n",
       "      <th>App ID</th>\n",
       "      <th>Review ID</th>\n",
       "      <th>Country</th>\n",
       "      <th>Version</th>\n",
       "      <th>Rating</th>\n",
       "      <th>Date</th>\n",
       "      <th>Author</th>\n",
       "      <th>googleTranslateAuthor</th>\n",
       "      <th>Subject</th>\n",
       "      <th>googleTranslateSubject</th>\n",
       "      <th>Body</th>\n",
       "      <th>googleTranslateBody</th>\n",
       "      <th>Translated Subject</th>\n",
       "      <th>Translated Body</th>\n",
       "      <th>Emotion</th>\n",
       "      <th>Device</th>\n",
       "    </tr>\n",
       "  </thead>\n",
       "  <tbody>\n",
       "    <tr>\n",
       "      <th>0</th>\n",
       "      <td>Google Maps - GPS Navigation</td>\n",
       "      <td>iOS</td>\n",
       "      <td>Google Maps - GPS Navigation</td>\n",
       "      <td>iOS</td>\n",
       "      <td>585027354</td>\n",
       "      <td>1809909490</td>\n",
       "      <td>Kuwait</td>\n",
       "      <td>4.36.1</td>\n",
       "      <td>5</td>\n",
       "      <td>9/25/2017</td>\n",
       "      <td>لم يتم حجزي هذا للعلم</td>\n",
       "      <td>This is not my reservation for science</td>\n",
       "      <td>الكويت</td>\n",
       "      <td>Kuwait</td>\n",
       "      <td>خالد</td>\n",
       "      <td>immortal</td>\n",
       "      <td>Kuwait</td>\n",
       "      <td>NaN</td>\n",
       "      <td>NaN</td>\n",
       "      <td>NaN</td>\n",
       "    </tr>\n",
       "    <tr>\n",
       "      <th>1</th>\n",
       "      <td>Google Maps - GPS Navigation</td>\n",
       "      <td>iOS</td>\n",
       "      <td>Google Maps - GPS Navigation</td>\n",
       "      <td>iOS</td>\n",
       "      <td>585027354</td>\n",
       "      <td>1809907048</td>\n",
       "      <td>China</td>\n",
       "      <td>4.36.1</td>\n",
       "      <td>5</td>\n",
       "      <td>9/25/2017</td>\n",
       "      <td>芳菲8181</td>\n",
       "      <td>Fang Fei 8181</td>\n",
       "      <td>好评</td>\n",
       "      <td>Favorable comment</td>\n",
       "      <td>就在刚刚，微信的登录页面突然变了个画风！看出区别了吗？左边是原图，右边是风云四号的云图！\\n...</td>\n",
       "      <td>In just WeChat login page suddenly changed a s...</td>\n",
       "      <td>Praise</td>\n",
       "      <td>NaN</td>\n",
       "      <td>NaN</td>\n",
       "      <td>NaN</td>\n",
       "    </tr>\n",
       "  </tbody>\n",
       "</table>\n",
       "</div>"
      ],
      "text/plain": [
       "                       App Name App Store                           App Store  \\\n",
       "0  Google Maps - GPS Navigation       iOS  Google Maps - GPS Navigation   iOS   \n",
       "1  Google Maps - GPS Navigation       iOS  Google Maps - GPS Navigation   iOS   \n",
       "\n",
       "      App ID   Review ID Country Version  Rating       Date  \\\n",
       "0  585027354  1809909490  Kuwait  4.36.1       5  9/25/2017   \n",
       "1  585027354  1809907048   China  4.36.1       5  9/25/2017   \n",
       "\n",
       "                  Author                   googleTranslateAuthor Subject  \\\n",
       "0  لم يتم حجزي هذا للعلم  This is not my reservation for science  الكويت   \n",
       "1                 芳菲8181                           Fang Fei 8181      好评   \n",
       "\n",
       "  googleTranslateSubject                                               Body  \\\n",
       "0                 Kuwait                                               خالد   \n",
       "1      Favorable comment  就在刚刚，微信的登录页面突然变了个画风！看出区别了吗？左边是原图，右边是风云四号的云图！\\n...   \n",
       "\n",
       "                                 googleTranslateBody Translated Subject  \\\n",
       "0                                           immortal             Kuwait   \n",
       "1  In just WeChat login page suddenly changed a s...             Praise   \n",
       "\n",
       "   Translated Body Emotion  Device  \n",
       "0              NaN     NaN     NaN  \n",
       "1              NaN     NaN     NaN  "
      ]
     },
     "execution_count": 26,
     "metadata": {},
     "output_type": "execute_result"
    }
   ],
   "source": [
    "review_27.head(2)"
   ]
  },
  {
   "cell_type": "markdown",
   "metadata": {},
   "source": [
    "### concatenate data"
   ]
  },
  {
   "cell_type": "code",
   "execution_count": 27,
   "metadata": {},
   "outputs": [],
   "source": [
    "# concatenate all files\n",
    "data = pd.concat([review_1,review_2,review_3,review_4,review_5,review_6,review_7,review_8,review_9,review_10,review_11,\n",
    "                     review_12,review_13,review_14,review_15,review_16,review_17, review_18,review_19,review_20,review_21,\n",
    "                     review_22,review_23,review_24,review_25,review_26,review_27],axis=0,join_axes=[review_1.columns],sort=False)"
   ]
  },
  {
   "cell_type": "code",
   "execution_count": 28,
   "metadata": {
    "scrolled": true
   },
   "outputs": [
    {
     "data": {
      "text/plain": [
       "(408648, 20)"
      ]
     },
     "execution_count": 28,
     "metadata": {},
     "output_type": "execute_result"
    }
   ],
   "source": [
    "data.shape"
   ]
  },
  {
   "cell_type": "code",
   "execution_count": 29,
   "metadata": {},
   "outputs": [],
   "source": [
    "#data.to_csv('data.csv',index=False)"
   ]
  },
  {
   "cell_type": "code",
   "execution_count": 30,
   "metadata": {},
   "outputs": [
    {
     "data": {
      "text/html": [
       "<div>\n",
       "<style scoped>\n",
       "    .dataframe tbody tr th:only-of-type {\n",
       "        vertical-align: middle;\n",
       "    }\n",
       "\n",
       "    .dataframe tbody tr th {\n",
       "        vertical-align: top;\n",
       "    }\n",
       "\n",
       "    .dataframe thead th {\n",
       "        text-align: right;\n",
       "    }\n",
       "</style>\n",
       "<table border=\"1\" class=\"dataframe\">\n",
       "  <thead>\n",
       "    <tr style=\"text-align: right;\">\n",
       "      <th></th>\n",
       "      <th>App Name</th>\n",
       "      <th>App Store</th>\n",
       "      <th>App</th>\n",
       "      <th>Store</th>\n",
       "      <th>App ID</th>\n",
       "      <th>Review ID</th>\n",
       "      <th>Country</th>\n",
       "      <th>Version</th>\n",
       "      <th>Rating</th>\n",
       "      <th>Date</th>\n",
       "      <th>Author</th>\n",
       "      <th>googleTranslateAuthor</th>\n",
       "      <th>Subject</th>\n",
       "      <th>googleTranslateSubject</th>\n",
       "      <th>Body</th>\n",
       "      <th>googleTranslateBody</th>\n",
       "      <th>Translated Subject</th>\n",
       "      <th>Translated Body</th>\n",
       "      <th>Emotion</th>\n",
       "      <th>Device</th>\n",
       "    </tr>\n",
       "  </thead>\n",
       "  <tbody>\n",
       "    <tr>\n",
       "      <th>0</th>\n",
       "      <td>Google Maps - GPS Navigation</td>\n",
       "      <td>iOS</td>\n",
       "      <td>Google Maps - GPS Navigation</td>\n",
       "      <td>iOS</td>\n",
       "      <td>585027354</td>\n",
       "      <td>2361429743</td>\n",
       "      <td>China</td>\n",
       "      <td>4.47</td>\n",
       "      <td>5</td>\n",
       "      <td>3/30/2018</td>\n",
       "      <td>那个执事</td>\n",
       "      <td>Deacon</td>\n",
       "      <td>评论才能用么？</td>\n",
       "      <td>Comments can use it?</td>\n",
       "      <td>明明之前还能用的，为什么现在不行啊</td>\n",
       "      <td>Obviously also used before, why not now ah</td>\n",
       "      <td>Can comments be used?</td>\n",
       "      <td>Why can&amp;#39;t you use it now?</td>\n",
       "      <td>NaN</td>\n",
       "      <td>NaN</td>\n",
       "    </tr>\n",
       "    <tr>\n",
       "      <th>1</th>\n",
       "      <td>Google Maps - GPS Navigation</td>\n",
       "      <td>iOS</td>\n",
       "      <td>Google Maps - GPS Navigation</td>\n",
       "      <td>iOS</td>\n",
       "      <td>585027354</td>\n",
       "      <td>2361409552</td>\n",
       "      <td>China</td>\n",
       "      <td>4.47</td>\n",
       "      <td>1</td>\n",
       "      <td>3/30/2018</td>\n",
       "      <td>猫大的蚊子</td>\n",
       "      <td>Big cat mosquitoes</td>\n",
       "      <td>一片空白</td>\n",
       "      <td>Blank</td>\n",
       "      <td>下载了之后压根不能用啊</td>\n",
       "      <td>After downloading are they not ah</td>\n",
       "      <td>Blank</td>\n",
       "      <td>After downloading, you can&amp;#39;t use it.</td>\n",
       "      <td>NaN</td>\n",
       "      <td>NaN</td>\n",
       "    </tr>\n",
       "  </tbody>\n",
       "</table>\n",
       "</div>"
      ],
      "text/plain": [
       "                       App Name App Store                           App Store  \\\n",
       "0  Google Maps - GPS Navigation       iOS  Google Maps - GPS Navigation   iOS   \n",
       "1  Google Maps - GPS Navigation       iOS  Google Maps - GPS Navigation   iOS   \n",
       "\n",
       "      App ID   Review ID Country Version  Rating       Date Author  \\\n",
       "0  585027354  2361429743   China    4.47       5  3/30/2018   那个执事   \n",
       "1  585027354  2361409552   China    4.47       1  3/30/2018  猫大的蚊子   \n",
       "\n",
       "  googleTranslateAuthor  Subject googleTranslateSubject               Body  \\\n",
       "0                Deacon  评论才能用么？   Comments can use it?  明明之前还能用的，为什么现在不行啊   \n",
       "1    Big cat mosquitoes     一片空白                  Blank        下载了之后压根不能用啊   \n",
       "\n",
       "                          googleTranslateBody     Translated Subject  \\\n",
       "0  Obviously also used before, why not now ah  Can comments be used?   \n",
       "1           After downloading are they not ah                  Blank   \n",
       "\n",
       "                            Translated Body Emotion  Device  \n",
       "0             Why can&#39;t you use it now?     NaN     NaN  \n",
       "1  After downloading, you can&#39;t use it.     NaN     NaN  "
      ]
     },
     "execution_count": 30,
     "metadata": {},
     "output_type": "execute_result"
    }
   ],
   "source": [
    "data.head(2)"
   ]
  },
  {
   "cell_type": "code",
   "execution_count": 31,
   "metadata": {},
   "outputs": [],
   "source": [
    "df=data.copy()"
   ]
  },
  {
   "cell_type": "markdown",
   "metadata": {},
   "source": [
    "### data preprocessing"
   ]
  },
  {
   "cell_type": "code",
   "execution_count": 32,
   "metadata": {},
   "outputs": [
    {
     "data": {
      "text/html": [
       "<div>\n",
       "<style scoped>\n",
       "    .dataframe tbody tr th:only-of-type {\n",
       "        vertical-align: middle;\n",
       "    }\n",
       "\n",
       "    .dataframe tbody tr th {\n",
       "        vertical-align: top;\n",
       "    }\n",
       "\n",
       "    .dataframe thead th {\n",
       "        text-align: right;\n",
       "    }\n",
       "</style>\n",
       "<table border=\"1\" class=\"dataframe\">\n",
       "  <thead>\n",
       "    <tr style=\"text-align: right;\">\n",
       "      <th></th>\n",
       "      <th>0</th>\n",
       "    </tr>\n",
       "  </thead>\n",
       "  <tbody>\n",
       "    <tr>\n",
       "      <th>Version</th>\n",
       "      <td>367621</td>\n",
       "    </tr>\n",
       "    <tr>\n",
       "      <th>Author</th>\n",
       "      <td>100864</td>\n",
       "    </tr>\n",
       "    <tr>\n",
       "      <th>googleTranslateAuthor</th>\n",
       "      <td>47129</td>\n",
       "    </tr>\n",
       "    <tr>\n",
       "      <th>Subject</th>\n",
       "      <td>362896</td>\n",
       "    </tr>\n",
       "    <tr>\n",
       "      <th>googleTranslateSubject</th>\n",
       "      <td>122729</td>\n",
       "    </tr>\n",
       "    <tr>\n",
       "      <th>Body</th>\n",
       "      <td>398</td>\n",
       "    </tr>\n",
       "    <tr>\n",
       "      <th>googleTranslateBody</th>\n",
       "      <td>136</td>\n",
       "    </tr>\n",
       "    <tr>\n",
       "      <th>Translated Subject</th>\n",
       "      <td>386148</td>\n",
       "    </tr>\n",
       "    <tr>\n",
       "      <th>Translated Body</th>\n",
       "      <td>302832</td>\n",
       "    </tr>\n",
       "    <tr>\n",
       "      <th>Emotion</th>\n",
       "      <td>349368</td>\n",
       "    </tr>\n",
       "    <tr>\n",
       "      <th>Device</th>\n",
       "      <td>408648</td>\n",
       "    </tr>\n",
       "  </tbody>\n",
       "</table>\n",
       "</div>"
      ],
      "text/plain": [
       "                             0\n",
       "Version                 367621\n",
       "Author                  100864\n",
       "googleTranslateAuthor    47129\n",
       "Subject                 362896\n",
       "googleTranslateSubject  122729\n",
       "Body                       398\n",
       "googleTranslateBody        136\n",
       "Translated Subject      386148\n",
       "Translated Body         302832\n",
       "Emotion                 349368\n",
       "Device                  408648"
      ]
     },
     "execution_count": 32,
     "metadata": {},
     "output_type": "execute_result"
    }
   ],
   "source": [
    "missing=pd.DataFrame(df.isnull().sum())\n",
    "missing[missing[0]>0]"
   ]
  },
  {
   "cell_type": "code",
   "execution_count": 33,
   "metadata": {},
   "outputs": [],
   "source": [
    "df.fillna('None',inplace=True)"
   ]
  },
  {
   "cell_type": "code",
   "execution_count": 34,
   "metadata": {},
   "outputs": [
    {
     "data": {
      "text/plain": [
       "Int64Index([  804,   805,   812,   816,   818,   819,   823,   824,   826,\n",
       "              833,\n",
       "            ...\n",
       "            17415, 17417, 17419, 17430, 17432, 17438, 17439, 17447, 17448,\n",
       "            17452],\n",
       "           dtype='int64', length=100864)"
      ]
     },
     "execution_count": 34,
     "metadata": {},
     "output_type": "execute_result"
    }
   ],
   "source": [
    "author_null = df[df.Author=='None']\n",
    "author_null.index"
   ]
  },
  {
   "cell_type": "code",
   "execution_count": 35,
   "metadata": {},
   "outputs": [
    {
     "data": {
      "text/plain": [
       "('None', 'None')"
      ]
     },
     "execution_count": 35,
     "metadata": {},
     "output_type": "execute_result"
    }
   ],
   "source": [
    "df['googleTranslateAuthor'].iloc[804],df.Author.iloc[804]"
   ]
  },
  {
   "cell_type": "code",
   "execution_count": 36,
   "metadata": {},
   "outputs": [
    {
     "name": "stdout",
     "output_type": "stream",
     "text": [
      "yes\n"
     ]
    }
   ],
   "source": [
    "if df['googleTranslateAuthor'].iloc[804] == 'None':\n",
    "    print('yes')"
   ]
  },
  {
   "cell_type": "code",
   "execution_count": 37,
   "metadata": {},
   "outputs": [
    {
     "name": "stderr",
     "output_type": "stream",
     "text": [
      "/home/ysimokat/anaconda3/lib/python3.6/site-packages/pandas/core/indexing.py:190: SettingWithCopyWarning: \n",
      "A value is trying to be set on a copy of a slice from a DataFrame\n",
      "\n",
      "See the caveats in the documentation: http://pandas.pydata.org/pandas-docs/stable/indexing.html#indexing-view-versus-copy\n",
      "  self._setitem_with_indexer(indexer, value)\n"
     ]
    }
   ],
   "source": [
    "index1 = author_null.index\n",
    "for i in index1:\n",
    "    df['googleTranslateAuthor'].iloc[i] = 'None'"
   ]
  },
  {
   "cell_type": "code",
   "execution_count": 38,
   "metadata": {},
   "outputs": [],
   "source": [
    "index2 = df[df.Subject=='None'].index\n",
    "index3 = df[df.Body=='None'].index"
   ]
  },
  {
   "cell_type": "code",
   "execution_count": 39,
   "metadata": {},
   "outputs": [],
   "source": [
    "for i in index2:\n",
    "    df['googleTranslateSubject'].iloc[i] = 'None'"
   ]
  },
  {
   "cell_type": "code",
   "execution_count": 40,
   "metadata": {},
   "outputs": [],
   "source": [
    "for i in index3:\n",
    "    df['googleTranslateBody'].iloc[i] = 'None'"
   ]
  },
  {
   "cell_type": "code",
   "execution_count": 41,
   "metadata": {},
   "outputs": [
    {
     "data": {
      "text/html": [
       "<div>\n",
       "<style scoped>\n",
       "    .dataframe tbody tr th:only-of-type {\n",
       "        vertical-align: middle;\n",
       "    }\n",
       "\n",
       "    .dataframe tbody tr th {\n",
       "        vertical-align: top;\n",
       "    }\n",
       "\n",
       "    .dataframe thead th {\n",
       "        text-align: right;\n",
       "    }\n",
       "</style>\n",
       "<table border=\"1\" class=\"dataframe\">\n",
       "  <thead>\n",
       "    <tr style=\"text-align: right;\">\n",
       "      <th></th>\n",
       "      <th>0</th>\n",
       "    </tr>\n",
       "  </thead>\n",
       "  <tbody>\n",
       "  </tbody>\n",
       "</table>\n",
       "</div>"
      ],
      "text/plain": [
       "Empty DataFrame\n",
       "Columns: [0]\n",
       "Index: []"
      ]
     },
     "execution_count": 41,
     "metadata": {},
     "output_type": "execute_result"
    }
   ],
   "source": [
    "missing=pd.DataFrame(df.isnull().sum())\n",
    "missing[missing[0]>0]"
   ]
  },
  {
   "cell_type": "code",
   "execution_count": 42,
   "metadata": {},
   "outputs": [],
   "source": [
    "#drop missings in ['body']\n",
    "#df.dropna(subset=['googleTranslateBody'],inplace=True)"
   ]
  },
  {
   "cell_type": "code",
   "execution_count": 43,
   "metadata": {},
   "outputs": [
    {
     "data": {
      "text/html": [
       "<div>\n",
       "<style scoped>\n",
       "    .dataframe tbody tr th:only-of-type {\n",
       "        vertical-align: middle;\n",
       "    }\n",
       "\n",
       "    .dataframe tbody tr th {\n",
       "        vertical-align: top;\n",
       "    }\n",
       "\n",
       "    .dataframe thead th {\n",
       "        text-align: right;\n",
       "    }\n",
       "</style>\n",
       "<table border=\"1\" class=\"dataframe\">\n",
       "  <thead>\n",
       "    <tr style=\"text-align: right;\">\n",
       "      <th></th>\n",
       "      <th>0</th>\n",
       "    </tr>\n",
       "  </thead>\n",
       "  <tbody>\n",
       "  </tbody>\n",
       "</table>\n",
       "</div>"
      ],
      "text/plain": [
       "Empty DataFrame\n",
       "Columns: [0]\n",
       "Index: []"
      ]
     },
     "execution_count": 43,
     "metadata": {},
     "output_type": "execute_result"
    }
   ],
   "source": [
    "missing=pd.DataFrame(df.isnull().sum())\n",
    "missing[missing[0]>0]"
   ]
  },
  {
   "cell_type": "code",
   "execution_count": 44,
   "metadata": {},
   "outputs": [
    {
     "name": "stdout",
     "output_type": "stream",
     "text": [
      "['None']\n",
      "['4.47' '4.30.0' '4.36.1' '4.31.1' '4.46' '4.44' '4.39' '4.45' '2.0.35'\n",
      " '2.0.34' 'None' '4.36' '4.34' '4.34.1' '4.18.0' '4.35.1' '4.21' '4.43'\n",
      " '4.21.0' '4.38' '4.12.0' '4.22.2' '4.33' '4.35' '4.33.1' '4.17.0'\n",
      " '2.0.12' '2.0.33' '4.31' '4.41' '4.37' '4.42' '2.0.29' '4.28.1' '2.0.31'\n",
      " 'iOS 4.30' 'iOS 4.32' 'iOS 4.33' '4.22' '4.27.1' 'iOS 4.31' '4.3.0'\n",
      " '4.26.0' '4.32.1' '4.25.0' '4.20.1' '4.24' '4.10.1' 'iOS 4.29' '4.23.0'\n",
      " '1.1' '4.26.1' '4.14.0' '4.29.0' '2.0.30' '4.23.1' '4.27' '4.24.2'\n",
      " '4.11.0' '4.25' '4.26' '4.32.0' '2.0.28' 'iOS 4.28' '4.16.0' '4.19.1'\n",
      " '4.8.0' '2.0.27' '4.27.0' '4.24.1']\n"
     ]
    }
   ],
   "source": [
    "print (df['Device'].unique())\n",
    "print (df['Version'].unique())"
   ]
  },
  {
   "cell_type": "code",
   "execution_count": 45,
   "metadata": {},
   "outputs": [
    {
     "data": {
      "text/html": [
       "<div>\n",
       "<style scoped>\n",
       "    .dataframe tbody tr th:only-of-type {\n",
       "        vertical-align: middle;\n",
       "    }\n",
       "\n",
       "    .dataframe tbody tr th {\n",
       "        vertical-align: top;\n",
       "    }\n",
       "\n",
       "    .dataframe thead th {\n",
       "        text-align: right;\n",
       "    }\n",
       "</style>\n",
       "<table border=\"1\" class=\"dataframe\">\n",
       "  <thead>\n",
       "    <tr style=\"text-align: right;\">\n",
       "      <th></th>\n",
       "      <th>App Name</th>\n",
       "      <th>App Store</th>\n",
       "      <th>App</th>\n",
       "      <th>Store</th>\n",
       "      <th>App ID</th>\n",
       "      <th>Review ID</th>\n",
       "      <th>Country</th>\n",
       "      <th>Version</th>\n",
       "      <th>Rating</th>\n",
       "      <th>Date</th>\n",
       "      <th>Author</th>\n",
       "      <th>googleTranslateAuthor</th>\n",
       "      <th>Subject</th>\n",
       "      <th>googleTranslateSubject</th>\n",
       "      <th>Body</th>\n",
       "      <th>googleTranslateBody</th>\n",
       "      <th>Translated Subject</th>\n",
       "      <th>Translated Body</th>\n",
       "      <th>Emotion</th>\n",
       "      <th>Device</th>\n",
       "    </tr>\n",
       "  </thead>\n",
       "  <tbody>\n",
       "    <tr>\n",
       "      <th>count</th>\n",
       "      <td>408648</td>\n",
       "      <td>408648</td>\n",
       "      <td>408648</td>\n",
       "      <td>408648</td>\n",
       "      <td>408648</td>\n",
       "      <td>408648</td>\n",
       "      <td>408648</td>\n",
       "      <td>408648</td>\n",
       "      <td>408648.000000</td>\n",
       "      <td>408648</td>\n",
       "      <td>408648</td>\n",
       "      <td>408648</td>\n",
       "      <td>408648</td>\n",
       "      <td>408648</td>\n",
       "      <td>408648</td>\n",
       "      <td>408648</td>\n",
       "      <td>408648</td>\n",
       "      <td>408648</td>\n",
       "      <td>408648</td>\n",
       "      <td>408648</td>\n",
       "    </tr>\n",
       "    <tr>\n",
       "      <th>unique</th>\n",
       "      <td>7</td>\n",
       "      <td>2</td>\n",
       "      <td>7</td>\n",
       "      <td>2</td>\n",
       "      <td>7</td>\n",
       "      <td>403992</td>\n",
       "      <td>139</td>\n",
       "      <td>70</td>\n",
       "      <td>NaN</td>\n",
       "      <td>184</td>\n",
       "      <td>287652</td>\n",
       "      <td>265508</td>\n",
       "      <td>31096</td>\n",
       "      <td>27258</td>\n",
       "      <td>271281</td>\n",
       "      <td>259267</td>\n",
       "      <td>14467</td>\n",
       "      <td>77739</td>\n",
       "      <td>6</td>\n",
       "      <td>1</td>\n",
       "    </tr>\n",
       "    <tr>\n",
       "      <th>top</th>\n",
       "      <td>Maps - Navigation &amp; Transit</td>\n",
       "      <td>Google Play</td>\n",
       "      <td>Maps - Navigation &amp; Transit</td>\n",
       "      <td>Google Play</td>\n",
       "      <td>com.google.android.apps.maps</td>\n",
       "      <td>Z3A6QU9xcFRPR3BUX29KbGNpSnI3X1NUaVk1a1lkV0xsX0...</td>\n",
       "      <td>English</td>\n",
       "      <td>None</td>\n",
       "      <td>NaN</td>\n",
       "      <td>10/23/2017</td>\n",
       "      <td>None</td>\n",
       "      <td>None</td>\n",
       "      <td>None</td>\n",
       "      <td>!</td>\n",
       "      <td>Good</td>\n",
       "      <td>Good</td>\n",
       "      <td>None</td>\n",
       "      <td>None</td>\n",
       "      <td>None</td>\n",
       "      <td>None</td>\n",
       "    </tr>\n",
       "    <tr>\n",
       "      <th>freq</th>\n",
       "      <td>207057</td>\n",
       "      <td>367621</td>\n",
       "      <td>207057</td>\n",
       "      <td>367621</td>\n",
       "      <td>207057</td>\n",
       "      <td>49</td>\n",
       "      <td>133304</td>\n",
       "      <td>367621</td>\n",
       "      <td>NaN</td>\n",
       "      <td>4031</td>\n",
       "      <td>100864</td>\n",
       "      <td>59237</td>\n",
       "      <td>362899</td>\n",
       "      <td>208116</td>\n",
       "      <td>10703</td>\n",
       "      <td>13250</td>\n",
       "      <td>386149</td>\n",
       "      <td>302833</td>\n",
       "      <td>349368</td>\n",
       "      <td>408648</td>\n",
       "    </tr>\n",
       "    <tr>\n",
       "      <th>mean</th>\n",
       "      <td>NaN</td>\n",
       "      <td>NaN</td>\n",
       "      <td>NaN</td>\n",
       "      <td>NaN</td>\n",
       "      <td>NaN</td>\n",
       "      <td>NaN</td>\n",
       "      <td>NaN</td>\n",
       "      <td>NaN</td>\n",
       "      <td>4.137757</td>\n",
       "      <td>NaN</td>\n",
       "      <td>NaN</td>\n",
       "      <td>NaN</td>\n",
       "      <td>NaN</td>\n",
       "      <td>NaN</td>\n",
       "      <td>NaN</td>\n",
       "      <td>NaN</td>\n",
       "      <td>NaN</td>\n",
       "      <td>NaN</td>\n",
       "      <td>NaN</td>\n",
       "      <td>NaN</td>\n",
       "    </tr>\n",
       "    <tr>\n",
       "      <th>std</th>\n",
       "      <td>NaN</td>\n",
       "      <td>NaN</td>\n",
       "      <td>NaN</td>\n",
       "      <td>NaN</td>\n",
       "      <td>NaN</td>\n",
       "      <td>NaN</td>\n",
       "      <td>NaN</td>\n",
       "      <td>NaN</td>\n",
       "      <td>1.357826</td>\n",
       "      <td>NaN</td>\n",
       "      <td>NaN</td>\n",
       "      <td>NaN</td>\n",
       "      <td>NaN</td>\n",
       "      <td>NaN</td>\n",
       "      <td>NaN</td>\n",
       "      <td>NaN</td>\n",
       "      <td>NaN</td>\n",
       "      <td>NaN</td>\n",
       "      <td>NaN</td>\n",
       "      <td>NaN</td>\n",
       "    </tr>\n",
       "    <tr>\n",
       "      <th>min</th>\n",
       "      <td>NaN</td>\n",
       "      <td>NaN</td>\n",
       "      <td>NaN</td>\n",
       "      <td>NaN</td>\n",
       "      <td>NaN</td>\n",
       "      <td>NaN</td>\n",
       "      <td>NaN</td>\n",
       "      <td>NaN</td>\n",
       "      <td>1.000000</td>\n",
       "      <td>NaN</td>\n",
       "      <td>NaN</td>\n",
       "      <td>NaN</td>\n",
       "      <td>NaN</td>\n",
       "      <td>NaN</td>\n",
       "      <td>NaN</td>\n",
       "      <td>NaN</td>\n",
       "      <td>NaN</td>\n",
       "      <td>NaN</td>\n",
       "      <td>NaN</td>\n",
       "      <td>NaN</td>\n",
       "    </tr>\n",
       "    <tr>\n",
       "      <th>25%</th>\n",
       "      <td>NaN</td>\n",
       "      <td>NaN</td>\n",
       "      <td>NaN</td>\n",
       "      <td>NaN</td>\n",
       "      <td>NaN</td>\n",
       "      <td>NaN</td>\n",
       "      <td>NaN</td>\n",
       "      <td>NaN</td>\n",
       "      <td>4.000000</td>\n",
       "      <td>NaN</td>\n",
       "      <td>NaN</td>\n",
       "      <td>NaN</td>\n",
       "      <td>NaN</td>\n",
       "      <td>NaN</td>\n",
       "      <td>NaN</td>\n",
       "      <td>NaN</td>\n",
       "      <td>NaN</td>\n",
       "      <td>NaN</td>\n",
       "      <td>NaN</td>\n",
       "      <td>NaN</td>\n",
       "    </tr>\n",
       "    <tr>\n",
       "      <th>50%</th>\n",
       "      <td>NaN</td>\n",
       "      <td>NaN</td>\n",
       "      <td>NaN</td>\n",
       "      <td>NaN</td>\n",
       "      <td>NaN</td>\n",
       "      <td>NaN</td>\n",
       "      <td>NaN</td>\n",
       "      <td>NaN</td>\n",
       "      <td>5.000000</td>\n",
       "      <td>NaN</td>\n",
       "      <td>NaN</td>\n",
       "      <td>NaN</td>\n",
       "      <td>NaN</td>\n",
       "      <td>NaN</td>\n",
       "      <td>NaN</td>\n",
       "      <td>NaN</td>\n",
       "      <td>NaN</td>\n",
       "      <td>NaN</td>\n",
       "      <td>NaN</td>\n",
       "      <td>NaN</td>\n",
       "    </tr>\n",
       "    <tr>\n",
       "      <th>75%</th>\n",
       "      <td>NaN</td>\n",
       "      <td>NaN</td>\n",
       "      <td>NaN</td>\n",
       "      <td>NaN</td>\n",
       "      <td>NaN</td>\n",
       "      <td>NaN</td>\n",
       "      <td>NaN</td>\n",
       "      <td>NaN</td>\n",
       "      <td>5.000000</td>\n",
       "      <td>NaN</td>\n",
       "      <td>NaN</td>\n",
       "      <td>NaN</td>\n",
       "      <td>NaN</td>\n",
       "      <td>NaN</td>\n",
       "      <td>NaN</td>\n",
       "      <td>NaN</td>\n",
       "      <td>NaN</td>\n",
       "      <td>NaN</td>\n",
       "      <td>NaN</td>\n",
       "      <td>NaN</td>\n",
       "    </tr>\n",
       "    <tr>\n",
       "      <th>max</th>\n",
       "      <td>NaN</td>\n",
       "      <td>NaN</td>\n",
       "      <td>NaN</td>\n",
       "      <td>NaN</td>\n",
       "      <td>NaN</td>\n",
       "      <td>NaN</td>\n",
       "      <td>NaN</td>\n",
       "      <td>NaN</td>\n",
       "      <td>5.000000</td>\n",
       "      <td>NaN</td>\n",
       "      <td>NaN</td>\n",
       "      <td>NaN</td>\n",
       "      <td>NaN</td>\n",
       "      <td>NaN</td>\n",
       "      <td>NaN</td>\n",
       "      <td>NaN</td>\n",
       "      <td>NaN</td>\n",
       "      <td>NaN</td>\n",
       "      <td>NaN</td>\n",
       "      <td>NaN</td>\n",
       "    </tr>\n",
       "  </tbody>\n",
       "</table>\n",
       "</div>"
      ],
      "text/plain": [
       "                           App Name    App Store                          App  \\\n",
       "count                        408648       408648                       408648   \n",
       "unique                            7            2                            7   \n",
       "top     Maps - Navigation & Transit  Google Play  Maps - Navigation & Transit   \n",
       "freq                         207057       367621                       207057   \n",
       "mean                            NaN          NaN                          NaN   \n",
       "std                             NaN          NaN                          NaN   \n",
       "min                             NaN          NaN                          NaN   \n",
       "25%                             NaN          NaN                          NaN   \n",
       "50%                             NaN          NaN                          NaN   \n",
       "75%                             NaN          NaN                          NaN   \n",
       "max                             NaN          NaN                          NaN   \n",
       "\n",
       "              Store                        App ID  \\\n",
       "count        408648                        408648   \n",
       "unique            2                             7   \n",
       "top     Google Play  com.google.android.apps.maps   \n",
       "freq         367621                        207057   \n",
       "mean            NaN                           NaN   \n",
       "std             NaN                           NaN   \n",
       "min             NaN                           NaN   \n",
       "25%             NaN                           NaN   \n",
       "50%             NaN                           NaN   \n",
       "75%             NaN                           NaN   \n",
       "max             NaN                           NaN   \n",
       "\n",
       "                                                Review ID  Country Version  \\\n",
       "count                                              408648   408648  408648   \n",
       "unique                                             403992      139      70   \n",
       "top     Z3A6QU9xcFRPR3BUX29KbGNpSnI3X1NUaVk1a1lkV0xsX0...  English    None   \n",
       "freq                                                   49   133304  367621   \n",
       "mean                                                  NaN      NaN     NaN   \n",
       "std                                                   NaN      NaN     NaN   \n",
       "min                                                   NaN      NaN     NaN   \n",
       "25%                                                   NaN      NaN     NaN   \n",
       "50%                                                   NaN      NaN     NaN   \n",
       "75%                                                   NaN      NaN     NaN   \n",
       "max                                                   NaN      NaN     NaN   \n",
       "\n",
       "               Rating        Date  Author googleTranslateAuthor Subject  \\\n",
       "count   408648.000000      408648  408648                408648  408648   \n",
       "unique            NaN         184  287652                265508   31096   \n",
       "top               NaN  10/23/2017    None                  None    None   \n",
       "freq              NaN        4031  100864                 59237  362899   \n",
       "mean         4.137757         NaN     NaN                   NaN     NaN   \n",
       "std          1.357826         NaN     NaN                   NaN     NaN   \n",
       "min          1.000000         NaN     NaN                   NaN     NaN   \n",
       "25%          4.000000         NaN     NaN                   NaN     NaN   \n",
       "50%          5.000000         NaN     NaN                   NaN     NaN   \n",
       "75%          5.000000         NaN     NaN                   NaN     NaN   \n",
       "max          5.000000         NaN     NaN                   NaN     NaN   \n",
       "\n",
       "       googleTranslateSubject    Body googleTranslateBody Translated Subject  \\\n",
       "count                  408648  408648              408648             408648   \n",
       "unique                  27258  271281              259267              14467   \n",
       "top                         !    Good                Good               None   \n",
       "freq                   208116   10703               13250             386149   \n",
       "mean                      NaN     NaN                 NaN                NaN   \n",
       "std                       NaN     NaN                 NaN                NaN   \n",
       "min                       NaN     NaN                 NaN                NaN   \n",
       "25%                       NaN     NaN                 NaN                NaN   \n",
       "50%                       NaN     NaN                 NaN                NaN   \n",
       "75%                       NaN     NaN                 NaN                NaN   \n",
       "max                       NaN     NaN                 NaN                NaN   \n",
       "\n",
       "       Translated Body Emotion  Device  \n",
       "count           408648  408648  408648  \n",
       "unique           77739       6       1  \n",
       "top               None    None    None  \n",
       "freq            302833  349368  408648  \n",
       "mean               NaN     NaN     NaN  \n",
       "std                NaN     NaN     NaN  \n",
       "min                NaN     NaN     NaN  \n",
       "25%                NaN     NaN     NaN  \n",
       "50%                NaN     NaN     NaN  \n",
       "75%                NaN     NaN     NaN  \n",
       "max                NaN     NaN     NaN  "
      ]
     },
     "execution_count": 45,
     "metadata": {},
     "output_type": "execute_result"
    }
   ],
   "source": [
    "df.describe(include='all')"
   ]
  },
  {
   "cell_type": "code",
   "execution_count": 46,
   "metadata": {},
   "outputs": [],
   "source": [
    "#remove useless columns \n",
    "#df.drop(['Device'],axis=1,inplace=True)\n",
    "#df.drop(['Version'],axis=1,inplace=True)\n",
    "#df.drop(['Author'],axis=1,inplace=True)\n",
    "#df.drop(['Date'],axis=1,inplace=True)\n",
    "#df.drop(['App'],axis=1,inplace=True)\n",
    "#df.drop(['Store'],axis=1,inplace=True)\n",
    "#df.drop(['App ID'],axis=1,inplace=True)\n",
    "#df.drop(['App Store'],axis=1,inplace=True)"
   ]
  },
  {
   "cell_type": "code",
   "execution_count": 47,
   "metadata": {
    "scrolled": false
   },
   "outputs": [
    {
     "data": {
      "text/html": [
       "<div>\n",
       "<style scoped>\n",
       "    .dataframe tbody tr th:only-of-type {\n",
       "        vertical-align: middle;\n",
       "    }\n",
       "\n",
       "    .dataframe tbody tr th {\n",
       "        vertical-align: top;\n",
       "    }\n",
       "\n",
       "    .dataframe thead th {\n",
       "        text-align: right;\n",
       "    }\n",
       "</style>\n",
       "<table border=\"1\" class=\"dataframe\">\n",
       "  <thead>\n",
       "    <tr style=\"text-align: right;\">\n",
       "      <th></th>\n",
       "      <th>App Name</th>\n",
       "      <th>App Store</th>\n",
       "      <th>App</th>\n",
       "      <th>Store</th>\n",
       "      <th>App ID</th>\n",
       "      <th>Review ID</th>\n",
       "      <th>Country</th>\n",
       "      <th>Version</th>\n",
       "      <th>Rating</th>\n",
       "      <th>Date</th>\n",
       "      <th>Author</th>\n",
       "      <th>googleTranslateAuthor</th>\n",
       "      <th>Subject</th>\n",
       "      <th>googleTranslateSubject</th>\n",
       "      <th>Body</th>\n",
       "      <th>googleTranslateBody</th>\n",
       "      <th>Translated Subject</th>\n",
       "      <th>Translated Body</th>\n",
       "      <th>Emotion</th>\n",
       "      <th>Device</th>\n",
       "    </tr>\n",
       "  </thead>\n",
       "  <tbody>\n",
       "  </tbody>\n",
       "</table>\n",
       "</div>"
      ],
      "text/plain": [
       "Empty DataFrame\n",
       "Columns: [App Name, App Store, App, Store, App ID, Review ID, Country, Version, Rating, Date, Author, googleTranslateAuthor, Subject, googleTranslateSubject, Body, googleTranslateBody, Translated Subject, Translated Body, Emotion, Device]\n",
       "Index: []"
      ]
     },
     "execution_count": 47,
     "metadata": {},
     "output_type": "execute_result"
    }
   ],
   "source": [
    "df.loc[df.isnull().any(axis=1)].head(2)"
   ]
  },
  {
   "cell_type": "code",
   "execution_count": 48,
   "metadata": {},
   "outputs": [
    {
     "data": {
      "text/plain": [
       "(408648, 20)"
      ]
     },
     "execution_count": 48,
     "metadata": {},
     "output_type": "execute_result"
    }
   ],
   "source": [
    "df.shape"
   ]
  },
  {
   "cell_type": "markdown",
   "metadata": {},
   "source": [
    "# natural language processing"
   ]
  },
  {
   "cell_type": "code",
   "execution_count": 49,
   "metadata": {},
   "outputs": [],
   "source": [
    "from nltk.tokenize import word_tokenize\n",
    "from nltk.corpus import stopwords\n",
    "#from nltk.stem import PorterStemmer\n",
    "from nltk.stem import WordNetLemmatizer"
   ]
  },
  {
   "cell_type": "code",
   "execution_count": 50,
   "metadata": {
    "scrolled": true
   },
   "outputs": [
    {
     "name": "stderr",
     "output_type": "stream",
     "text": [
      "[nltk_data] Downloading package punkt to /home/ysimokat/nltk_data...\n",
      "[nltk_data]   Package punkt is already up-to-date!\n",
      "[nltk_data] Downloading package stopwords to\n",
      "[nltk_data]     /home/ysimokat/nltk_data...\n",
      "[nltk_data]   Package stopwords is already up-to-date!\n",
      "[nltk_data] Downloading package wordnet to /home/ysimokat/nltk_data...\n",
      "[nltk_data]   Package wordnet is already up-to-date!\n"
     ]
    },
    {
     "data": {
      "text/plain": [
       "True"
      ]
     },
     "execution_count": 50,
     "metadata": {},
     "output_type": "execute_result"
    }
   ],
   "source": [
    "import nltk\n",
    "nltk.download('punkt')\n",
    "import nltk\n",
    "nltk.download('stopwords')\n",
    "import nltk\n",
    "nltk.download('wordnet')"
   ]
  },
  {
   "cell_type": "code",
   "execution_count": 51,
   "metadata": {},
   "outputs": [],
   "source": [
    "lemmatizer = WordNetLemmatizer()\n",
    "def str_stem(word):\n",
    "    word = word.lower()\n",
    "    word = word_tokenize(word) \n",
    "    all_word = []\n",
    "    for i in word:\n",
    "        if i not in stopwords.words('english'):\n",
    "            if i.isalpha():\n",
    "                all_word.append(lemmatizer.lemmatize(i))\n",
    "                #all_word.append(PorterStemmer().stem(i))\n",
    "    return ' '.join([i for i in all_word])"
   ]
  },
  {
   "cell_type": "code",
   "execution_count": 158,
   "metadata": {},
   "outputs": [
    {
     "data": {
      "text/plain": [
       "'like eat delicious food spicy'"
      ]
     },
     "execution_count": 158,
     "metadata": {},
     "output_type": "execute_result"
    }
   ],
   "source": [
    "s = ' I like eat delicious food that is not spicy'\n",
    "str_stem(s)"
   ]
  },
  {
   "cell_type": "code",
   "execution_count": 52,
   "metadata": {},
   "outputs": [],
   "source": [
    "#word tokenize\n",
    "df['App Name'] = df['App Name'].map(lambda x:str_stem(str(x)))\n",
    "df['App'] =df['App'].map(lambda x:str_stem(str(x)))\n",
    "df['googleTranslateSubject'] =df['googleTranslateSubject'].map(lambda x:str_stem(str(x)))\n",
    "df['googleTranslateBody'] =df['googleTranslateBody'].map(lambda x:str_stem(str(x)))"
   ]
  },
  {
   "cell_type": "code",
   "execution_count": 53,
   "metadata": {},
   "outputs": [],
   "source": [
    "df = df.drop(columns=['Author','googleTranslateAuthor','Subject','Body','Translated Subject','Translated Body','Device'],axis=1)"
   ]
  },
  {
   "cell_type": "code",
   "execution_count": 54,
   "metadata": {},
   "outputs": [],
   "source": [
    "df.to_csv('data_tokens.csv',index=False)"
   ]
  },
  {
   "cell_type": "markdown",
   "metadata": {},
   "source": [
    "### EDA (general)"
   ]
  },
  {
   "cell_type": "markdown",
   "metadata": {},
   "source": [
    "#### 'App Name'  \n",
    "\n",
    "Obs: 4 apps in total"
   ]
  },
  {
   "cell_type": "code",
   "execution_count": 55,
   "metadata": {},
   "outputs": [
    {
     "data": {
      "text/plain": [
       "array(['google map gps navigation', 'wego city navigation',\n",
       "       'wego offline map gps', 'map navigation transit',\n",
       "       'waze gps map traffic alert live navigation',\n",
       "       'waze navigation live traffic', 'acuralink'], dtype=object)"
      ]
     },
     "execution_count": 55,
     "metadata": {},
     "output_type": "execute_result"
    }
   ],
   "source": [
    "df['App Name'].unique() "
   ]
  },
  {
   "cell_type": "code",
   "execution_count": 56,
   "metadata": {},
   "outputs": [],
   "source": [
    "## generalize names\n",
    "df['App Name'].replace({'\"Waze - GPS, Maps, Traffic Alerts & Live Navigation\"': 'Waze - GPS, Maps, Traffic Alerts & Live Navigation'},inplace=True)\n",
    "df['App Name'].replace(['Waze - GPS, Maps, Traffic Alerts & Live Navigation','Waze Navigation & Live Traffic'],'Waze',inplace=True)\n",
    "df['App Name'].replace(['Google Maps - GPS Navigation','Maps - Navigation & Transit'],'Google Maps',inplace=True)\n",
    "df['App Name'].replace(['HERE WeGo - City navigation','HERE WeGo - Offline Maps & GPS'],'HERE WeGo',inplace=True)"
   ]
  },
  {
   "cell_type": "code",
   "execution_count": 57,
   "metadata": {
    "scrolled": true
   },
   "outputs": [
    {
     "data": {
      "text/plain": [
       "array(['google map gps navigation', 'wego city navigation',\n",
       "       'wego offline map gps', 'map navigation transit',\n",
       "       'waze gps map traffic alert live navigation',\n",
       "       'waze navigation live traffic', 'acuralink'], dtype=object)"
      ]
     },
     "execution_count": 57,
     "metadata": {},
     "output_type": "execute_result"
    }
   ],
   "source": [
    "df['App Name'].unique() "
   ]
  },
  {
   "cell_type": "code",
   "execution_count": 58,
   "metadata": {},
   "outputs": [
    {
     "data": {
      "image/png": "[encoded data removed]",
      "text/plain": [
       "<Figure size 432x288 with 1 Axes>"
      ]
     },
     "metadata": {},
     "output_type": "display_data"
    }
   ],
   "source": [
    "#distribution: Maps and Waze are the most \n",
    "import seaborn as sns\n",
    "sns.set(style=\"darkgrid\")\n",
    "ax = sns.countplot(x=\"App Name\", data=df,alpha=0.8)\n",
    "plt.title('Distribution of apps')\n",
    "plt.ylabel('Number of Occurrences', fontsize=12)\n",
    "plt.xlabel('App Name', fontsize=12)\n",
    "plt.show()"
   ]
  },
  {
   "cell_type": "markdown",
   "metadata": {},
   "source": [
    "#### 'App ID' \n",
    "\n",
    "Note: certify that each ID is Unique"
   ]
  },
  {
   "cell_type": "code",
   "execution_count": 59,
   "metadata": {
    "scrolled": true
   },
   "outputs": [
    {
     "data": {
      "text/plain": [
       "408648"
      ]
     },
     "execution_count": 59,
     "metadata": {},
     "output_type": "execute_result"
    }
   ],
   "source": [
    "len(df['Review ID'])"
   ]
  },
  {
   "cell_type": "markdown",
   "metadata": {},
   "source": [
    "#### 'Country' \n",
    "\n",
    "Obs: 140 different languages <br>\n",
    "Thoughts: other than translation, we can use it to analyze demographics/geographic"
   ]
  },
  {
   "cell_type": "code",
   "execution_count": 60,
   "metadata": {
    "scrolled": true
   },
   "outputs": [
    {
     "data": {
      "text/plain": [
       "array(['China', 'USA', 'Japan', 'Australia', 'Vietnam', 'Canada', 'India',\n",
       "       'Taiwan', 'United Kingdom', 'Italy', 'Spain', 'Thailand', 'France',\n",
       "       'Russia', 'Korea, Republic Of', 'United Arab Emirates', 'Chile',\n",
       "       'Mexico', 'Saudi Arabia', 'Indonesia', 'Netherlands', 'Malaysia',\n",
       "       'Brazil', 'Turkey', 'South Africa', 'Sweden', 'Belgium',\n",
       "       'Colombia', 'Venezuela', 'Hungary', 'Nigeria', 'Ukraine',\n",
       "       'Hong Kong', 'Switzerland', 'Egypt', 'Germany', 'Ecuador',\n",
       "       'Ireland', 'Denmark', 'Finland', 'Romania', 'Austria',\n",
       "       'Philippines', 'Norway', 'Argentina', 'New Zealand', 'Singapore',\n",
       "       'Oman', 'Kenya', 'Czech Republic', 'Lebanon', 'Poland',\n",
       "       'Luxembourg', 'Bulgaria', 'Polish', 'English', 'Italian', 'Arabic',\n",
       "       'Indonesian', 'German', 'Portuguese', 'Serbian', 'Romanian',\n",
       "       'Spanish', 'Russian', 'Hungarian', 'Bulgarian', 'Turkish',\n",
       "       'Croatian', 'Greek', 'French', 'Vietnamese', 'Czech',\n",
       "       'Chinese (Traditional)', 'Slovak', 'Chinese (Simplified)',\n",
       "       'Lithuanian', 'Ukrainian', 'Catalan', 'Latvian', 'Dutch', 'Danish',\n",
       "       'Japanese', 'Malay', 'Thai', 'Hindi', 'Swedish', 'Korean',\n",
       "       'Slovenian', 'Finnish', 'Norwegian', 'Estonian', 'Israel',\n",
       "       'Costa Rica', 'Uruguay', 'Portugal', 'Slovakia', 'Peru', 'Bolivia',\n",
       "       'Kuwait', 'Qatar', 'Madagascar', 'Greece', 'Filipino', 'Afrikaans',\n",
       "       'Azerbaijan', 'Jordan', 'Pakistan', 'Algeria', 'Ghana', 'Paraguay',\n",
       "       'Panama', 'Sri Lanka', 'Latvia', 'El Salvador', 'Croatia',\n",
       "       'Tanzania', 'Trinidad and Tobago', 'Macedonia', 'Senegal',\n",
       "       'Dominican Republic', 'Iceland', 'Uganda', 'Guatemala',\n",
       "       'Mauritius', 'Bahrain', 'Belarus', 'Brunei Darussalam',\n",
       "       'Nicaragua', 'Estonia', 'Lithuania', 'Malta', 'Honduras', 'Angola',\n",
       "       'Jamaica', 'Slovenia', 'Kazakstan', 'Moldova', 'Cyprus'],\n",
       "      dtype=object)"
      ]
     },
     "execution_count": 60,
     "metadata": {},
     "output_type": "execute_result"
    }
   ],
   "source": [
    "df['Country'].unique() "
   ]
  },
  {
   "cell_type": "code",
   "execution_count": 61,
   "metadata": {
    "scrolled": true
   },
   "outputs": [
    {
     "data": {
      "text/plain": [
       "139"
      ]
     },
     "execution_count": 61,
     "metadata": {},
     "output_type": "execute_result"
    }
   ],
   "source": [
    "len(df['Country'].unique())"
   ]
  },
  {
   "cell_type": "code",
   "execution_count": 62,
   "metadata": {
    "scrolled": false
   },
   "outputs": [
    {
     "data": {
      "text/html": [
       "<div>\n",
       "<style scoped>\n",
       "    .dataframe tbody tr th:only-of-type {\n",
       "        vertical-align: middle;\n",
       "    }\n",
       "\n",
       "    .dataframe tbody tr th {\n",
       "        vertical-align: top;\n",
       "    }\n",
       "\n",
       "    .dataframe thead th {\n",
       "        text-align: right;\n",
       "    }\n",
       "</style>\n",
       "<table border=\"1\" class=\"dataframe\">\n",
       "  <thead>\n",
       "    <tr style=\"text-align: right;\">\n",
       "      <th></th>\n",
       "      <th>Country</th>\n",
       "    </tr>\n",
       "  </thead>\n",
       "  <tbody>\n",
       "    <tr>\n",
       "      <th>English</th>\n",
       "      <td>133304</td>\n",
       "    </tr>\n",
       "    <tr>\n",
       "      <th>Indonesian</th>\n",
       "      <td>53114</td>\n",
       "    </tr>\n",
       "    <tr>\n",
       "      <th>Spanish</th>\n",
       "      <td>45631</td>\n",
       "    </tr>\n",
       "    <tr>\n",
       "      <th>Portuguese</th>\n",
       "      <td>41938</td>\n",
       "    </tr>\n",
       "    <tr>\n",
       "      <th>French</th>\n",
       "      <td>15284</td>\n",
       "    </tr>\n",
       "    <tr>\n",
       "      <th>USA</th>\n",
       "      <td>12664</td>\n",
       "    </tr>\n",
       "    <tr>\n",
       "      <th>Arabic</th>\n",
       "      <td>11824</td>\n",
       "    </tr>\n",
       "    <tr>\n",
       "      <th>Russian</th>\n",
       "      <td>11025</td>\n",
       "    </tr>\n",
       "    <tr>\n",
       "      <th>China</th>\n",
       "      <td>10296</td>\n",
       "    </tr>\n",
       "    <tr>\n",
       "      <th>Italian</th>\n",
       "      <td>6999</td>\n",
       "    </tr>\n",
       "  </tbody>\n",
       "</table>\n",
       "</div>"
      ],
      "text/plain": [
       "            Country\n",
       "English      133304\n",
       "Indonesian    53114\n",
       "Spanish       45631\n",
       "Portuguese    41938\n",
       "French        15284\n",
       "USA           12664\n",
       "Arabic        11824\n",
       "Russian       11025\n",
       "China         10296\n",
       "Italian        6999"
      ]
     },
     "execution_count": 62,
     "metadata": {},
     "output_type": "execute_result"
    }
   ],
   "source": [
    "#top 10 languages\n",
    "top10_country=pd.DataFrame(df['Country'].value_counts()).iloc[:10,:]\n",
    "top10_country"
   ]
  },
  {
   "cell_type": "code",
   "execution_count": 63,
   "metadata": {},
   "outputs": [
    {
     "data": {
      "image/png": "[encoded data removed]",
      "text/plain": [
       "<Figure size 720x360 with 1 Axes>"
      ]
     },
     "metadata": {},
     "output_type": "display_data"
    }
   ],
   "source": [
    "#distribution\n",
    "Country_count  = df['Country'].value_counts()\n",
    "Country_count = Country_count[:10,]\n",
    "plt.figure(figsize=(10,5))\n",
    "sns.barplot(Country_count.index, Country_count.values, alpha=0.8)\n",
    "plt.title('Top 10 languages in Reviews')\n",
    "plt.ylabel('Number of Occurrences', fontsize=12)\n",
    "plt.xlabel('Country', fontsize=12)\n",
    "plt.show()"
   ]
  },
  {
   "cell_type": "markdown",
   "metadata": {},
   "source": [
    "#### 'Rating' \n",
    "\n",
    "Obs: 1-5 present low to high"
   ]
  },
  {
   "cell_type": "code",
   "execution_count": 64,
   "metadata": {
    "scrolled": true
   },
   "outputs": [
    {
     "data": {
      "text/plain": [
       "array([5, 1, 3, 2, 4])"
      ]
     },
     "execution_count": 64,
     "metadata": {},
     "output_type": "execute_result"
    }
   ],
   "source": [
    "df['Rating'].unique()"
   ]
  },
  {
   "cell_type": "code",
   "execution_count": 65,
   "metadata": {},
   "outputs": [],
   "source": [
    "#numeric each values\n",
    "df['Rating']=pd.to_numeric(df['Rating'])"
   ]
  },
  {
   "cell_type": "code",
   "execution_count": 66,
   "metadata": {},
   "outputs": [
    {
     "data": {
      "text/plain": [
       "array([5, 1, 3, 2, 4])"
      ]
     },
     "execution_count": 66,
     "metadata": {},
     "output_type": "execute_result"
    }
   ],
   "source": [
    "df['Rating'].unique()"
   ]
  },
  {
   "cell_type": "code",
   "execution_count": 67,
   "metadata": {},
   "outputs": [
    {
     "data": {
      "image/png": "[encoded data removed]",
      "text/plain": [
       "<Figure size 432x288 with 1 Axes>"
      ]
     },
     "metadata": {},
     "output_type": "display_data"
    }
   ],
   "source": [
    "#distribution \n",
    "import seaborn as sns\n",
    "sns.set(style=\"darkgrid\")\n",
    "ax = sns.countplot(x=\"Rating\", data=df,alpha=0.8)\n",
    "plt.title('Distribution of Rating')\n",
    "plt.ylabel('Number of Occurrences', fontsize=12)\n",
    "plt.xlabel('Rating', fontsize=12)\n",
    "plt.show()"
   ]
  },
  {
   "cell_type": "markdown",
   "metadata": {},
   "source": [
    "#### 'Emotion' \n",
    "\n",
    "Obs: emotion judgement are vague and inaccurate, we may need to reassign values to all. "
   ]
  },
  {
   "cell_type": "code",
   "execution_count": 68,
   "metadata": {
    "scrolled": false
   },
   "outputs": [
    {
     "data": {
      "text/plain": [
       "array(['None', 'sad', 'meh', 'happy', 'delighted', 'angry'], dtype=object)"
      ]
     },
     "execution_count": 68,
     "metadata": {},
     "output_type": "execute_result"
    }
   ],
   "source": [
    "df['Emotion'].unique()"
   ]
  },
  {
   "cell_type": "code",
   "execution_count": 69,
   "metadata": {},
   "outputs": [],
   "source": [
    "#df.to_csv('df_rough_cleaning.csv',index=0)"
   ]
  },
  {
   "cell_type": "markdown",
   "metadata": {},
   "source": [
    "# Feature Engineering"
   ]
  },
  {
   "cell_type": "code",
   "execution_count": 71,
   "metadata": {},
   "outputs": [],
   "source": [
    "df.rename(columns={'googleTranslateSubject':'Subject'},inplace=True)\n",
    "df.rename(columns={'googleTranslateBody':'Body'},inplace=True)"
   ]
  },
  {
   "cell_type": "code",
   "execution_count": 72,
   "metadata": {},
   "outputs": [],
   "source": []
  },
  {
   "cell_type": "code",
   "execution_count": 80,
   "metadata": {
    "scrolled": true
   },
   "outputs": [
    {
     "data": {
      "text/plain": [
       "5    257813\n",
       "4     56167\n",
       "1     44070\n",
       "3     31887\n",
       "2     18711\n",
       "Name: Rating, dtype: int64"
      ]
     },
     "execution_count": 80,
     "metadata": {},
     "output_type": "execute_result"
    }
   ],
   "source": [
    "df.Rating.value_counts()"
   ]
  },
  {
   "cell_type": "code",
   "execution_count": 85,
   "metadata": {},
   "outputs": [
    {
     "data": {
      "text/plain": [
       "Google Play    367621\n",
       "iOS             41027\n",
       "Name: App Store, dtype: int64"
      ]
     },
     "execution_count": 85,
     "metadata": {},
     "output_type": "execute_result"
    }
   ],
   "source": [
    "df['App Store'].value_counts()"
   ]
  },
  {
   "cell_type": "code",
   "execution_count": 87,
   "metadata": {},
   "outputs": [
    {
     "data": {
      "text/plain": [
       "map navigation transit                        207057\n",
       "waze gps map traffic alert live navigation    150547\n",
       "google map gps navigation                      27594\n",
       "waze navigation live traffic                   12705\n",
       "wego offline map gps                           10008\n",
       "wego city navigation                             728\n",
       "acuralink                                          9\n",
       "Name: App Name, dtype: int64"
      ]
     },
     "execution_count": 87,
     "metadata": {},
     "output_type": "execute_result"
    }
   ],
   "source": [
    "df['App Name'].value_counts()"
   ]
  },
  {
   "cell_type": "code",
   "execution_count": 129,
   "metadata": {},
   "outputs": [],
   "source": [
    "import matplotlib.pyplot as plt\n",
    "from itertools import cycle, islice\n",
    "%matplotlib inline"
   ]
  },
  {
   "cell_type": "code",
   "execution_count": 131,
   "metadata": {},
   "outputs": [
    {
     "data": {
      "text/plain": [
       "Text(0.5, 1.0, 'Histogram of App Name')"
      ]
     },
     "execution_count": 131,
     "metadata": {},
     "output_type": "execute_result"
    },
    {
     "data": {
      "image/png": "[encoded data removed]",
      "text/plain": [
       "<Figure size 432x288 with 1 Axes>"
      ]
     },
     "metadata": {
      "needs_background": "light"
     },
     "output_type": "display_data"
    }
   ],
   "source": [
    "my_colors = list(islice(cycle(['b', 'r', 'g', 'y', 'k']), None, len(df['App Name'].value_counts())))\n",
    "s = df['App Name'].value_counts().plot(kind='bar',color=my_colors)\n",
    "#plt.setp(s.xaxis.get_majorticklabels(), rotation=45 )\n",
    "s.tick_params(axis='x', rotation=85)\n",
    "s.set_xlabel('App Name')\n",
    "s.set_ylabel('Counts')\n",
    "s.set_title('Histogram of App Name')"
   ]
  },
  {
   "cell_type": "code",
   "execution_count": 135,
   "metadata": {},
   "outputs": [
    {
     "name": "stdout",
     "output_type": "stream",
     "text": [
      "<class 'pandas.core.frame.DataFrame'>\n",
      "Int64Index: 408648 entries, 0 to 18457\n",
      "Data columns (total 15 columns):\n",
      "App Name     408648 non-null object\n",
      "App Store    408648 non-null object\n",
      "App          408648 non-null object\n",
      "Store        408648 non-null object\n",
      "App ID       408648 non-null object\n",
      "Review ID    408648 non-null object\n",
      "Country      408648 non-null object\n",
      "Version      408648 non-null object\n",
      "Rating       408648 non-null int64\n",
      "Date         408648 non-null object\n",
      "Subject      408648 non-null object\n",
      "Body         408648 non-null object\n",
      "Emotion      408648 non-null object\n",
      "feedback     408648 non-null object\n",
      "info         408648 non-null object\n",
      "dtypes: int64(1), object(14)\n",
      "memory usage: 49.9+ MB\n"
     ]
    }
   ],
   "source": [
    "df.info()"
   ]
  },
  {
   "cell_type": "code",
   "execution_count": 142,
   "metadata": {},
   "outputs": [
    {
     "data": {
      "text/html": [
       "<div>\n",
       "<style scoped>\n",
       "    .dataframe tbody tr th:only-of-type {\n",
       "        vertical-align: middle;\n",
       "    }\n",
       "\n",
       "    .dataframe tbody tr th {\n",
       "        vertical-align: top;\n",
       "    }\n",
       "\n",
       "    .dataframe thead th {\n",
       "        text-align: right;\n",
       "    }\n",
       "</style>\n",
       "<table border=\"1\" class=\"dataframe\">\n",
       "  <thead>\n",
       "    <tr style=\"text-align: right;\">\n",
       "      <th></th>\n",
       "      <th>App Name</th>\n",
       "      <th>App Store</th>\n",
       "      <th>App</th>\n",
       "      <th>Store</th>\n",
       "      <th>App ID</th>\n",
       "      <th>Review ID</th>\n",
       "      <th>Country</th>\n",
       "      <th>Version</th>\n",
       "      <th>Rating</th>\n",
       "      <th>Date</th>\n",
       "      <th>Subject</th>\n",
       "      <th>Body</th>\n",
       "      <th>Emotion</th>\n",
       "      <th>feedback</th>\n",
       "      <th>info</th>\n",
       "    </tr>\n",
       "  </thead>\n",
       "  <tbody>\n",
       "    <tr>\n",
       "      <th>0</th>\n",
       "      <td>google map gps navigation</td>\n",
       "      <td>iOS</td>\n",
       "      <td>io</td>\n",
       "      <td>iOS</td>\n",
       "      <td>585027354</td>\n",
       "      <td>2361429743</td>\n",
       "      <td>China</td>\n",
       "      <td>4.47</td>\n",
       "      <td>5</td>\n",
       "      <td>3/30/2018</td>\n",
       "      <td>none</td>\n",
       "      <td>obviously also used ah</td>\n",
       "      <td>None</td>\n",
       "      <td>none\\tobviously also used ah</td>\n",
       "      <td>google map gps navigation\\tiOS\\tnone\\tobviousl...</td>\n",
       "    </tr>\n",
       "  </tbody>\n",
       "</table>\n",
       "</div>"
      ],
      "text/plain": [
       "                    App Name App Store App Store     App ID   Review ID  \\\n",
       "0  google map gps navigation       iOS  io   iOS  585027354  2361429743   \n",
       "\n",
       "  Country Version  Rating       Date Subject                    Body Emotion  \\\n",
       "0   China    4.47       5  3/30/2018    none  obviously also used ah    None   \n",
       "\n",
       "                       feedback  \\\n",
       "0  none\\tobviously also used ah   \n",
       "\n",
       "                                                info  \n",
       "0  google map gps navigation\\tiOS\\tnone\\tobviousl...  "
      ]
     },
     "execution_count": 142,
     "metadata": {},
     "output_type": "execute_result"
    }
   ],
   "source": [
    "df.head(1)"
   ]
  },
  {
   "cell_type": "code",
   "execution_count": 137,
   "metadata": {
    "scrolled": true
   },
   "outputs": [
    {
     "data": {
      "text/html": [
       "<div>\n",
       "<style scoped>\n",
       "    .dataframe tbody tr th:only-of-type {\n",
       "        vertical-align: middle;\n",
       "    }\n",
       "\n",
       "    .dataframe tbody tr th {\n",
       "        vertical-align: top;\n",
       "    }\n",
       "\n",
       "    .dataframe thead th {\n",
       "        text-align: right;\n",
       "    }\n",
       "</style>\n",
       "<table border=\"1\" class=\"dataframe\">\n",
       "  <thead>\n",
       "    <tr style=\"text-align: right;\">\n",
       "      <th></th>\n",
       "      <th>Rating</th>\n",
       "    </tr>\n",
       "  </thead>\n",
       "  <tbody>\n",
       "    <tr>\n",
       "      <th>count</th>\n",
       "      <td>408648.000000</td>\n",
       "    </tr>\n",
       "    <tr>\n",
       "      <th>mean</th>\n",
       "      <td>4.137757</td>\n",
       "    </tr>\n",
       "    <tr>\n",
       "      <th>std</th>\n",
       "      <td>1.357826</td>\n",
       "    </tr>\n",
       "    <tr>\n",
       "      <th>min</th>\n",
       "      <td>1.000000</td>\n",
       "    </tr>\n",
       "    <tr>\n",
       "      <th>25%</th>\n",
       "      <td>4.000000</td>\n",
       "    </tr>\n",
       "    <tr>\n",
       "      <th>50%</th>\n",
       "      <td>5.000000</td>\n",
       "    </tr>\n",
       "    <tr>\n",
       "      <th>75%</th>\n",
       "      <td>5.000000</td>\n",
       "    </tr>\n",
       "    <tr>\n",
       "      <th>max</th>\n",
       "      <td>5.000000</td>\n",
       "    </tr>\n",
       "  </tbody>\n",
       "</table>\n",
       "</div>"
      ],
      "text/plain": [
       "              Rating\n",
       "count  408648.000000\n",
       "mean        4.137757\n",
       "std         1.357826\n",
       "min         1.000000\n",
       "25%         4.000000\n",
       "50%         5.000000\n",
       "75%         5.000000\n",
       "max         5.000000"
      ]
     },
     "execution_count": 137,
     "metadata": {},
     "output_type": "execute_result"
    }
   ],
   "source": [
    "df.describe()"
   ]
  },
  {
   "cell_type": "code",
   "execution_count": 161,
   "metadata": {},
   "outputs": [],
   "source": [
    "#import seaborn as sns\n",
    "#sns.catplot(x = 'App Store', y = 'Rating',hue='App ID',data=df,\n",
    "            #kind = 'violin', inner = 'stick',palette='Set3')\n",
    "#sns.heatmap(df['Rating'].value_counts(), annot=True, fmt='.2f', cmap='YlGnBu_r')"
   ]
  },
  {
   "cell_type": "code",
   "execution_count": 150,
   "metadata": {},
   "outputs": [],
   "source": [
    "df = df.drop(columns = ['App','Store'],axis=1)"
   ]
  },
  {
   "cell_type": "code",
   "execution_count": 151,
   "metadata": {},
   "outputs": [
    {
     "data": {
      "text/html": [
       "<div>\n",
       "<style scoped>\n",
       "    .dataframe tbody tr th:only-of-type {\n",
       "        vertical-align: middle;\n",
       "    }\n",
       "\n",
       "    .dataframe tbody tr th {\n",
       "        vertical-align: top;\n",
       "    }\n",
       "\n",
       "    .dataframe thead th {\n",
       "        text-align: right;\n",
       "    }\n",
       "</style>\n",
       "<table border=\"1\" class=\"dataframe\">\n",
       "  <thead>\n",
       "    <tr style=\"text-align: right;\">\n",
       "      <th></th>\n",
       "      <th>count</th>\n",
       "      <th>unique</th>\n",
       "      <th>top</th>\n",
       "      <th>freq</th>\n",
       "    </tr>\n",
       "  </thead>\n",
       "  <tbody>\n",
       "    <tr>\n",
       "      <th>App Name</th>\n",
       "      <td>408648</td>\n",
       "      <td>7</td>\n",
       "      <td>map navigation transit</td>\n",
       "      <td>207057</td>\n",
       "    </tr>\n",
       "    <tr>\n",
       "      <th>App Store</th>\n",
       "      <td>408648</td>\n",
       "      <td>2</td>\n",
       "      <td>Google Play</td>\n",
       "      <td>367621</td>\n",
       "    </tr>\n",
       "    <tr>\n",
       "      <th>App ID</th>\n",
       "      <td>408648</td>\n",
       "      <td>7</td>\n",
       "      <td>com.google.android.apps.maps</td>\n",
       "      <td>207057</td>\n",
       "    </tr>\n",
       "    <tr>\n",
       "      <th>Review ID</th>\n",
       "      <td>408648</td>\n",
       "      <td>403992</td>\n",
       "      <td>Z3A6QU9xcFRPR3BUX29KbGNpSnI3X1NUaVk1a1lkV0xsX0...</td>\n",
       "      <td>49</td>\n",
       "    </tr>\n",
       "    <tr>\n",
       "      <th>Country</th>\n",
       "      <td>408648</td>\n",
       "      <td>139</td>\n",
       "      <td>English</td>\n",
       "      <td>133304</td>\n",
       "    </tr>\n",
       "    <tr>\n",
       "      <th>Version</th>\n",
       "      <td>408648</td>\n",
       "      <td>70</td>\n",
       "      <td>None</td>\n",
       "      <td>367621</td>\n",
       "    </tr>\n",
       "    <tr>\n",
       "      <th>Date</th>\n",
       "      <td>408648</td>\n",
       "      <td>184</td>\n",
       "      <td>10/23/2017</td>\n",
       "      <td>4031</td>\n",
       "    </tr>\n",
       "    <tr>\n",
       "      <th>Subject</th>\n",
       "      <td>408648</td>\n",
       "      <td>20247</td>\n",
       "      <td></td>\n",
       "      <td>210437</td>\n",
       "    </tr>\n",
       "    <tr>\n",
       "      <th>Body</th>\n",
       "      <td>408648</td>\n",
       "      <td>221761</td>\n",
       "      <td>good</td>\n",
       "      <td>30168</td>\n",
       "    </tr>\n",
       "    <tr>\n",
       "      <th>Emotion</th>\n",
       "      <td>408648</td>\n",
       "      <td>6</td>\n",
       "      <td>None</td>\n",
       "      <td>349368</td>\n",
       "    </tr>\n",
       "  </tbody>\n",
       "</table>\n",
       "</div>"
      ],
      "text/plain": [
       "            count  unique                                                top  \\\n",
       "App Name   408648       7                             map navigation transit   \n",
       "App Store  408648       2                                        Google Play   \n",
       "App ID     408648       7                       com.google.android.apps.maps   \n",
       "Review ID  408648  403992  Z3A6QU9xcFRPR3BUX29KbGNpSnI3X1NUaVk1a1lkV0xsX0...   \n",
       "Country    408648     139                                            English   \n",
       "Version    408648      70                                               None   \n",
       "Date       408648     184                                         10/23/2017   \n",
       "Subject    408648   20247                                                      \n",
       "Body       408648  221761                                               good   \n",
       "Emotion    408648       6                                               None   \n",
       "\n",
       "             freq  \n",
       "App Name   207057  \n",
       "App Store  367621  \n",
       "App ID     207057  \n",
       "Review ID      49  \n",
       "Country    133304  \n",
       "Version    367621  \n",
       "Date         4031  \n",
       "Subject    210437  \n",
       "Body        30168  \n",
       "Emotion    349368  "
      ]
     },
     "execution_count": 151,
     "metadata": {},
     "output_type": "execute_result"
    }
   ],
   "source": [
    "df.describe(include='O').T"
   ]
  },
  {
   "cell_type": "code",
   "execution_count": 162,
   "metadata": {},
   "outputs": [
    {
     "data": {
      "text/plain": [
       "com.google.android.apps.maps    207057\n",
       "com.waze                        150547\n",
       "585027354                        27594\n",
       "323229106                        12705\n",
       "com.here.app.maps                10008\n",
       "955837609                          728\n",
       "com.acura.acuralink.connect          9\n",
       "Name: App ID, dtype: int64"
      ]
     },
     "execution_count": 162,
     "metadata": {},
     "output_type": "execute_result"
    }
   ],
   "source": [
    "df['App ID'].value_counts()"
   ]
  },
  {
   "cell_type": "code",
   "execution_count": 168,
   "metadata": {},
   "outputs": [],
   "source": [
    "#df.to_csv('df_for_model.csv',index=False)\n",
    "#create new feature feedback\n",
    "df['feedback'] = df['Subject'] + '\\t' + df['Body']\n",
    "\n",
    "# create a feature it includes a bag of words\n",
    "df['info']=df['App Name'] +'\\t' + df['App Store'] +'\\t'+ df['Subject'] + '\\t' + df['Body']"
   ]
  },
  {
   "cell_type": "code",
   "execution_count": 169,
   "metadata": {},
   "outputs": [
    {
     "data": {
      "text/plain": [
       "(408648, 13)"
      ]
     },
     "execution_count": 169,
     "metadata": {},
     "output_type": "execute_result"
    }
   ],
   "source": [
    "df.shape"
   ]
  },
  {
   "cell_type": "code",
   "execution_count": 175,
   "metadata": {},
   "outputs": [
    {
     "data": {
      "text/plain": [
       "['obviously',\n",
       " 'also',\n",
       " 'used',\n",
       " 'ah',\n",
       " 'none',\n",
       " 'downloading',\n",
       " 'ah',\n",
       " 'none',\n",
       " 'open',\n",
       " 'blank',\n",
       " 'really',\n",
       " 'use',\n",
       " 'believe',\n",
       " 'people',\n",
       " 'say',\n",
       " 'junsuh',\n",
       " 'wrote',\n",
       " 'review',\n",
       " 'order',\n",
       " 'use',\n",
       " 'open']"
      ]
     },
     "execution_count": 175,
     "metadata": {},
     "output_type": "execute_result"
    }
   ],
   "source": [
    "[j for i in df['feedback'] for j in i.strip().split()][1:22]"
   ]
  },
  {
   "cell_type": "code",
   "execution_count": 177,
   "metadata": {},
   "outputs": [
    {
     "name": "stdout",
     "output_type": "stream",
     "text": [
      "Most used words:  ['aaaaaalی', 'aaaaaalیst', 'aaaaaasome', 'aaaaah', 'aaaaaliiiiyeeeee', 'aaaaaly', 'aaaaalyyyyyy', 'aaaaalیh', 'aaaaam', 'aaaaarrrrgggghhhh', 'aaaaassassss', 'aaaaassssssuuuuuu', 'aaaaaàa', 'aaaaaāaaaaaaaaa', 'aaaaf', 'aaaah', 'aaaahhh', 'aaaaj', 'aaaaly', 'aaaalyh', 'aaaamoooo', 'aaaantes', 'aaaanu', 'aaaanuttto', 'aaaawwwweeessssooommmmeeee', 'aaaber', 'aaah', 'aaahmt', 'aaaly', 'aaama', 'aaasaa', 'aaassa', 'aaavoli', 'aaawweesome', 'aaayib', 'aab', 'aabaababh', 'aaby', 'aaccidentes', 'aacha', 'aachuih', 'aad', 'aadaad', 'aadarha', 'aaddress', 'aadityjriy', 'aadlk', 'aadlo', 'aadmi', 'aadsh']\n"
     ]
    }
   ],
   "source": [
    "#bag of words\n",
    "from sklearn.feature_extraction.text import CountVectorizer\n",
    "max_features=400000\n",
    "text_list = [j for i in df['feedback'] for j in i.strip().split()]\n",
    "cou_vec=CountVectorizer(max_features=max_features)\n",
    "sparce_matrix=cou_vec.fit_transform(text_list)\n",
    "all_words=cou_vec.get_feature_names()\n",
    "print(\"Most used words: \",all_words[50:100])"
   ]
  },
  {
   "cell_type": "code",
   "execution_count": 181,
   "metadata": {},
   "outputs": [
    {
     "name": "stdout",
     "output_type": "stream",
     "text": [
      "[('none', 125053), ('good', 72544), ('app', 63425), ('map', 37549), ('value', 33810), ('use', 26444), ('great', 25107), ('time', 22888), ('best', 21390), ('update', 21219), ('google', 19713), ('route', 19555), ('application', 17983), ('excellent', 17170), ('work', 16755), ('nice', 16694), ('like', 15961), ('waze', 15687), ('gps', 14550), ('love', 14457)]\n"
     ]
    }
   ],
   "source": [
    "# Count frequencies of the vocabulary terms\n",
    "fdist = nltk.FreqDist(text_list)\n",
    "\n",
    "# fdist is essentially a Python dictionary\n",
    "tfpairs = fdist.items()\n",
    "\n",
    "# Access the frequency of a given term.  \n",
    "vocabulary = [tok for (tok, freq) in tfpairs] # or fdist.keys() would work too\n",
    "\n",
    "common = fdist.most_common(20)\n",
    "print(common)"
   ]
  },
  {
   "cell_type": "code",
   "execution_count": 184,
   "metadata": {},
   "outputs": [
    {
     "data": {
      "image/png": "[encoded data removed]",
      "text/plain": [
       "<Figure size 864x864 with 1 Axes>"
      ]
     },
     "metadata": {
      "needs_background": "light"
     },
     "output_type": "display_data"
    }
   ],
   "source": [
    "from wordcloud import WordCloud\n",
    "plt.subplots(figsize=(12,12))\n",
    "wordcloud=WordCloud(background_color=\"white\",width=1024,height=768).generate(\" \".join(vocabulary))\n",
    "plt.imshow(wordcloud)\n",
    "plt.title('Word Cloud - User Review')\n",
    "plt.show()"
   ]
  },
  {
   "cell_type": "code",
   "execution_count": null,
   "metadata": {},
   "outputs": [],
   "source": []
  }
 ],
 "metadata": {
  "kernelspec": {
   "display_name": "Python 3",
   "language": "python",
   "name": "python3"
  },
  "language_info": {
   "codemirror_mode": {
    "name": "ipython",
    "version": 3
   },
   "file_extension": ".py",
   "mimetype": "text/x-python",
   "name": "python",
   "nbconvert_exporter": "python",
   "pygments_lexer": "ipython3",
   "version": "3.6.8"
  }
 },
 "nbformat": 4,
 "nbformat_minor": 2
}
