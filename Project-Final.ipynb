{
 "cells": [
  {
   "cell_type": "code",
   "execution_count": 1,
   "metadata": {},
   "outputs": [],
   "source": [
    "import warnings\n",
    "warnings.filterwarnings('ignore')"
   ]
  },
  {
   "cell_type": "code",
   "execution_count": 2,
   "metadata": {},
   "outputs": [],
   "source": [
    "import pandas as pd\n",
    "import os"
   ]
  },
  {
   "cell_type": "code",
   "execution_count": 3,
   "metadata": {},
   "outputs": [],
   "source": [
    "import matplotlib.pyplot as plt\n",
    "%matplotlib inline"
   ]
  },
  {
   "cell_type": "code",
   "execution_count": 4,
   "metadata": {},
   "outputs": [
    {
     "data": {
      "text/plain": [
       "'C:\\\\Users\\\\Yanhong Simokat\\\\Desktop\\\\DePaul\\\\DSC478\\\\homework'"
      ]
     },
     "execution_count": 4,
     "metadata": {},
     "output_type": "execute_result"
    }
   ],
   "source": [
    "os.getcwd()"
   ]
  },
  {
   "cell_type": "code",
   "execution_count": 5,
   "metadata": {},
   "outputs": [],
   "source": [
    "#Load data \n",
    "data = pd.read_csv(\"train_V2.csv\")"
   ]
  },
  {
   "cell_type": "code",
   "execution_count": 6,
   "metadata": {},
   "outputs": [
    {
     "data": {
      "text/html": [
       "<div>\n",
       "<style scoped>\n",
       "    .dataframe tbody tr th:only-of-type {\n",
       "        vertical-align: middle;\n",
       "    }\n",
       "\n",
       "    .dataframe tbody tr th {\n",
       "        vertical-align: top;\n",
       "    }\n",
       "\n",
       "    .dataframe thead th {\n",
       "        text-align: right;\n",
       "    }\n",
       "</style>\n",
       "<table border=\"1\" class=\"dataframe\">\n",
       "  <thead>\n",
       "    <tr style=\"text-align: right;\">\n",
       "      <th></th>\n",
       "      <th>Id</th>\n",
       "      <th>groupId</th>\n",
       "      <th>matchId</th>\n",
       "      <th>assists</th>\n",
       "      <th>boosts</th>\n",
       "      <th>damageDealt</th>\n",
       "      <th>DBNOs</th>\n",
       "      <th>headshotKills</th>\n",
       "      <th>heals</th>\n",
       "      <th>killPlace</th>\n",
       "      <th>...</th>\n",
       "      <th>revives</th>\n",
       "      <th>rideDistance</th>\n",
       "      <th>roadKills</th>\n",
       "      <th>swimDistance</th>\n",
       "      <th>teamKills</th>\n",
       "      <th>vehicleDestroys</th>\n",
       "      <th>walkDistance</th>\n",
       "      <th>weaponsAcquired</th>\n",
       "      <th>winPoints</th>\n",
       "      <th>winPlacePerc</th>\n",
       "    </tr>\n",
       "  </thead>\n",
       "  <tbody>\n",
       "    <tr>\n",
       "      <th>0</th>\n",
       "      <td>7f96b2f878858a</td>\n",
       "      <td>4d4b580de459be</td>\n",
       "      <td>a10357fd1a4a91</td>\n",
       "      <td>0</td>\n",
       "      <td>0</td>\n",
       "      <td>0.00</td>\n",
       "      <td>0</td>\n",
       "      <td>0</td>\n",
       "      <td>0</td>\n",
       "      <td>60</td>\n",
       "      <td>...</td>\n",
       "      <td>0</td>\n",
       "      <td>0.0000</td>\n",
       "      <td>0</td>\n",
       "      <td>0.00</td>\n",
       "      <td>0</td>\n",
       "      <td>0</td>\n",
       "      <td>244.80</td>\n",
       "      <td>1</td>\n",
       "      <td>1466</td>\n",
       "      <td>0.4444</td>\n",
       "    </tr>\n",
       "    <tr>\n",
       "      <th>1</th>\n",
       "      <td>eef90569b9d03c</td>\n",
       "      <td>684d5656442f9e</td>\n",
       "      <td>aeb375fc57110c</td>\n",
       "      <td>0</td>\n",
       "      <td>0</td>\n",
       "      <td>91.47</td>\n",
       "      <td>0</td>\n",
       "      <td>0</td>\n",
       "      <td>0</td>\n",
       "      <td>57</td>\n",
       "      <td>...</td>\n",
       "      <td>0</td>\n",
       "      <td>0.0045</td>\n",
       "      <td>0</td>\n",
       "      <td>11.04</td>\n",
       "      <td>0</td>\n",
       "      <td>0</td>\n",
       "      <td>1434.00</td>\n",
       "      <td>5</td>\n",
       "      <td>0</td>\n",
       "      <td>0.6400</td>\n",
       "    </tr>\n",
       "    <tr>\n",
       "      <th>2</th>\n",
       "      <td>1eaf90ac73de72</td>\n",
       "      <td>6a4a42c3245a74</td>\n",
       "      <td>110163d8bb94ae</td>\n",
       "      <td>1</td>\n",
       "      <td>0</td>\n",
       "      <td>68.00</td>\n",
       "      <td>0</td>\n",
       "      <td>0</td>\n",
       "      <td>0</td>\n",
       "      <td>47</td>\n",
       "      <td>...</td>\n",
       "      <td>0</td>\n",
       "      <td>0.0000</td>\n",
       "      <td>0</td>\n",
       "      <td>0.00</td>\n",
       "      <td>0</td>\n",
       "      <td>0</td>\n",
       "      <td>161.80</td>\n",
       "      <td>2</td>\n",
       "      <td>0</td>\n",
       "      <td>0.7755</td>\n",
       "    </tr>\n",
       "    <tr>\n",
       "      <th>3</th>\n",
       "      <td>4616d365dd2853</td>\n",
       "      <td>a930a9c79cd721</td>\n",
       "      <td>f1f1f4ef412d7e</td>\n",
       "      <td>0</td>\n",
       "      <td>0</td>\n",
       "      <td>32.90</td>\n",
       "      <td>0</td>\n",
       "      <td>0</td>\n",
       "      <td>0</td>\n",
       "      <td>75</td>\n",
       "      <td>...</td>\n",
       "      <td>0</td>\n",
       "      <td>0.0000</td>\n",
       "      <td>0</td>\n",
       "      <td>0.00</td>\n",
       "      <td>0</td>\n",
       "      <td>0</td>\n",
       "      <td>202.70</td>\n",
       "      <td>3</td>\n",
       "      <td>0</td>\n",
       "      <td>0.1667</td>\n",
       "    </tr>\n",
       "    <tr>\n",
       "      <th>4</th>\n",
       "      <td>315c96c26c9aac</td>\n",
       "      <td>de04010b3458dd</td>\n",
       "      <td>6dc8ff871e21e6</td>\n",
       "      <td>0</td>\n",
       "      <td>0</td>\n",
       "      <td>100.00</td>\n",
       "      <td>0</td>\n",
       "      <td>0</td>\n",
       "      <td>0</td>\n",
       "      <td>45</td>\n",
       "      <td>...</td>\n",
       "      <td>0</td>\n",
       "      <td>0.0000</td>\n",
       "      <td>0</td>\n",
       "      <td>0.00</td>\n",
       "      <td>0</td>\n",
       "      <td>0</td>\n",
       "      <td>49.75</td>\n",
       "      <td>2</td>\n",
       "      <td>0</td>\n",
       "      <td>0.1875</td>\n",
       "    </tr>\n",
       "  </tbody>\n",
       "</table>\n",
       "<p>5 rows × 29 columns</p>\n",
       "</div>"
      ],
      "text/plain": [
       "               Id         groupId         matchId  assists  boosts  \\\n",
       "0  7f96b2f878858a  4d4b580de459be  a10357fd1a4a91        0       0   \n",
       "1  eef90569b9d03c  684d5656442f9e  aeb375fc57110c        0       0   \n",
       "2  1eaf90ac73de72  6a4a42c3245a74  110163d8bb94ae        1       0   \n",
       "3  4616d365dd2853  a930a9c79cd721  f1f1f4ef412d7e        0       0   \n",
       "4  315c96c26c9aac  de04010b3458dd  6dc8ff871e21e6        0       0   \n",
       "\n",
       "   damageDealt  DBNOs  headshotKills  heals  killPlace      ...       revives  \\\n",
       "0         0.00      0              0      0         60      ...             0   \n",
       "1        91.47      0              0      0         57      ...             0   \n",
       "2        68.00      0              0      0         47      ...             0   \n",
       "3        32.90      0              0      0         75      ...             0   \n",
       "4       100.00      0              0      0         45      ...             0   \n",
       "\n",
       "   rideDistance  roadKills  swimDistance  teamKills vehicleDestroys  \\\n",
       "0        0.0000          0          0.00          0               0   \n",
       "1        0.0045          0         11.04          0               0   \n",
       "2        0.0000          0          0.00          0               0   \n",
       "3        0.0000          0          0.00          0               0   \n",
       "4        0.0000          0          0.00          0               0   \n",
       "\n",
       "   walkDistance  weaponsAcquired  winPoints  winPlacePerc  \n",
       "0        244.80                1       1466        0.4444  \n",
       "1       1434.00                5          0        0.6400  \n",
       "2        161.80                2          0        0.7755  \n",
       "3        202.70                3          0        0.1667  \n",
       "4         49.75                2          0        0.1875  \n",
       "\n",
       "[5 rows x 29 columns]"
      ]
     },
     "execution_count": 6,
     "metadata": {},
     "output_type": "execute_result"
    }
   ],
   "source": [
    "data.head()"
   ]
  },
  {
   "cell_type": "code",
   "execution_count": 7,
   "metadata": {},
   "outputs": [
    {
     "data": {
      "text/plain": [
       "(4446966, 29)"
      ]
     },
     "execution_count": 7,
     "metadata": {},
     "output_type": "execute_result"
    }
   ],
   "source": [
    "data.shape"
   ]
  },
  {
   "cell_type": "code",
   "execution_count": 8,
   "metadata": {},
   "outputs": [
    {
     "data": {
      "text/plain": [
       "Id                  object\n",
       "groupId             object\n",
       "matchId             object\n",
       "assists              int64\n",
       "boosts               int64\n",
       "damageDealt        float64\n",
       "DBNOs                int64\n",
       "headshotKills        int64\n",
       "heals                int64\n",
       "killPlace            int64\n",
       "killPoints           int64\n",
       "kills                int64\n",
       "killStreaks          int64\n",
       "longestKill        float64\n",
       "matchDuration        int64\n",
       "matchType           object\n",
       "maxPlace             int64\n",
       "numGroups            int64\n",
       "rankPoints           int64\n",
       "revives              int64\n",
       "rideDistance       float64\n",
       "roadKills            int64\n",
       "swimDistance       float64\n",
       "teamKills            int64\n",
       "vehicleDestroys      int64\n",
       "walkDistance       float64\n",
       "weaponsAcquired      int64\n",
       "winPoints            int64\n",
       "winPlacePerc       float64\n",
       "dtype: object"
      ]
     },
     "execution_count": 8,
     "metadata": {},
     "output_type": "execute_result"
    }
   ],
   "source": [
    "data.dtypes"
   ]
  },
  {
   "cell_type": "code",
   "execution_count": 9,
   "metadata": {},
   "outputs": [
    {
     "data": {
      "text/plain": [
       "(4446966, 25)"
      ]
     },
     "execution_count": 9,
     "metadata": {},
     "output_type": "execute_result"
    }
   ],
   "source": [
    "#reset index\n",
    "data = data.drop(['Id','groupId','matchId','matchType'],axis=1)\n",
    "data.shape"
   ]
  },
  {
   "cell_type": "code",
   "execution_count": 10,
   "metadata": {},
   "outputs": [
    {
     "data": {
      "text/html": [
       "<div>\n",
       "<style scoped>\n",
       "    .dataframe tbody tr th:only-of-type {\n",
       "        vertical-align: middle;\n",
       "    }\n",
       "\n",
       "    .dataframe tbody tr th {\n",
       "        vertical-align: top;\n",
       "    }\n",
       "\n",
       "    .dataframe thead th {\n",
       "        text-align: right;\n",
       "    }\n",
       "</style>\n",
       "<table border=\"1\" class=\"dataframe\">\n",
       "  <thead>\n",
       "    <tr style=\"text-align: right;\">\n",
       "      <th></th>\n",
       "      <th>assists</th>\n",
       "      <th>boosts</th>\n",
       "      <th>damageDealt</th>\n",
       "      <th>DBNOs</th>\n",
       "      <th>headshotKills</th>\n",
       "      <th>heals</th>\n",
       "      <th>killPlace</th>\n",
       "      <th>killPoints</th>\n",
       "      <th>kills</th>\n",
       "      <th>killStreaks</th>\n",
       "      <th>...</th>\n",
       "      <th>revives</th>\n",
       "      <th>rideDistance</th>\n",
       "      <th>roadKills</th>\n",
       "      <th>swimDistance</th>\n",
       "      <th>teamKills</th>\n",
       "      <th>vehicleDestroys</th>\n",
       "      <th>walkDistance</th>\n",
       "      <th>weaponsAcquired</th>\n",
       "      <th>winPoints</th>\n",
       "      <th>winPlacePerc</th>\n",
       "    </tr>\n",
       "  </thead>\n",
       "  <tbody>\n",
       "    <tr>\n",
       "      <th>0</th>\n",
       "      <td>0</td>\n",
       "      <td>0</td>\n",
       "      <td>0.00</td>\n",
       "      <td>0</td>\n",
       "      <td>0</td>\n",
       "      <td>0</td>\n",
       "      <td>60</td>\n",
       "      <td>1241</td>\n",
       "      <td>0</td>\n",
       "      <td>0</td>\n",
       "      <td>...</td>\n",
       "      <td>0</td>\n",
       "      <td>0.0000</td>\n",
       "      <td>0</td>\n",
       "      <td>0.00</td>\n",
       "      <td>0</td>\n",
       "      <td>0</td>\n",
       "      <td>244.80</td>\n",
       "      <td>1</td>\n",
       "      <td>1466</td>\n",
       "      <td>0.4444</td>\n",
       "    </tr>\n",
       "    <tr>\n",
       "      <th>1</th>\n",
       "      <td>0</td>\n",
       "      <td>0</td>\n",
       "      <td>91.47</td>\n",
       "      <td>0</td>\n",
       "      <td>0</td>\n",
       "      <td>0</td>\n",
       "      <td>57</td>\n",
       "      <td>0</td>\n",
       "      <td>0</td>\n",
       "      <td>0</td>\n",
       "      <td>...</td>\n",
       "      <td>0</td>\n",
       "      <td>0.0045</td>\n",
       "      <td>0</td>\n",
       "      <td>11.04</td>\n",
       "      <td>0</td>\n",
       "      <td>0</td>\n",
       "      <td>1434.00</td>\n",
       "      <td>5</td>\n",
       "      <td>0</td>\n",
       "      <td>0.6400</td>\n",
       "    </tr>\n",
       "    <tr>\n",
       "      <th>2</th>\n",
       "      <td>1</td>\n",
       "      <td>0</td>\n",
       "      <td>68.00</td>\n",
       "      <td>0</td>\n",
       "      <td>0</td>\n",
       "      <td>0</td>\n",
       "      <td>47</td>\n",
       "      <td>0</td>\n",
       "      <td>0</td>\n",
       "      <td>0</td>\n",
       "      <td>...</td>\n",
       "      <td>0</td>\n",
       "      <td>0.0000</td>\n",
       "      <td>0</td>\n",
       "      <td>0.00</td>\n",
       "      <td>0</td>\n",
       "      <td>0</td>\n",
       "      <td>161.80</td>\n",
       "      <td>2</td>\n",
       "      <td>0</td>\n",
       "      <td>0.7755</td>\n",
       "    </tr>\n",
       "    <tr>\n",
       "      <th>3</th>\n",
       "      <td>0</td>\n",
       "      <td>0</td>\n",
       "      <td>32.90</td>\n",
       "      <td>0</td>\n",
       "      <td>0</td>\n",
       "      <td>0</td>\n",
       "      <td>75</td>\n",
       "      <td>0</td>\n",
       "      <td>0</td>\n",
       "      <td>0</td>\n",
       "      <td>...</td>\n",
       "      <td>0</td>\n",
       "      <td>0.0000</td>\n",
       "      <td>0</td>\n",
       "      <td>0.00</td>\n",
       "      <td>0</td>\n",
       "      <td>0</td>\n",
       "      <td>202.70</td>\n",
       "      <td>3</td>\n",
       "      <td>0</td>\n",
       "      <td>0.1667</td>\n",
       "    </tr>\n",
       "    <tr>\n",
       "      <th>4</th>\n",
       "      <td>0</td>\n",
       "      <td>0</td>\n",
       "      <td>100.00</td>\n",
       "      <td>0</td>\n",
       "      <td>0</td>\n",
       "      <td>0</td>\n",
       "      <td>45</td>\n",
       "      <td>0</td>\n",
       "      <td>1</td>\n",
       "      <td>1</td>\n",
       "      <td>...</td>\n",
       "      <td>0</td>\n",
       "      <td>0.0000</td>\n",
       "      <td>0</td>\n",
       "      <td>0.00</td>\n",
       "      <td>0</td>\n",
       "      <td>0</td>\n",
       "      <td>49.75</td>\n",
       "      <td>2</td>\n",
       "      <td>0</td>\n",
       "      <td>0.1875</td>\n",
       "    </tr>\n",
       "  </tbody>\n",
       "</table>\n",
       "<p>5 rows × 25 columns</p>\n",
       "</div>"
      ],
      "text/plain": [
       "   assists  boosts  damageDealt  DBNOs  headshotKills  heals  killPlace  \\\n",
       "0        0       0         0.00      0              0      0         60   \n",
       "1        0       0        91.47      0              0      0         57   \n",
       "2        1       0        68.00      0              0      0         47   \n",
       "3        0       0        32.90      0              0      0         75   \n",
       "4        0       0       100.00      0              0      0         45   \n",
       "\n",
       "   killPoints  kills  killStreaks      ...       revives  rideDistance  \\\n",
       "0        1241      0            0      ...             0        0.0000   \n",
       "1           0      0            0      ...             0        0.0045   \n",
       "2           0      0            0      ...             0        0.0000   \n",
       "3           0      0            0      ...             0        0.0000   \n",
       "4           0      1            1      ...             0        0.0000   \n",
       "\n",
       "   roadKills  swimDistance  teamKills  vehicleDestroys  walkDistance  \\\n",
       "0          0          0.00          0                0        244.80   \n",
       "1          0         11.04          0                0       1434.00   \n",
       "2          0          0.00          0                0        161.80   \n",
       "3          0          0.00          0                0        202.70   \n",
       "4          0          0.00          0                0         49.75   \n",
       "\n",
       "   weaponsAcquired  winPoints  winPlacePerc  \n",
       "0                1       1466        0.4444  \n",
       "1                5          0        0.6400  \n",
       "2                2          0        0.7755  \n",
       "3                3          0        0.1667  \n",
       "4                2          0        0.1875  \n",
       "\n",
       "[5 rows x 25 columns]"
      ]
     },
     "execution_count": 10,
     "metadata": {},
     "output_type": "execute_result"
    }
   ],
   "source": [
    "data.head()"
   ]
  },
  {
   "cell_type": "code",
   "execution_count": 11,
   "metadata": {},
   "outputs": [
    {
     "data": {
      "text/plain": [
       "assists            0\n",
       "boosts             0\n",
       "damageDealt        0\n",
       "DBNOs              0\n",
       "headshotKills      0\n",
       "heals              0\n",
       "killPlace          0\n",
       "killPoints         0\n",
       "kills              0\n",
       "killStreaks        0\n",
       "longestKill        0\n",
       "matchDuration      0\n",
       "maxPlace           0\n",
       "numGroups          0\n",
       "rankPoints         0\n",
       "revives            0\n",
       "rideDistance       0\n",
       "roadKills          0\n",
       "swimDistance       0\n",
       "teamKills          0\n",
       "vehicleDestroys    0\n",
       "walkDistance       0\n",
       "weaponsAcquired    0\n",
       "winPoints          0\n",
       "winPlacePerc       1\n",
       "dtype: int64"
      ]
     },
     "execution_count": 11,
     "metadata": {},
     "output_type": "execute_result"
    }
   ],
   "source": [
    "#check for missing data\n",
    "data.isnull().sum()"
   ]
  },
  {
   "cell_type": "code",
   "execution_count": 12,
   "metadata": {},
   "outputs": [
    {
     "data": {
      "text/plain": [
       "0    0.4444\n",
       "1    0.6400\n",
       "2    0.7755\n",
       "3    0.1667\n",
       "4    0.1875\n",
       "Name: winPlacePerc, dtype: float64"
      ]
     },
     "execution_count": 12,
     "metadata": {},
     "output_type": "execute_result"
    }
   ],
   "source": [
    "#we see the column winPlacePerc has one missing value\n",
    "data['winPlacePerc'].head()"
   ]
  },
  {
   "cell_type": "code",
   "execution_count": 13,
   "metadata": {},
   "outputs": [],
   "source": [
    "#since the column winPlacePerc has numerical data, so let's fill-in the missing values using the attribute mean\n",
    "winPlace_mean = data['winPlacePerc'].mean()\n",
    "data['winPlacePerc'].fillna(winPlace_mean,axis=0,inplace=True)"
   ]
  },
  {
   "cell_type": "code",
   "execution_count": 14,
   "metadata": {},
   "outputs": [
    {
     "data": {
      "text/plain": [
       "0"
      ]
     },
     "execution_count": 14,
     "metadata": {},
     "output_type": "execute_result"
    }
   ],
   "source": [
    "data['winPlacePerc'].isnull().sum()"
   ]
  },
  {
   "cell_type": "code",
   "execution_count": 15,
   "metadata": {},
   "outputs": [
    {
     "data": {
      "text/html": [
       "<div>\n",
       "<style scoped>\n",
       "    .dataframe tbody tr th:only-of-type {\n",
       "        vertical-align: middle;\n",
       "    }\n",
       "\n",
       "    .dataframe tbody tr th {\n",
       "        vertical-align: top;\n",
       "    }\n",
       "\n",
       "    .dataframe thead th {\n",
       "        text-align: right;\n",
       "    }\n",
       "</style>\n",
       "<table border=\"1\" class=\"dataframe\">\n",
       "  <thead>\n",
       "    <tr style=\"text-align: right;\">\n",
       "      <th></th>\n",
       "      <th>count</th>\n",
       "      <th>mean</th>\n",
       "      <th>std</th>\n",
       "      <th>min</th>\n",
       "      <th>25%</th>\n",
       "      <th>50%</th>\n",
       "      <th>75%</th>\n",
       "      <th>max</th>\n",
       "    </tr>\n",
       "  </thead>\n",
       "  <tbody>\n",
       "    <tr>\n",
       "      <th>assists</th>\n",
       "      <td>4446966.0</td>\n",
       "      <td>0.233815</td>\n",
       "      <td>0.588573</td>\n",
       "      <td>0.0</td>\n",
       "      <td>0.0</td>\n",
       "      <td>0.0000</td>\n",
       "      <td>0.000000</td>\n",
       "      <td>22.0</td>\n",
       "    </tr>\n",
       "    <tr>\n",
       "      <th>boosts</th>\n",
       "      <td>4446966.0</td>\n",
       "      <td>1.106908</td>\n",
       "      <td>1.715794</td>\n",
       "      <td>0.0</td>\n",
       "      <td>0.0</td>\n",
       "      <td>0.0000</td>\n",
       "      <td>2.000000</td>\n",
       "      <td>33.0</td>\n",
       "    </tr>\n",
       "    <tr>\n",
       "      <th>damageDealt</th>\n",
       "      <td>4446966.0</td>\n",
       "      <td>130.717138</td>\n",
       "      <td>170.780621</td>\n",
       "      <td>0.0</td>\n",
       "      <td>0.0</td>\n",
       "      <td>84.2400</td>\n",
       "      <td>186.000000</td>\n",
       "      <td>6616.0</td>\n",
       "    </tr>\n",
       "    <tr>\n",
       "      <th>DBNOs</th>\n",
       "      <td>4446966.0</td>\n",
       "      <td>0.657876</td>\n",
       "      <td>1.145743</td>\n",
       "      <td>0.0</td>\n",
       "      <td>0.0</td>\n",
       "      <td>0.0000</td>\n",
       "      <td>1.000000</td>\n",
       "      <td>53.0</td>\n",
       "    </tr>\n",
       "    <tr>\n",
       "      <th>headshotKills</th>\n",
       "      <td>4446966.0</td>\n",
       "      <td>0.226820</td>\n",
       "      <td>0.602155</td>\n",
       "      <td>0.0</td>\n",
       "      <td>0.0</td>\n",
       "      <td>0.0000</td>\n",
       "      <td>0.000000</td>\n",
       "      <td>64.0</td>\n",
       "    </tr>\n",
       "    <tr>\n",
       "      <th>heals</th>\n",
       "      <td>4446966.0</td>\n",
       "      <td>1.370147</td>\n",
       "      <td>2.679982</td>\n",
       "      <td>0.0</td>\n",
       "      <td>0.0</td>\n",
       "      <td>0.0000</td>\n",
       "      <td>2.000000</td>\n",
       "      <td>80.0</td>\n",
       "    </tr>\n",
       "    <tr>\n",
       "      <th>killPlace</th>\n",
       "      <td>4446966.0</td>\n",
       "      <td>47.599350</td>\n",
       "      <td>27.462937</td>\n",
       "      <td>1.0</td>\n",
       "      <td>24.0</td>\n",
       "      <td>47.0000</td>\n",
       "      <td>71.000000</td>\n",
       "      <td>101.0</td>\n",
       "    </tr>\n",
       "    <tr>\n",
       "      <th>killPoints</th>\n",
       "      <td>4446966.0</td>\n",
       "      <td>505.006042</td>\n",
       "      <td>627.504896</td>\n",
       "      <td>0.0</td>\n",
       "      <td>0.0</td>\n",
       "      <td>0.0000</td>\n",
       "      <td>1172.000000</td>\n",
       "      <td>2170.0</td>\n",
       "    </tr>\n",
       "    <tr>\n",
       "      <th>kills</th>\n",
       "      <td>4446966.0</td>\n",
       "      <td>0.924783</td>\n",
       "      <td>1.558445</td>\n",
       "      <td>0.0</td>\n",
       "      <td>0.0</td>\n",
       "      <td>0.0000</td>\n",
       "      <td>1.000000</td>\n",
       "      <td>72.0</td>\n",
       "    </tr>\n",
       "    <tr>\n",
       "      <th>killStreaks</th>\n",
       "      <td>4446966.0</td>\n",
       "      <td>0.543955</td>\n",
       "      <td>0.710972</td>\n",
       "      <td>0.0</td>\n",
       "      <td>0.0</td>\n",
       "      <td>0.0000</td>\n",
       "      <td>1.000000</td>\n",
       "      <td>20.0</td>\n",
       "    </tr>\n",
       "    <tr>\n",
       "      <th>longestKill</th>\n",
       "      <td>4446966.0</td>\n",
       "      <td>22.997595</td>\n",
       "      <td>50.972619</td>\n",
       "      <td>0.0</td>\n",
       "      <td>0.0</td>\n",
       "      <td>0.0000</td>\n",
       "      <td>21.320000</td>\n",
       "      <td>1094.0</td>\n",
       "    </tr>\n",
       "    <tr>\n",
       "      <th>matchDuration</th>\n",
       "      <td>4446966.0</td>\n",
       "      <td>1579.506440</td>\n",
       "      <td>258.739856</td>\n",
       "      <td>9.0</td>\n",
       "      <td>1367.0</td>\n",
       "      <td>1438.0000</td>\n",
       "      <td>1851.000000</td>\n",
       "      <td>2237.0</td>\n",
       "    </tr>\n",
       "    <tr>\n",
       "      <th>maxPlace</th>\n",
       "      <td>4446966.0</td>\n",
       "      <td>44.504670</td>\n",
       "      <td>23.828105</td>\n",
       "      <td>1.0</td>\n",
       "      <td>28.0</td>\n",
       "      <td>30.0000</td>\n",
       "      <td>49.000000</td>\n",
       "      <td>100.0</td>\n",
       "    </tr>\n",
       "    <tr>\n",
       "      <th>numGroups</th>\n",
       "      <td>4446966.0</td>\n",
       "      <td>43.007593</td>\n",
       "      <td>23.289495</td>\n",
       "      <td>1.0</td>\n",
       "      <td>27.0</td>\n",
       "      <td>30.0000</td>\n",
       "      <td>47.000000</td>\n",
       "      <td>100.0</td>\n",
       "    </tr>\n",
       "    <tr>\n",
       "      <th>rankPoints</th>\n",
       "      <td>4446966.0</td>\n",
       "      <td>892.010457</td>\n",
       "      <td>736.647779</td>\n",
       "      <td>-1.0</td>\n",
       "      <td>-1.0</td>\n",
       "      <td>1443.0000</td>\n",
       "      <td>1500.000000</td>\n",
       "      <td>5910.0</td>\n",
       "    </tr>\n",
       "    <tr>\n",
       "      <th>revives</th>\n",
       "      <td>4446966.0</td>\n",
       "      <td>0.164659</td>\n",
       "      <td>0.472167</td>\n",
       "      <td>0.0</td>\n",
       "      <td>0.0</td>\n",
       "      <td>0.0000</td>\n",
       "      <td>0.000000</td>\n",
       "      <td>39.0</td>\n",
       "    </tr>\n",
       "    <tr>\n",
       "      <th>rideDistance</th>\n",
       "      <td>4446966.0</td>\n",
       "      <td>606.115669</td>\n",
       "      <td>1498.343513</td>\n",
       "      <td>0.0</td>\n",
       "      <td>0.0</td>\n",
       "      <td>0.0000</td>\n",
       "      <td>0.190975</td>\n",
       "      <td>40710.0</td>\n",
       "    </tr>\n",
       "    <tr>\n",
       "      <th>roadKills</th>\n",
       "      <td>4446966.0</td>\n",
       "      <td>0.003496</td>\n",
       "      <td>0.073373</td>\n",
       "      <td>0.0</td>\n",
       "      <td>0.0</td>\n",
       "      <td>0.0000</td>\n",
       "      <td>0.000000</td>\n",
       "      <td>18.0</td>\n",
       "    </tr>\n",
       "    <tr>\n",
       "      <th>swimDistance</th>\n",
       "      <td>4446966.0</td>\n",
       "      <td>4.509322</td>\n",
       "      <td>30.502199</td>\n",
       "      <td>0.0</td>\n",
       "      <td>0.0</td>\n",
       "      <td>0.0000</td>\n",
       "      <td>0.000000</td>\n",
       "      <td>3823.0</td>\n",
       "    </tr>\n",
       "    <tr>\n",
       "      <th>teamKills</th>\n",
       "      <td>4446966.0</td>\n",
       "      <td>0.023868</td>\n",
       "      <td>0.167394</td>\n",
       "      <td>0.0</td>\n",
       "      <td>0.0</td>\n",
       "      <td>0.0000</td>\n",
       "      <td>0.000000</td>\n",
       "      <td>12.0</td>\n",
       "    </tr>\n",
       "    <tr>\n",
       "      <th>vehicleDestroys</th>\n",
       "      <td>4446966.0</td>\n",
       "      <td>0.007918</td>\n",
       "      <td>0.092612</td>\n",
       "      <td>0.0</td>\n",
       "      <td>0.0</td>\n",
       "      <td>0.0000</td>\n",
       "      <td>0.000000</td>\n",
       "      <td>5.0</td>\n",
       "    </tr>\n",
       "    <tr>\n",
       "      <th>walkDistance</th>\n",
       "      <td>4446966.0</td>\n",
       "      <td>1154.217859</td>\n",
       "      <td>1183.497042</td>\n",
       "      <td>0.0</td>\n",
       "      <td>155.1</td>\n",
       "      <td>685.6000</td>\n",
       "      <td>1976.000000</td>\n",
       "      <td>25780.0</td>\n",
       "    </tr>\n",
       "    <tr>\n",
       "      <th>weaponsAcquired</th>\n",
       "      <td>4446966.0</td>\n",
       "      <td>3.660488</td>\n",
       "      <td>2.456544</td>\n",
       "      <td>0.0</td>\n",
       "      <td>2.0</td>\n",
       "      <td>3.0000</td>\n",
       "      <td>5.000000</td>\n",
       "      <td>236.0</td>\n",
       "    </tr>\n",
       "    <tr>\n",
       "      <th>winPoints</th>\n",
       "      <td>4446966.0</td>\n",
       "      <td>606.460131</td>\n",
       "      <td>739.700444</td>\n",
       "      <td>0.0</td>\n",
       "      <td>0.0</td>\n",
       "      <td>0.0000</td>\n",
       "      <td>1495.000000</td>\n",
       "      <td>2013.0</td>\n",
       "    </tr>\n",
       "    <tr>\n",
       "      <th>winPlacePerc</th>\n",
       "      <td>4446966.0</td>\n",
       "      <td>0.472822</td>\n",
       "      <td>0.307405</td>\n",
       "      <td>0.0</td>\n",
       "      <td>0.2</td>\n",
       "      <td>0.4583</td>\n",
       "      <td>0.740700</td>\n",
       "      <td>1.0</td>\n",
       "    </tr>\n",
       "  </tbody>\n",
       "</table>\n",
       "</div>"
      ],
      "text/plain": [
       "                     count         mean          std  min     25%        50%  \\\n",
       "assists          4446966.0     0.233815     0.588573  0.0     0.0     0.0000   \n",
       "boosts           4446966.0     1.106908     1.715794  0.0     0.0     0.0000   \n",
       "damageDealt      4446966.0   130.717138   170.780621  0.0     0.0    84.2400   \n",
       "DBNOs            4446966.0     0.657876     1.145743  0.0     0.0     0.0000   \n",
       "headshotKills    4446966.0     0.226820     0.602155  0.0     0.0     0.0000   \n",
       "heals            4446966.0     1.370147     2.679982  0.0     0.0     0.0000   \n",
       "killPlace        4446966.0    47.599350    27.462937  1.0    24.0    47.0000   \n",
       "killPoints       4446966.0   505.006042   627.504896  0.0     0.0     0.0000   \n",
       "kills            4446966.0     0.924783     1.558445  0.0     0.0     0.0000   \n",
       "killStreaks      4446966.0     0.543955     0.710972  0.0     0.0     0.0000   \n",
       "longestKill      4446966.0    22.997595    50.972619  0.0     0.0     0.0000   \n",
       "matchDuration    4446966.0  1579.506440   258.739856  9.0  1367.0  1438.0000   \n",
       "maxPlace         4446966.0    44.504670    23.828105  1.0    28.0    30.0000   \n",
       "numGroups        4446966.0    43.007593    23.289495  1.0    27.0    30.0000   \n",
       "rankPoints       4446966.0   892.010457   736.647779 -1.0    -1.0  1443.0000   \n",
       "revives          4446966.0     0.164659     0.472167  0.0     0.0     0.0000   \n",
       "rideDistance     4446966.0   606.115669  1498.343513  0.0     0.0     0.0000   \n",
       "roadKills        4446966.0     0.003496     0.073373  0.0     0.0     0.0000   \n",
       "swimDistance     4446966.0     4.509322    30.502199  0.0     0.0     0.0000   \n",
       "teamKills        4446966.0     0.023868     0.167394  0.0     0.0     0.0000   \n",
       "vehicleDestroys  4446966.0     0.007918     0.092612  0.0     0.0     0.0000   \n",
       "walkDistance     4446966.0  1154.217859  1183.497042  0.0   155.1   685.6000   \n",
       "weaponsAcquired  4446966.0     3.660488     2.456544  0.0     2.0     3.0000   \n",
       "winPoints        4446966.0   606.460131   739.700444  0.0     0.0     0.0000   \n",
       "winPlacePerc     4446966.0     0.472822     0.307405  0.0     0.2     0.4583   \n",
       "\n",
       "                         75%      max  \n",
       "assists             0.000000     22.0  \n",
       "boosts              2.000000     33.0  \n",
       "damageDealt       186.000000   6616.0  \n",
       "DBNOs               1.000000     53.0  \n",
       "headshotKills       0.000000     64.0  \n",
       "heals               2.000000     80.0  \n",
       "killPlace          71.000000    101.0  \n",
       "killPoints       1172.000000   2170.0  \n",
       "kills               1.000000     72.0  \n",
       "killStreaks         1.000000     20.0  \n",
       "longestKill        21.320000   1094.0  \n",
       "matchDuration    1851.000000   2237.0  \n",
       "maxPlace           49.000000    100.0  \n",
       "numGroups          47.000000    100.0  \n",
       "rankPoints       1500.000000   5910.0  \n",
       "revives             0.000000     39.0  \n",
       "rideDistance        0.190975  40710.0  \n",
       "roadKills           0.000000     18.0  \n",
       "swimDistance        0.000000   3823.0  \n",
       "teamKills           0.000000     12.0  \n",
       "vehicleDestroys     0.000000      5.0  \n",
       "walkDistance     1976.000000  25780.0  \n",
       "weaponsAcquired     5.000000    236.0  \n",
       "winPoints        1495.000000   2013.0  \n",
       "winPlacePerc        0.740700      1.0  "
      ]
     },
     "execution_count": 15,
     "metadata": {},
     "output_type": "execute_result"
    }
   ],
   "source": [
    "data.describe().T"
   ]
  },
  {
   "cell_type": "code",
   "execution_count": 16,
   "metadata": {},
   "outputs": [
    {
     "data": {
      "image/png": "[encoded data removed]",
      "text/plain": [
       "<Figure size 432x288 with 1 Axes>"
      ]
     },
     "metadata": {},
     "output_type": "display_data"
    }
   ],
   "source": [
    "plt.hist(data.assists,bins=5,alpha=0.75,color='green')\n",
    "plt.xlabel('assists ')\n",
    "plt.ylabel('Count')\n",
    "plt.title('Histogram of assists')\n",
    "plt.grid(True)\n",
    "plt.show()"
   ]
  },
  {
   "cell_type": "code",
   "execution_count": 17,
   "metadata": {},
   "outputs": [
    {
     "data": {
      "image/png": "[encoded data removed]",
      "text/plain": [
       "<Figure size 432x288 with 1 Axes>"
      ]
     },
     "metadata": {},
     "output_type": "display_data"
    }
   ],
   "source": [
    "plt.hist(data.boosts ,bins=10,alpha=0.75,color='green')\n",
    "plt.xlabel('boosts')\n",
    "plt.ylabel('Count')\n",
    "plt.title('Histogram of boosts')\n",
    "plt.grid(True)\n",
    "plt.show()"
   ]
  },
  {
   "cell_type": "code",
   "execution_count": 18,
   "metadata": {},
   "outputs": [
    {
     "data": {
      "image/png": "[encoded data removed]",
      "text/plain": [
       "<Figure size 432x288 with 1 Axes>"
      ]
     },
     "metadata": {},
     "output_type": "display_data"
    }
   ],
   "source": [
    "plt.hist(data.damageDealt,bins=10,alpha=0.75,color='green')\n",
    "plt.xlabel('damageDealt')\n",
    "plt.ylabel('Count')\n",
    "plt.title('Histogram of damageDealt')\n",
    "plt.grid(True)\n",
    "plt.show()"
   ]
  },
  {
   "cell_type": "code",
   "execution_count": 19,
   "metadata": {},
   "outputs": [
    {
     "data": {
      "image/png": "[encoded data removed]",
      "text/plain": [
       "<Figure size 432x288 with 1 Axes>"
      ]
     },
     "metadata": {},
     "output_type": "display_data"
    }
   ],
   "source": [
    "plt.hist(data.DBNOs,bins=10,alpha=0.75,color='green')\n",
    "plt.xlabel('DBNOs')\n",
    "plt.ylabel('Count')\n",
    "plt.title('Histogram of DBNOs')\n",
    "plt.grid(True)\n",
    "plt.show()"
   ]
  },
  {
   "cell_type": "code",
   "execution_count": 20,
   "metadata": {},
   "outputs": [
    {
     "data": {
      "image/png": "[encoded data removed]",
      "text/plain": [
       "<Figure size 432x288 with 1 Axes>"
      ]
     },
     "metadata": {},
     "output_type": "display_data"
    }
   ],
   "source": [
    "plt.hist(data.headshotKills,bins=10,alpha=0.75,color='green')\n",
    "plt.xlabel('headshotKills')\n",
    "plt.ylabel('Count')\n",
    "plt.title('Histogram of headshotKills')\n",
    "plt.grid(True)\n",
    "plt.show()"
   ]
  },
  {
   "cell_type": "code",
   "execution_count": 21,
   "metadata": {},
   "outputs": [
    {
     "data": {
      "image/png": "[encoded data removed]",
      "text/plain": [
       "<Figure size 432x288 with 1 Axes>"
      ]
     },
     "metadata": {},
     "output_type": "display_data"
    }
   ],
   "source": [
    "plt.hist(data.heals,bins=10,alpha=0.75,color='green')\n",
    "plt.xlabel('heals')\n",
    "plt.ylabel('Count')\n",
    "plt.title('Histogram of heals')\n",
    "plt.grid(True)\n",
    "plt.show()"
   ]
  },
  {
   "cell_type": "code",
   "execution_count": 22,
   "metadata": {},
   "outputs": [
    {
     "data": {
      "image/png": "[encoded data removed]",
      "text/plain": [
       "<Figure size 432x288 with 1 Axes>"
      ]
     },
     "metadata": {},
     "output_type": "display_data"
    }
   ],
   "source": [
    "plt.hist(data.killPlace,bins=10,alpha=0.75,color='green')\n",
    "plt.xlabel('killPlace')\n",
    "plt.ylabel('Count')\n",
    "plt.title('Histogram of killPlace')\n",
    "plt.grid(True)\n",
    "plt.show()"
   ]
  },
  {
   "cell_type": "code",
   "execution_count": 23,
   "metadata": {},
   "outputs": [
    {
     "data": {
      "image/png": "[encoded data removed]",
      "text/plain": [
       "<Figure size 432x288 with 1 Axes>"
      ]
     },
     "metadata": {},
     "output_type": "display_data"
    }
   ],
   "source": [
    "plt.hist(data.killPoints,bins=10,alpha=0.75,color='green')\n",
    "plt.xlabel('killPoints')\n",
    "plt.ylabel('Count')\n",
    "plt.title('Histogram of killPoints')\n",
    "plt.grid(True)\n",
    "plt.show()"
   ]
  },
  {
   "cell_type": "code",
   "execution_count": 24,
   "metadata": {},
   "outputs": [
    {
     "data": {
      "image/png": "[encoded data removed]",
      "text/plain": [
       "<Figure size 432x288 with 1 Axes>"
      ]
     },
     "metadata": {},
     "output_type": "display_data"
    }
   ],
   "source": [
    "plt.hist(data.kills,bins=10,alpha=0.75,color='green')\n",
    "plt.xlabel('kills')\n",
    "plt.ylabel('Count')\n",
    "plt.title('Histogram of kills')\n",
    "plt.grid(True)\n",
    "plt.show()"
   ]
  },
  {
   "cell_type": "code",
   "execution_count": 25,
   "metadata": {},
   "outputs": [
    {
     "data": {
      "image/png": "[encoded data removed]",
      "text/plain": [
       "<Figure size 432x288 with 1 Axes>"
      ]
     },
     "metadata": {},
     "output_type": "display_data"
    }
   ],
   "source": [
    "plt.hist(data.killStreaks,bins=10,alpha=0.75,color='green')\n",
    "plt.xlabel('killStreaks')\n",
    "plt.ylabel('Count')\n",
    "plt.title('Histogram of killStreaks')\n",
    "plt.grid(True)\n",
    "plt.show()"
   ]
  },
  {
   "cell_type": "code",
   "execution_count": 26,
   "metadata": {},
   "outputs": [
    {
     "data": {
      "image/png": "[encoded data removed]",
      "text/plain": [
       "<Figure size 432x288 with 1 Axes>"
      ]
     },
     "metadata": {},
     "output_type": "display_data"
    }
   ],
   "source": [
    "plt.hist(data.longestKill,bins=10,alpha=0.75,color='green')\n",
    "plt.xlabel('longestKill')\n",
    "plt.ylabel('Count')\n",
    "plt.title('Histogram of longestKill')\n",
    "plt.grid(True)\n",
    "plt.show()"
   ]
  },
  {
   "cell_type": "code",
   "execution_count": 27,
   "metadata": {},
   "outputs": [
    {
     "data": {
      "image/png": "[encoded data removed]",
      "text/plain": [
       "<Figure size 432x288 with 1 Axes>"
      ]
     },
     "metadata": {},
     "output_type": "display_data"
    }
   ],
   "source": [
    "plt.hist(data.matchDuration,bins=10,alpha=0.75,color='green')\n",
    "plt.xlabel('matchDuration')\n",
    "plt.ylabel('Count')\n",
    "plt.title('Histogram of matchDuration')\n",
    "plt.grid(True)\n",
    "plt.show()"
   ]
  },
  {
   "cell_type": "code",
   "execution_count": 28,
   "metadata": {},
   "outputs": [
    {
     "data": {
      "image/png": "[encoded data removed]",
      "text/plain": [
       "<Figure size 432x288 with 1 Axes>"
      ]
     },
     "metadata": {},
     "output_type": "display_data"
    }
   ],
   "source": [
    "plt.hist(data.maxPlace,bins=10,alpha=0.75,color='green')\n",
    "plt.xlabel('maxPlace')\n",
    "plt.ylabel('Count')\n",
    "plt.title('Histogram of maxPlace')\n",
    "plt.grid(True)\n",
    "plt.show()"
   ]
  },
  {
   "cell_type": "code",
   "execution_count": 29,
   "metadata": {},
   "outputs": [
    {
     "data": {
      "image/png": "[encoded data removed]",
      "text/plain": [
       "<Figure size 432x288 with 1 Axes>"
      ]
     },
     "metadata": {},
     "output_type": "display_data"
    }
   ],
   "source": [
    "plt.hist(data.numGroups ,bins=10,alpha=0.75,color='green')\n",
    "plt.xlabel('numGroups ')\n",
    "plt.ylabel('Count')\n",
    "plt.title('Histogram of numGroups')\n",
    "plt.grid(True)\n",
    "plt.show()"
   ]
  },
  {
   "cell_type": "code",
   "execution_count": 30,
   "metadata": {},
   "outputs": [
    {
     "data": {
      "image/png": "[encoded data removed]",
      "text/plain": [
       "<Figure size 432x288 with 1 Axes>"
      ]
     },
     "metadata": {},
     "output_type": "display_data"
    }
   ],
   "source": [
    "plt.hist(data.rankPoints,bins=10,alpha=0.75,color='green')\n",
    "plt.xlabel('rankPoints')\n",
    "plt.ylabel('Count')\n",
    "plt.title('Histogram of rankPoints')\n",
    "plt.grid(True)\n",
    "plt.show()"
   ]
  },
  {
   "cell_type": "code",
   "execution_count": 31,
   "metadata": {},
   "outputs": [
    {
     "data": {
      "image/png": "[encoded data removed]",
      "text/plain": [
       "<Figure size 432x288 with 1 Axes>"
      ]
     },
     "metadata": {},
     "output_type": "display_data"
    }
   ],
   "source": [
    "plt.hist(data.revives ,bins=10,alpha=0.75,color='green')\n",
    "plt.xlabel('revives')\n",
    "plt.ylabel('Count')\n",
    "plt.title('Histogram of revives')\n",
    "plt.grid(True)\n",
    "plt.show()"
   ]
  },
  {
   "cell_type": "code",
   "execution_count": 32,
   "metadata": {},
   "outputs": [
    {
     "data": {
      "image/png": "[encoded data removed]",
      "text/plain": [
       "<Figure size 432x288 with 1 Axes>"
      ]
     },
     "metadata": {},
     "output_type": "display_data"
    }
   ],
   "source": [
    "plt.hist(data.rideDistance,bins=10,alpha=0.75,color='green')\n",
    "plt.xlabel('rideDistance')\n",
    "plt.ylabel('Count')\n",
    "plt.title('Histogram of rideDistance')\n",
    "plt.grid(True)\n",
    "plt.show()"
   ]
  },
  {
   "cell_type": "code",
   "execution_count": 33,
   "metadata": {},
   "outputs": [
    {
     "data": {
      "image/png": "[encoded data removed]",
      "text/plain": [
       "<Figure size 432x288 with 1 Axes>"
      ]
     },
     "metadata": {},
     "output_type": "display_data"
    }
   ],
   "source": [
    "plt.hist(data.roadKills,bins=10,alpha=0.75,color='green')\n",
    "plt.xlabel('roadKills')\n",
    "plt.ylabel('Count')\n",
    "plt.title('Histogram of roadKills')\n",
    "plt.grid(True)\n",
    "plt.show()"
   ]
  },
  {
   "cell_type": "code",
   "execution_count": 34,
   "metadata": {},
   "outputs": [
    {
     "data": {
      "image/png": "[encoded data removed]",
      "text/plain": [
       "<Figure size 432x288 with 1 Axes>"
      ]
     },
     "metadata": {},
     "output_type": "display_data"
    }
   ],
   "source": [
    "plt.hist(data.swimDistance,bins=10,alpha=0.75,color='green')\n",
    "plt.xlabel('swimDistance')\n",
    "plt.ylabel('Count')\n",
    "plt.title('Histogram of swimDistance')\n",
    "plt.grid(True)\n",
    "plt.show()"
   ]
  },
  {
   "cell_type": "code",
   "execution_count": 35,
   "metadata": {},
   "outputs": [
    {
     "data": {
      "image/png": "[encoded data removed]",
      "text/plain": [
       "<Figure size 432x288 with 1 Axes>"
      ]
     },
     "metadata": {},
     "output_type": "display_data"
    }
   ],
   "source": [
    "plt.hist(data.teamKills,bins=10,alpha=0.75,color='green')\n",
    "plt.xlabel('teamKills')\n",
    "plt.ylabel('Count')\n",
    "plt.title('Histogram of teamKills')\n",
    "plt.grid(True)\n",
    "plt.show()"
   ]
  },
  {
   "cell_type": "code",
   "execution_count": 36,
   "metadata": {},
   "outputs": [
    {
     "data": {
      "image/png": "[encoded data removed]",
      "text/plain": [
       "<Figure size 432x288 with 1 Axes>"
      ]
     },
     "metadata": {},
     "output_type": "display_data"
    }
   ],
   "source": [
    "plt.hist(data.vehicleDestroys,bins=10,alpha=0.75,color='green')\n",
    "plt.xlabel('vehicleDestroys')\n",
    "plt.ylabel('Count')\n",
    "plt.title('Histogram of vehicleDestroys')\n",
    "plt.grid(True)\n",
    "plt.show()"
   ]
  },
  {
   "cell_type": "code",
   "execution_count": 37,
   "metadata": {},
   "outputs": [
    {
     "data": {
      "image/png": "[encoded data removed]",
      "text/plain": [
       "<Figure size 432x288 with 1 Axes>"
      ]
     },
     "metadata": {},
     "output_type": "display_data"
    }
   ],
   "source": [
    "plt.hist(data.walkDistance,bins=10,alpha=0.75,color='green')\n",
    "plt.xlabel('walkDistance')\n",
    "plt.ylabel('Count')\n",
    "plt.title('Histogram of walkDistance')\n",
    "plt.grid(True)\n",
    "plt.show()"
   ]
  },
  {
   "cell_type": "code",
   "execution_count": 38,
   "metadata": {},
   "outputs": [
    {
     "data": {
      "image/png": "[encoded data removed]",
      "text/plain": [
       "<Figure size 432x288 with 1 Axes>"
      ]
     },
     "metadata": {},
     "output_type": "display_data"
    }
   ],
   "source": [
    "plt.hist(data.weaponsAcquired,bins=10,alpha=0.75,color='green')\n",
    "plt.xlabel('weaponsAcquired')\n",
    "plt.ylabel('Count')\n",
    "plt.title('Histogram of weaponsAcquired')\n",
    "plt.grid(True)\n",
    "plt.show()"
   ]
  },
  {
   "cell_type": "code",
   "execution_count": 39,
   "metadata": {},
   "outputs": [
    {
     "data": {
      "image/png": "[encoded data removed]",
      "text/plain": [
       "<Figure size 432x288 with 1 Axes>"
      ]
     },
     "metadata": {},
     "output_type": "display_data"
    }
   ],
   "source": [
    "plt.hist(data.winPoints,bins=10,alpha=0.75,color='green')\n",
    "plt.xlabel('winPoints')\n",
    "plt.ylabel('Count')\n",
    "plt.title('Histogram of winPoints')\n",
    "plt.grid(True)\n",
    "plt.show()"
   ]
  },
  {
   "cell_type": "code",
   "execution_count": 40,
   "metadata": {},
   "outputs": [
    {
     "data": {
      "image/png": "[encoded data removed]",
      "text/plain": [
       "<Figure size 432x288 with 1 Axes>"
      ]
     },
     "metadata": {},
     "output_type": "display_data"
    }
   ],
   "source": [
    "plt.hist(data.winPlacePerc,bins=10,alpha=0.75,color='green')\n",
    "plt.xlabel('winPlacePerc')\n",
    "plt.ylabel('Count')\n",
    "plt.title('Histogram of winPlacePerc')\n",
    "plt.grid(True)\n",
    "plt.show()"
   ]
  },
  {
   "cell_type": "code",
   "execution_count": 41,
   "metadata": {},
   "outputs": [],
   "source": [
    "#get correlation matrix of numerical atrributes\n",
    "corr = data.corr()"
   ]
  },
  {
   "cell_type": "code",
   "execution_count": 42,
   "metadata": {},
   "outputs": [
    {
     "name": "stdout",
     "output_type": "stream",
     "text": [
      "['assists', 'boosts', 'damageDealt', 'DBNOs', 'headshotKills', 'heals', 'killPlace', 'killPoints', 'kills', 'killStreaks', 'longestKill', 'matchDuration', 'maxPlace', 'numGroups', 'rankPoints', 'revives', 'rideDistance', 'roadKills', 'swimDistance', 'teamKills', 'vehicleDestroys', 'walkDistance', 'weaponsAcquired', 'winPoints', 'winPlacePerc'] [ 0  1  2  3  4  5  6  7  8  9 10 11 12 13 14 15 16 17 18 19 20 21 22 23\n",
      " 24]\n"
     ]
    }
   ],
   "source": [
    "import numpy as np\n",
    "names = []\n",
    "for i in data.columns:\n",
    "    names.append(i)\n",
    "print names,np.arange(len(names))"
   ]
  },
  {
   "cell_type": "code",
   "execution_count": 43,
   "metadata": {},
   "outputs": [
    {
     "data": {
      "image/png": "[encoded data removed]",
      "text/plain": [
       "<Figure size 432x288 with 2 Axes>"
      ]
     },
     "metadata": {},
     "output_type": "display_data"
    }
   ],
   "source": [
    "fig,ax=plt.subplots()\n",
    "d = ax.imshow(corr)\n",
    "plt.colorbar(d)\n",
    "ax.set_title(\"Correlation Plot\")\n",
    "ax.set_xticks(np.arange(len(names)))\n",
    "ax.set_yticks(np.arange(len(names)))\n",
    "ax.set_xticklabels(names)\n",
    "ax.set_yticklabels(names)\n",
    "#rotate x tick lables\n",
    "plt.setp(ax.get_xticklabels(),rotation=90)\n",
    "plt.show()"
   ]
  },
  {
   "cell_type": "code",
   "execution_count": 44,
   "metadata": {},
   "outputs": [
    {
     "data": {
      "image/png": "[encoded data removed]",
      "text/plain": [
       "<Figure size 432x288 with 1 Axes>"
      ]
     },
     "metadata": {},
     "output_type": "display_data"
    }
   ],
   "source": [
    "plt.scatter(data.walkDistance,data.winPlacePerc)\n",
    "plt.show()"
   ]
  },
  {
   "cell_type": "code",
   "execution_count": 45,
   "metadata": {},
   "outputs": [
    {
     "name": "stderr",
     "output_type": "stream",
     "text": [
      "C:\\Users\\Yanhong Simokat\\Ananconda27\\lib\\site-packages\\sklearn\\cross_validation.py:41: DeprecationWarning: This module was deprecated in version 0.18 in favor of the model_selection module into which all the refactored classes and functions are moved. Also note that the interface of the new CV iterators are different from that of this module. This module will be removed in 0.20.\n",
      "  \"This module will be removed in 0.20.\", DeprecationWarning)\n"
     ]
    }
   ],
   "source": [
    "##split the data into trainning and test sets\n",
    "from sklearn.cross_validation import train_test_split\n",
    "from sklearn import preprocessing"
   ]
  },
  {
   "cell_type": "code",
   "execution_count": 46,
   "metadata": {},
   "outputs": [],
   "source": [
    "y = data['winPlacePerc']"
   ]
  },
  {
   "cell_type": "code",
   "execution_count": 47,
   "metadata": {},
   "outputs": [],
   "source": [
    "x = data"
   ]
  },
  {
   "cell_type": "code",
   "execution_count": 48,
   "metadata": {},
   "outputs": [],
   "source": [
    "x = x.drop('winPlacePerc',axis=1)"
   ]
  },
  {
   "cell_type": "code",
   "execution_count": 49,
   "metadata": {},
   "outputs": [],
   "source": [
    "import numpy as np\n",
    "x = np.array(x)\n",
    "y = np.array(y).reshape(-1,1)"
   ]
  },
  {
   "cell_type": "code",
   "execution_count": 50,
   "metadata": {},
   "outputs": [
    {
     "data": {
      "text/plain": [
       "array([[0.000e+00, 0.000e+00, 0.000e+00, ..., 2.448e+02, 1.000e+00,\n",
       "        1.466e+03],\n",
       "       [0.000e+00, 0.000e+00, 9.147e+01, ..., 1.434e+03, 5.000e+00,\n",
       "        0.000e+00],\n",
       "       [1.000e+00, 0.000e+00, 6.800e+01, ..., 1.618e+02, 2.000e+00,\n",
       "        0.000e+00],\n",
       "       ...,\n",
       "       [0.000e+00, 0.000e+00, 5.906e+01, ..., 7.887e+02, 4.000e+00,\n",
       "        0.000e+00],\n",
       "       [0.000e+00, 4.000e+00, 1.804e+02, ..., 2.748e+03, 8.000e+00,\n",
       "        0.000e+00],\n",
       "       [0.000e+00, 2.000e+00, 2.680e+02, ..., 1.244e+03, 5.000e+00,\n",
       "        0.000e+00]])"
      ]
     },
     "execution_count": 50,
     "metadata": {},
     "output_type": "execute_result"
    }
   ],
   "source": [
    "x"
   ]
  },
  {
   "cell_type": "code",
   "execution_count": 51,
   "metadata": {},
   "outputs": [
    {
     "data": {
      "text/plain": [
       "array([[0.4444],\n",
       "       [0.64  ],\n",
       "       [0.7755],\n",
       "       ...,\n",
       "       [0.4815],\n",
       "       [0.8   ],\n",
       "       [0.5464]])"
      ]
     },
     "execution_count": 51,
     "metadata": {},
     "output_type": "execute_result"
    }
   ],
   "source": [
    "y"
   ]
  },
  {
   "cell_type": "code",
   "execution_count": 52,
   "metadata": {},
   "outputs": [
    {
     "data": {
      "text/plain": [
       "array([[0.        , 0.        , 0.        , ..., 0.00949573, 0.00423729,\n",
       "        0.72826627],\n",
       "       [0.        , 0.        , 0.01382557, ..., 0.05562452, 0.02118644,\n",
       "        0.        ],\n",
       "       [0.04545455, 0.        , 0.01027811, ..., 0.00627618, 0.00847458,\n",
       "        0.        ],\n",
       "       ...,\n",
       "       [0.        , 0.        , 0.00892684, ..., 0.03059348, 0.01694915,\n",
       "        0.        ],\n",
       "       [0.        , 0.12121212, 0.02726723, ..., 0.10659426, 0.03389831,\n",
       "        0.        ],\n",
       "       [0.        , 0.06060606, 0.04050786, ..., 0.04825446, 0.02118644,\n",
       "        0.        ]])"
      ]
     },
     "execution_count": 52,
     "metadata": {},
     "output_type": "execute_result"
    }
   ],
   "source": [
    "#Normalization\n",
    "#each feature is scaled to [0,1] range\n",
    "min_max_scaler = preprocessing.MinMaxScaler()\n",
    "x_norm = min_max_scaler.fit_transform(x)\n",
    "x_norm"
   ]
  },
  {
   "cell_type": "code",
   "execution_count": 53,
   "metadata": {},
   "outputs": [],
   "source": [
    "np.set_printoptions(precision=2, linewidth=80, suppress=True)"
   ]
  },
  {
   "cell_type": "code",
   "execution_count": 54,
   "metadata": {},
   "outputs": [
    {
     "data": {
      "text/plain": [
       "array([[0.44],\n",
       "       [0.64],\n",
       "       [0.78],\n",
       "       ...,\n",
       "       [0.48],\n",
       "       [0.8 ],\n",
       "       [0.55]])"
      ]
     },
     "execution_count": 54,
     "metadata": {},
     "output_type": "execute_result"
    }
   ],
   "source": [
    "y_norm = min_max_scaler.fit_transform(y)\n",
    "y_norm"
   ]
  },
  {
   "cell_type": "code",
   "execution_count": 55,
   "metadata": {},
   "outputs": [],
   "source": [
    "#Standard linear regression"
   ]
  },
  {
   "cell_type": "code",
   "execution_count": 56,
   "metadata": {},
   "outputs": [],
   "source": [
    "from sklearn.cross_validation import KFold\n",
    "from sklearn.linear_model import LinearRegression,Lasso,Ridge,ElasticNet,SGDRegressor\n",
    "from numpy import *\n",
    "import numpy as np"
   ]
  },
  {
   "cell_type": "code",
   "execution_count": 57,
   "metadata": {},
   "outputs": [],
   "source": [
    "#assume x0=1 to account for a constant offset\n",
    "#in order to do multiple regression we need to add a column of 1\n",
    "x_norm = np.array([np.concatenate((i,[1])) for i in x_norm])"
   ]
  },
  {
   "cell_type": "code",
   "execution_count": 58,
   "metadata": {},
   "outputs": [],
   "source": [
    "def standRegres(xArr,yArr):\n",
    "    xMat = mat(xArr); yMat = mat(yArr).T\n",
    "    xTx = xMat.T*xMat\n",
    "    #if det(A)=0 then A is not invertible. A is linearly dependent\n",
    "    if linalg.det(xTx) == 0.0:\n",
    "        print \"This matrix is singular, cannot do inverse\"\n",
    "        return\n",
    "    ws = xTx.I * (xMat.T*yMat)\n",
    "    return ws"
   ]
  },
  {
   "cell_type": "code",
   "execution_count": 59,
   "metadata": {},
   "outputs": [],
   "source": [
    "#standard linear regression weights/estimated beta\n",
    "weight = standRegres(x_norm,y_norm.T)"
   ]
  },
  {
   "cell_type": "code",
   "execution_count": 60,
   "metadata": {},
   "outputs": [],
   "source": [
    "#convert array to matrix\n",
    "xmat=np.mat(x_norm)\n",
    "ymat=np.mat(y_norm.T)\n",
    "#predicted y\n",
    "yHat=xmat*weight"
   ]
  },
  {
   "cell_type": "code",
   "execution_count": 61,
   "metadata": {},
   "outputs": [],
   "source": [
    "#transform yHat\n",
    "yHat_T=yHat.T"
   ]
  },
  {
   "cell_type": "code",
   "execution_count": 62,
   "metadata": {},
   "outputs": [
    {
     "name": "stdout",
     "output_type": "stream",
     "text": [
      "[[0.13]]\n"
     ]
    }
   ],
   "source": [
    "#compute RMSE\n",
    "error=abs(yHat_T-ymat)\n",
    "t_err=np.dot(error, error.T)\n",
    "rmse_train=np.sqrt(t_err/len(yHat))\n",
    "print rmse_train"
   ]
  },
  {
   "cell_type": "code",
   "execution_count": 63,
   "metadata": {},
   "outputs": [
    {
     "data": {
      "text/plain": [
       "array([[1.  , 0.91],\n",
       "       [0.91, 1.  ]])"
      ]
     },
     "execution_count": 63,
     "metadata": {},
     "output_type": "execute_result"
    }
   ],
   "source": [
    "#correlation coefficient (also call correlation)\n",
    "corrcoef(yHat_T,ymat)"
   ]
  },
  {
   "cell_type": "code",
   "execution_count": 64,
   "metadata": {},
   "outputs": [],
   "source": [
    "from sklearn.cross_validation import KFold\n",
    "\n",
    "# Create linear regression object\n",
    "linreg = LinearRegression()\n",
    "\n",
    "# Train the model using the training sets\n",
    "linreg.fit(x_norm,y_norm)\n",
    "\n",
    "kf = KFold(len(x_norm), n_folds=10)\n",
    "x_err = 0\n",
    "for train,test in kf:\n",
    "    linreg.fit(x_norm[train],y_norm[train])\n",
    "    p = linreg.predict(x_norm[test])  #compute rmse on training data\n",
    "    e = p-y_norm[test]\n",
    "    x_err += np.dot(e.T,e)\n",
    "    \n",
    "rmse_10cv = np.sqrt(x_err/len(x_norm))"
   ]
  },
  {
   "cell_type": "code",
   "execution_count": 65,
   "metadata": {},
   "outputs": [
    {
     "name": "stdout",
     "output_type": "stream",
     "text": [
      "RMSE on training: 0.1265448\n",
      "RMSE on 10-fold CV: 0.1265467\n"
     ]
    }
   ],
   "source": [
    "#RMSE\n",
    "print('RMSE on training: %.7f' %rmse_train)\n",
    "print('RMSE on 10-fold CV: %.7f' %rmse_10cv)"
   ]
  },
  {
   "cell_type": "code",
   "execution_count": 66,
   "metadata": {},
   "outputs": [],
   "source": [
    "#Linear Regression"
   ]
  },
  {
   "cell_type": "code",
   "execution_count": 67,
   "metadata": {},
   "outputs": [],
   "source": [
    "import warnings\n",
    "warnings.filterwarnings('ignore')"
   ]
  },
  {
   "cell_type": "code",
   "execution_count": 68,
   "metadata": {},
   "outputs": [
    {
     "name": "stdout",
     "output_type": "stream",
     "text": [
      "Optimal percentile of features:[96] \n",
      "\n",
      "Optimal number of features:24 \n",
      "\n"
     ]
    },
    {
     "data": {
      "text/plain": [
       "[<matplotlib.lines.Line2D at 0x4fb41320>]"
      ]
     },
     "execution_count": 68,
     "metadata": {},
     "output_type": "execute_result"
    },
    {
     "data": {
      "image/png": "[encoded data removed]",
      "text/plain": [
       "<Figure size 432x288 with 1 Axes>"
      ]
     },
     "metadata": {},
     "output_type": "display_data"
    }
   ],
   "source": [
    "from sklearn import cross_validation,feature_selection\n",
    "from sklearn.cross_validation import train_test_split\n",
    "\n",
    "x_train,x_test,y_train,y_test = train_test_split(x_norm,y_norm,test_size=0.2,random_state=33)\n",
    "\n",
    "percentiles = range(1,100,5)\n",
    "results=[]\n",
    "for i in range(1,100,5):\n",
    "    fs = feature_selection.SelectPercentile(feature_selection.f_regression, percentile=i)\n",
    "    x_train_fs = fs.fit_transform(x_train, y_train)\n",
    "    scores = abs(cross_validation.cross_val_score(linreg, x_train_fs, x_train, scoring='mean_squared_error', cv=5))\n",
    "    results=np.append(results, scores.mean())\n",
    "\n",
    "optimal_percentil = np.where(results == results.min())[0]\n",
    "percentiles1 = np.array(percentiles)\n",
    "print \"Optimal percentile of features:{}\".format(percentiles1[optimal_percentil]), \"\\n\"\n",
    "optimal_num_features = int(floor(percentiles1[optimal_percentil]*len(data.columns)/100))\n",
    "print \"Optimal number of features:{}\".format(optimal_num_features), \"\\n\"\n",
    "\n",
    "\n",
    "# Plot percentile of features VS. cross-validation scores\n",
    "import pylab as pl\n",
    "pl.figure()\n",
    "pl.title(\"Mean Squared Error Under Different Percentiles\")\n",
    "pl.xlabel(\"Percentage of features selected\")\n",
    "pl.ylabel(\"Cross validation accuracy\")\n",
    "pl.plot(percentiles,results)"
   ]
  },
  {
   "cell_type": "code",
   "execution_count": 69,
   "metadata": {},
   "outputs": [
    {
     "name": "stdout",
     "output_type": "stream",
     "text": [
      "assists \t\t350988.97171419184\n",
      "boosts \t\t2394474.6669777413\n",
      "damageDealt \t\t856238.3437503367\n",
      "DBNOs \t\t303011.3785590185\n",
      "headshotKills \t\t297697.6246149418\n",
      "heals \t\t797681.5989611308\n",
      "killPlace \t\t3810320.089903965\n",
      "killPoints \t\t565.394313659026\n",
      "kills \t\t760684.3354217985\n",
      "killStreaks \t\t591029.0356479635\n",
      "longestKill \t\t719263.8251636573\n",
      "matchDuration \t\t104.86300584326052\n",
      "maxPlace \t\t4910.246784211894\n",
      "numGroups \t\t5519.686817000745\n",
      "rankPoints \t\t679.7499497676152\n",
      "revives \t\t219031.10223314434\n",
      "rideDistance \t\t474059.0009790368\n",
      "roadKills \t\t4310.408058075872\n",
      "swimDistance \t\t81761.18267932523\n",
      "teamKills \t\t869.7840363081909\n",
      "vehicleDestroys \t\t19276.39114732492\n",
      "walkDistance \t\t6832086.438350565\n",
      "weaponsAcquired \t\t1832573.6828884913\n",
      "winPoints \t\t162.37603317827623\n"
     ]
    }
   ],
   "source": [
    "fs = feature_selection.SelectPercentile(feature_selection.f_regression, percentile=96)\n",
    "x_train_fs = fs.fit_transform(x_train, y_train)\n",
    "for i in range(len(data.columns.values)):\n",
    "    if fs.get_support()[i]:\n",
    "        print data.columns.values[i],'\\t\\t', fs.scores_[i]"
   ]
  },
  {
   "cell_type": "code",
   "execution_count": 70,
   "metadata": {},
   "outputs": [
    {
     "name": "stdout",
     "output_type": "stream",
     "text": [
      "Mean Squared Error (MSE) of the testing data is 0.01597274\n",
      "Root Mean Squared Error (RMSE) of the testing data is 0.12638330\n"
     ]
    }
   ],
   "source": [
    "# Calculating Mean absolute Error on the testing using 24 informatic features :\n",
    "from sklearn.metrics import mean_squared_error\n",
    "\n",
    "fs = feature_selection.SelectPercentile(feature_selection.f_regression, percentile=96)\n",
    "x_train_fs = fs.fit_transform(x_train, y_train)\n",
    "linreg = LinearRegression()\n",
    "linreg.fit(x_train_fs, y_train)\n",
    "x_test_fs = fs.transform(x_test)\n",
    "lr_pred = linreg.predict(x_test_fs)\n",
    "lr_mae = mean_squared_error(y_test, lr_pred)\n",
    "\n",
    "print ('Mean Squared Error (MSE) of the testing data is %0.8f' % lr_mae)\n",
    "print ('Root Mean Squared Error (RMSE) of the testing data is %0.8f' % math.sqrt(lr_mae))"
   ]
  },
  {
   "cell_type": "code",
   "execution_count": 71,
   "metadata": {},
   "outputs": [],
   "source": [
    "#Ridge regression and lasso regression"
   ]
  },
  {
   "cell_type": "code",
   "execution_count": 72,
   "metadata": {},
   "outputs": [],
   "source": [
    "x_train,x_test,y_train,y_test = train_test_split(x_norm,y_norm,test_size=0.2,random_state=33)"
   ]
  },
  {
   "cell_type": "code",
   "execution_count": 73,
   "metadata": {},
   "outputs": [],
   "source": [
    "#alpha values\n",
    "alpha = np.linspace(0.01, 200, 200)\n",
    "alpha = np.array([float(e) for e in alpha])\n",
    "#Ridge and Lasso from sklean\n",
    "ridge = Ridge()\n",
    "lasso = Lasso()"
   ]
  },
  {
   "cell_type": "code",
   "execution_count": 74,
   "metadata": {},
   "outputs": [],
   "source": [
    "def calc_params(X, y, param_name, param_values, model, name, K=5):\n",
    "    \n",
    "    # Convert input to Numpy arrays\n",
    "    X = np.array(X)\n",
    "    y = np.array(y)\n",
    "\n",
    "    # initialize training and testing scores with zeros\n",
    "    train_scores = np.zeros(len(param_values))\n",
    "    test_scores = np.zeros(len(param_values))\n",
    "    \n",
    "    # iterate over the different parameter values\n",
    "    for i, param_value in enumerate(param_values):\n",
    "        \n",
    "        # set classifier parameters\n",
    "        model.set_params(**{param_name:param_value})\n",
    "        \n",
    "        # initialize the K scores obtained for each fold\n",
    "        k_train_scores = np.zeros(K)\n",
    "        k_test_scores = np.zeros(K)\n",
    "        \n",
    "        # create KFold cross validation\n",
    "        cv = KFold(len(X), K, shuffle=True, random_state=0)\n",
    "        \n",
    "        for j, (train, test) in enumerate(cv):\n",
    "            # fit the classifier in the corresponding fold\n",
    "            # and obtain the corresponding MAE scores on train and test sets\n",
    "            model.fit([X[k] for k in train], y[train])\n",
    "            train_predict = model.predict(X[train])\n",
    "            test_predict = model.predict(X[test])\n",
    "            \n",
    "            k_train_scores = mean_squared_error(y[train], train_predict)\n",
    "            k_test_scores = mean_squared_error(y[test], test_predict)\n",
    "            \n",
    "            train_scores[i] = np.mean(k_train_scores)\n",
    "            test_scores[i] = np.mean(k_test_scores)\n",
    "    \n",
    "    # plot the training and testing scores in a log scale\n",
    "    plt.plot(param_values, train_scores, label='Train', alpha=0.4, lw=2, c='red')\n",
    "    plt.plot(param_values, test_scores, label='X-Val', alpha=0.4, lw=2, c='green')\n",
    "    plt.legend(loc=7)\n",
    "    plt.xlabel(param_name + \" values\")\n",
    "    plt.ylabel(\"Mean Cross Validation Error\")\n",
    "    plt.title(name)\n",
    "\n",
    "    # return the training and testing scores on each parameter value\n",
    "    min_err_idx = np.where(test_scores == test_scores.min())\n",
    "    min_err_alpha = param_values[min_err_idx]\n",
    "    print 'The minimum Mean Squared Error (MSE) is: {:.5f} with {}: {:.5f}'.format(test_scores[min_err_idx][0],param_name, min_err_alpha[0])"
   ]
  },
  {
   "cell_type": "code",
   "execution_count": 75,
   "metadata": {},
   "outputs": [
    {
     "name": "stdout",
     "output_type": "stream",
     "text": [
      "The minimum Mean Squared Error (MSE) is: 0.01597 with alpha: 0.01000\n"
     ]
    },
    {
     "data": {
      "image/png": "[encoded data removed]",
      "text/plain": [
       "<Figure size 432x288 with 1 Axes>"
      ]
     },
     "metadata": {},
     "output_type": "display_data"
    }
   ],
   "source": [
    "#Ridge Regression\n",
    "calc_params(x_train, y_train, \"alpha\", alpha, ridge, \"Ridge Regression\")"
   ]
  },
  {
   "cell_type": "code",
   "execution_count": 76,
   "metadata": {},
   "outputs": [
    {
     "name": "stdout",
     "output_type": "stream",
     "text": [
      "RMSE on test data: 0.12638330 using apha = 0.01000\n"
     ]
    }
   ],
   "source": [
    "ridge = Ridge(fit_intercept=True, alpha=0.01000)\n",
    "ridge.fit(x_train, y_train)    \n",
    "p = ridge.predict(x_test)\n",
    "MSE = mean_squared_error(y_test, p)\n",
    "\n",
    "print 'RMSE on test data: {:.8f} using apha = 0.01000'.format(math.sqrt(MSE))"
   ]
  },
  {
   "cell_type": "code",
   "execution_count": 77,
   "metadata": {},
   "outputs": [
    {
     "name": "stdout",
     "output_type": "stream",
     "text": [
      "The minimum Mean Squared Error (MSE) is: 0.04696 with alpha: 0.01000\n"
     ]
    },
    {
     "data": {
      "image/png": "[encoded data removed]",
      "text/plain": [
       "<Figure size 432x288 with 1 Axes>"
      ]
     },
     "metadata": {},
     "output_type": "display_data"
    }
   ],
   "source": [
    "#Lasso Regression\n",
    "calc_params(x_train, y_train, \"alpha\", alpha, lasso, \"Lasso Regression\")"
   ]
  },
  {
   "cell_type": "code",
   "execution_count": 78,
   "metadata": {},
   "outputs": [
    {
     "name": "stdout",
     "output_type": "stream",
     "text": [
      "RMSE on test data: 0.21646841 using apha = 0.01000\n"
     ]
    }
   ],
   "source": [
    "lasso = Lasso(fit_intercept=True, alpha=0.01000)\n",
    "lasso.fit(x_train, y_train)    \n",
    "pred = lasso.predict(x_test)\n",
    "MSE = mean_squared_error(y_test, pred)\n",
    "               \n",
    "print 'RMSE on test data: {:.8f} using apha = 0.01000'.format(math.sqrt(MSE))"
   ]
  },
  {
   "cell_type": "code",
   "execution_count": 79,
   "metadata": {},
   "outputs": [],
   "source": [
    "#K-means clustering"
   ]
  },
  {
   "cell_type": "code",
   "execution_count": 80,
   "metadata": {},
   "outputs": [
    {
     "data": {
      "text/plain": [
       "array([[0.  , 0.  , 0.  , ..., 0.  , 0.73, 0.44],\n",
       "       [0.  , 0.  , 0.01, ..., 0.02, 0.  , 0.64],\n",
       "       [0.05, 0.  , 0.01, ..., 0.01, 0.  , 0.78],\n",
       "       ...,\n",
       "       [0.  , 0.  , 0.01, ..., 0.02, 0.  , 0.48],\n",
       "       [0.  , 0.12, 0.03, ..., 0.03, 0.  , 0.8 ],\n",
       "       [0.  , 0.06, 0.04, ..., 0.02, 0.  , 0.55]])"
      ]
     },
     "execution_count": 80,
     "metadata": {},
     "output_type": "execute_result"
    }
   ],
   "source": [
    "from sklearn import preprocessing\n",
    "min_max_scaler = preprocessing.MinMaxScaler()\n",
    "data_norm = min_max_scaler.fit_transform(data)\n",
    "data_norm"
   ]
  },
  {
   "cell_type": "code",
   "execution_count": 81,
   "metadata": {},
   "outputs": [],
   "source": [
    "from sklearn.cluster import KMeans"
   ]
  },
  {
   "cell_type": "code",
   "execution_count": 82,
   "metadata": {},
   "outputs": [
    {
     "data": {
      "text/plain": [
       "(array([[0.  , 0.  , 0.  , ..., 0.  , 0.73, 0.44],\n",
       "        [0.  , 0.  , 0.01, ..., 0.02, 0.  , 0.64],\n",
       "        [0.05, 0.  , 0.01, ..., 0.01, 0.  , 0.78],\n",
       "        ...,\n",
       "        [0.  , 0.03, 0.01, ..., 0.03, 0.  , 0.29],\n",
       "        [0.  , 0.  , 0.01, ..., 0.02, 0.  , 0.48],\n",
       "        [0.  , 0.12, 0.03, ..., 0.03, 0.  , 0.8 ]]),\n",
       " array([0.  , 0.06, 0.04, 0.  , 0.  , 0.01, 0.17, 0.  , 0.03, 0.05, 0.07, 0.79,\n",
       "        0.98, 0.94, 0.27, 0.  , 0.03, 0.  , 0.  , 0.  , 0.  , 0.05, 0.02, 0.  ,\n",
       "        0.55]),\n",
       " 4446966)"
      ]
     },
     "execution_count": 82,
     "metadata": {},
     "output_type": "execute_result"
    }
   ],
   "source": [
    "data_norm[0:-1],data_norm[-1],len(data_norm)"
   ]
  },
  {
   "cell_type": "code",
   "execution_count": 83,
   "metadata": {},
   "outputs": [],
   "source": [
    "Sum_of_squared_distances = []\n",
    "K = range(1,8)\n",
    "for k in K:\n",
    "    km = KMeans(n_clusters=k)\n",
    "    km = km.fit(data_norm)\n",
    "    Sum_of_squared_distances.append(km.inertia_)"
   ]
  },
  {
   "cell_type": "code",
   "execution_count": 84,
   "metadata": {},
   "outputs": [
    {
     "data": {
      "image/png": "[encoded data removed]",
      "text/plain": [
       "<Figure size 432x288 with 1 Axes>"
      ]
     },
     "metadata": {},
     "output_type": "display_data"
    }
   ],
   "source": [
    "plt.plot(K, Sum_of_squared_distances, 'bx-')\n",
    "plt.xlabel('k')\n",
    "plt.ylabel('Sum_of_squared_distances')\n",
    "plt.title('Elbow Method For Optimal k')\n",
    "plt.show()"
   ]
  },
  {
   "cell_type": "code",
   "execution_count": 85,
   "metadata": {},
   "outputs": [],
   "source": [
    "#perform PCA for demension deduction, then perform kmeans again\n",
    "from sklearn import decomposition\n",
    "pca = decomposition.PCA(n_components=7)\n",
    "data_trans = pca.fit_transform(data_norm)\n",
    "r = pca.explained_variance_ratio_"
   ]
  },
  {
   "cell_type": "code",
   "execution_count": 86,
   "metadata": {},
   "outputs": [
    {
     "data": {
      "text/plain": [
       "(array([0.43, 0.28, 0.21, 0.04, 0.03, 0.  , 0.  ]), 0.9885459852399351)"
      ]
     },
     "execution_count": 86,
     "metadata": {},
     "output_type": "execute_result"
    }
   ],
   "source": [
    "r,sum(r)"
   ]
  },
  {
   "cell_type": "code",
   "execution_count": 87,
   "metadata": {},
   "outputs": [],
   "source": [
    "Sum_of_squared_distances = []\n",
    "K = range(1,8)\n",
    "for k in K:\n",
    "    km = KMeans(n_clusters=k)\n",
    "    km = km.fit(data_trans)\n",
    "    Sum_of_squared_distances.append(km.inertia_)"
   ]
  },
  {
   "cell_type": "code",
   "execution_count": 88,
   "metadata": {},
   "outputs": [
    {
     "data": {
      "image/png": "[encoded data removed]",
      "text/plain": [
       "<Figure size 432x288 with 1 Axes>"
      ]
     },
     "metadata": {},
     "output_type": "display_data"
    }
   ],
   "source": [
    "plt.plot(K, Sum_of_squared_distances, 'bx-')\n",
    "plt.xlabel('k')\n",
    "plt.ylabel('Sum_of_squared_distances')\n",
    "plt.title('Elbow Method For Optimal k')\n",
    "plt.show()"
   ]
  },
  {
   "cell_type": "code",
   "execution_count": 89,
   "metadata": {},
   "outputs": [
    {
     "name": "stdout",
     "output_type": "stream",
     "text": [
      "Checking whether there is an H2O instance running at http://localhost:54321..... not found.\n",
      "Attempting to start a local H2O server...\n",
      "; OpenJDK 64-Bit Server VM (Zulu 8.20.0.5-win64) (build 25.121-b15, mixed mode)\n",
      "  Starting server from C:\\Users\\Yanhong Simokat\\Ananconda27\\lib\\site-packages\\h2o\\backend\\bin\\h2o.jar\n",
      "  Ice root: c:\\users\\yanhon~1\\appdata\\local\\temp\\tmpj20s_n\n",
      "  JVM stdout: c:\\users\\yanhon~1\\appdata\\local\\temp\\tmpj20s_n\\h2o_Yanhong_Simokat_started_from_python.out\n",
      "  JVM stderr: c:\\users\\yanhon~1\\appdata\\local\\temp\\tmpj20s_n\\h2o_Yanhong_Simokat_started_from_python.err\n",
      "  Server is running at http://127.0.0.1:54321\n",
      "Connecting to H2O server at http://127.0.0.1:54321... successful.\n"
     ]
    },
    {
     "data": {
      "text/html": [
       "<div style=\"overflow:auto\"><table style=\"width:50%\"><tr><td>H2O cluster uptime:</td>\n",
       "<td>01 secs</td></tr>\n",
       "<tr><td>H2O cluster timezone:</td>\n",
       "<td>America/Chicago</td></tr>\n",
       "<tr><td>H2O data parsing timezone:</td>\n",
       "<td>UTC</td></tr>\n",
       "<tr><td>H2O cluster version:</td>\n",
       "<td>3.22.0.1</td></tr>\n",
       "<tr><td>H2O cluster version age:</td>\n",
       "<td>24 days </td></tr>\n",
       "<tr><td>H2O cluster name:</td>\n",
       "<td>H2O_from_python_Yanhong_Simokat_o0vt8s</td></tr>\n",
       "<tr><td>H2O cluster total nodes:</td>\n",
       "<td>1</td></tr>\n",
       "<tr><td>H2O cluster free memory:</td>\n",
       "<td>7.094 Gb</td></tr>\n",
       "<tr><td>H2O cluster total cores:</td>\n",
       "<td>8</td></tr>\n",
       "<tr><td>H2O cluster allowed cores:</td>\n",
       "<td>8</td></tr>\n",
       "<tr><td>H2O cluster status:</td>\n",
       "<td>accepting new members, healthy</td></tr>\n",
       "<tr><td>H2O connection url:</td>\n",
       "<td>http://127.0.0.1:54321</td></tr>\n",
       "<tr><td>H2O connection proxy:</td>\n",
       "<td>None</td></tr>\n",
       "<tr><td>H2O internal security:</td>\n",
       "<td>False</td></tr>\n",
       "<tr><td>H2O API Extensions:</td>\n",
       "<td>Algos, AutoML, Core V3, Core V4</td></tr>\n",
       "<tr><td>Python version:</td>\n",
       "<td>2.7.15 final</td></tr></table></div>"
      ],
      "text/plain": [
       "--------------------------  --------------------------------------\n",
       "H2O cluster uptime:         01 secs\n",
       "H2O cluster timezone:       America/Chicago\n",
       "H2O data parsing timezone:  UTC\n",
       "H2O cluster version:        3.22.0.1\n",
       "H2O cluster version age:    24 days\n",
       "H2O cluster name:           H2O_from_python_Yanhong_Simokat_o0vt8s\n",
       "H2O cluster total nodes:    1\n",
       "H2O cluster free memory:    7.094 Gb\n",
       "H2O cluster total cores:    8\n",
       "H2O cluster allowed cores:  8\n",
       "H2O cluster status:         accepting new members, healthy\n",
       "H2O connection url:         http://127.0.0.1:54321\n",
       "H2O connection proxy:\n",
       "H2O internal security:      False\n",
       "H2O API Extensions:         Algos, AutoML, Core V3, Core V4\n",
       "Python version:             2.7.15 final\n",
       "--------------------------  --------------------------------------"
      ]
     },
     "metadata": {},
     "output_type": "display_data"
    }
   ],
   "source": [
    "#h2o\n",
    "import h2o\n",
    "h2o.init()"
   ]
  },
  {
   "cell_type": "code",
   "execution_count": 90,
   "metadata": {},
   "outputs": [
    {
     "name": "stdout",
     "output_type": "stream",
     "text": [
      "Parse progress: |█████████████████████████████████████████████████████████| 100%\n"
     ]
    }
   ],
   "source": [
    "#import data into h2o\n",
    "df = h2o.import_file(\"train_V2.csv\")"
   ]
  },
  {
   "cell_type": "code",
   "execution_count": 91,
   "metadata": {},
   "outputs": [
    {
     "name": "stdout",
     "output_type": "stream",
     "text": [
      "glm Model Build progress: |███████████████████████████████████████████████| 100%\n"
     ]
    }
   ],
   "source": [
    "from h2o.estimators.glm import H2OGeneralizedLinearEstimator\n",
    "gaussian_fit = H2OGeneralizedLinearEstimator(family=\"gaussian\") \n",
    "gaussian_fit.train(y = 'winPlacePerc',x = ['assists','boosts','damageDealt','DBNOs','headshotKills','heals','killPlace','killPoints','kills','killStreaks','longestKill','matchDuration','maxPlace','numGroups','rankPoints','revives','rideDistance','roadKills','swimDistance','teamKills','vehicleDestroys','walkDistance','winPoints'],training_frame=df)"
   ]
  },
  {
   "cell_type": "code",
   "execution_count": 92,
   "metadata": {},
   "outputs": [
    {
     "name": "stdout",
     "output_type": "stream",
     "text": [
      "Model Details\n",
      "=============\n",
      "H2OGeneralizedLinearEstimator :  Generalized Linear Modeling\n",
      "Model Key:  GLM_model_python_1542740085689_1\n",
      "\n",
      "\n",
      "ModelMetricsRegressionGLM: glm\n",
      "** Reported on train data. **\n",
      "\n",
      "MSE: 0.0165906696476\n",
      "RMSE: 0.128804773388\n",
      "MAE: 0.0946211569829\n",
      "RMSLE: NaN\n",
      "R^2: 0.824433273354\n",
      "Mean Residual Deviance: 0.0165906696476\n",
      "Null degrees of freedom: 4446964\n",
      "Residual degrees of freedom: 4446942\n",
      "Null deviance: 420228.414911\n",
      "Residual deviance: 73778.1272496\n",
      "AIC: -5607742.71414\n",
      "Scoring History: \n"
     ]
    },
    {
     "data": {
      "text/html": [
       "<div style=\"overflow:auto\"><table style=\"width:50%\"><tr><td><b></b></td>\n",
       "<td><b>timestamp</b></td>\n",
       "<td><b>duration</b></td>\n",
       "<td><b>iterations</b></td>\n",
       "<td><b>negative_log_likelihood</b></td>\n",
       "<td><b>objective</b></td></tr>\n",
       "<tr><td></td>\n",
       "<td>2018-11-20 12:54:54</td>\n",
       "<td> 0.000 sec</td>\n",
       "<td>0</td>\n",
       "<td>420228.4159540</td>\n",
       "<td>0.0944978</td></tr></table></div>"
      ],
      "text/plain": [
       "    timestamp            duration    iterations    negative_log_likelihood    objective\n",
       "--  -------------------  ----------  ------------  -------------------------  -----------\n",
       "    2018-11-20 12:54:54  0.000 sec   0             420228                     0.0944978"
      ]
     },
     "metadata": {},
     "output_type": "display_data"
    },
    {
     "data": {
      "text/plain": []
     },
     "execution_count": 92,
     "metadata": {},
     "output_type": "execute_result"
    }
   ],
   "source": [
    "gaussian_fit"
   ]
  },
  {
   "cell_type": "code",
   "execution_count": 93,
   "metadata": {},
   "outputs": [
    {
     "name": "stdout",
     "output_type": "stream",
     "text": [
      "kmeans Model Build progress: |████████████████████████████████████████████| 100%\n"
     ]
    }
   ],
   "source": [
    "from h2o.estimators.kmeans import H2OKMeansEstimator\n",
    "cluster_estimator = H2OKMeansEstimator(k=7)\n",
    "cluster_estimator.train(x=['assists','boosts','damageDealt','DBNOs','headshotKills','heals','killPlace','killPoints','kills','killStreaks','longestKill','matchDuration','maxPlace','numGroups','rankPoints','revives','rideDistance','roadKills','swimDistance','teamKills','vehicleDestroys','walkDistance','winPoints','winPlacePerc'], training_frame=df)"
   ]
  },
  {
   "cell_type": "code",
   "execution_count": 94,
   "metadata": {},
   "outputs": [
    {
     "name": "stdout",
     "output_type": "stream",
     "text": [
      "Model Details\n",
      "=============\n",
      "H2OKMeansEstimator :  K-means\n",
      "Model Key:  KMeans_model_python_1542740085689_2\n",
      "\n",
      "\n",
      "ModelMetricsClustering: kmeans\n",
      "** Reported on train data. **\n",
      "\n",
      "MSE: NaN\n",
      "RMSE: NaN\n",
      "Total Within Cluster Sum of Square Error: 69132522.0005\n",
      "Total Sum of Square Error to Grand Mean: 106727158.093\n",
      "Between Cluster Sum of Square Error: 37594636.0923\n",
      "Centroid Statistics: \n"
     ]
    },
    {
     "data": {
      "text/html": [
       "<div style=\"overflow:auto\"><table style=\"width:50%\"><tr><td><b></b></td>\n",
       "<td><b>centroid</b></td>\n",
       "<td><b>size</b></td>\n",
       "<td><b>within_cluster_sum_of_squares</b></td></tr>\n",
       "<tr><td></td>\n",
       "<td>1.0</td>\n",
       "<td>2863781.0</td>\n",
       "<td>28727206.0989000</td></tr>\n",
       "<tr><td></td>\n",
       "<td>2.0</td>\n",
       "<td>192517.0</td>\n",
       "<td>8025933.4437100</td></tr>\n",
       "<tr><td></td>\n",
       "<td>3.0</td>\n",
       "<td>1221311.0</td>\n",
       "<td>25484420.9110000</td></tr>\n",
       "<tr><td></td>\n",
       "<td>4.0</td>\n",
       "<td>35931.0</td>\n",
       "<td>1702916.7143500</td></tr>\n",
       "<tr><td></td>\n",
       "<td>5.0</td>\n",
       "<td>87906.0</td>\n",
       "<td>2087134.6037500</td></tr>\n",
       "<tr><td></td>\n",
       "<td>6.0</td>\n",
       "<td>32598.0</td>\n",
       "<td>1587337.0597100</td></tr>\n",
       "<tr><td></td>\n",
       "<td>7.0</td>\n",
       "<td>12922.0</td>\n",
       "<td>1517573.1690500</td></tr></table></div>"
      ],
      "text/plain": [
       "    centroid    size         within_cluster_sum_of_squares\n",
       "--  ----------  -----------  -------------------------------\n",
       "    1           2.86378e+06  2.87272e+07\n",
       "    2           192517       8.02593e+06\n",
       "    3           1.22131e+06  2.54844e+07\n",
       "    4           35931        1.70292e+06\n",
       "    5           87906        2.08713e+06\n",
       "    6           32598        1.58734e+06\n",
       "    7           12922        1.51757e+06"
      ]
     },
     "metadata": {},
     "output_type": "display_data"
    },
    {
     "name": "stdout",
     "output_type": "stream",
     "text": [
      "Scoring History: \n"
     ]
    },
    {
     "data": {
      "text/html": [
       "<div style=\"overflow:auto\"><table style=\"width:50%\"><tr><td><b></b></td>\n",
       "<td><b>timestamp</b></td>\n",
       "<td><b>duration</b></td>\n",
       "<td><b>iterations</b></td>\n",
       "<td><b>number_of_reassigned_observations</b></td>\n",
       "<td><b>within_cluster_sum_of_squares</b></td></tr>\n",
       "<tr><td></td>\n",
       "<td>2018-11-20 12:54:58</td>\n",
       "<td> 0.006 sec</td>\n",
       "<td>0.0</td>\n",
       "<td>nan</td>\n",
       "<td>nan</td></tr>\n",
       "<tr><td></td>\n",
       "<td>2018-11-20 12:55:12</td>\n",
       "<td>14.639 sec</td>\n",
       "<td>1.0</td>\n",
       "<td>4446966.0</td>\n",
       "<td>132843391.2090000</td></tr>\n",
       "<tr><td></td>\n",
       "<td>2018-11-20 12:55:14</td>\n",
       "<td>16.015 sec</td>\n",
       "<td>2.0</td>\n",
       "<td>124070.0</td>\n",
       "<td>88899192.4331000</td></tr>\n",
       "<tr><td></td>\n",
       "<td>2018-11-20 12:55:15</td>\n",
       "<td>17.061 sec</td>\n",
       "<td>3.0</td>\n",
       "<td>156173.0</td>\n",
       "<td>82348814.7551000</td></tr>\n",
       "<tr><td></td>\n",
       "<td>2018-11-20 12:55:16</td>\n",
       "<td>18.064 sec</td>\n",
       "<td>4.0</td>\n",
       "<td>228973.0</td>\n",
       "<td>77674000.2322000</td></tr>\n",
       "<tr><td></td>\n",
       "<td>2018-11-20 12:55:17</td>\n",
       "<td>19.119 sec</td>\n",
       "<td>5.0</td>\n",
       "<td>237155.0</td>\n",
       "<td>74590938.9486000</td></tr>\n",
       "<tr><td></td>\n",
       "<td>2018-11-20 12:55:18</td>\n",
       "<td>20.144 sec</td>\n",
       "<td>6.0</td>\n",
       "<td>208714.0</td>\n",
       "<td>72694021.2838000</td></tr>\n",
       "<tr><td></td>\n",
       "<td>2018-11-20 12:55:19</td>\n",
       "<td>21.133 sec</td>\n",
       "<td>7.0</td>\n",
       "<td>178722.0</td>\n",
       "<td>71453228.0082000</td></tr>\n",
       "<tr><td></td>\n",
       "<td>2018-11-20 12:55:20</td>\n",
       "<td>22.149 sec</td>\n",
       "<td>8.0</td>\n",
       "<td>157907.0</td>\n",
       "<td>70565939.6878000</td></tr>\n",
       "<tr><td></td>\n",
       "<td>2018-11-20 12:55:21</td>\n",
       "<td>23.187 sec</td>\n",
       "<td>9.0</td>\n",
       "<td>144935.0</td>\n",
       "<td>69924978.5101000</td></tr>\n",
       "<tr><td></td>\n",
       "<td>2018-11-20 12:55:22</td>\n",
       "<td>24.169 sec</td>\n",
       "<td>10.0</td>\n",
       "<td>133398.0</td>\n",
       "<td>69463984.5079000</td></tr></table></div>"
      ],
      "text/plain": [
       "    timestamp            duration    iterations    number_of_reassigned_observations    within_cluster_sum_of_squares\n",
       "--  -------------------  ----------  ------------  -----------------------------------  -------------------------------\n",
       "    2018-11-20 12:54:58  0.006 sec   0             nan                                  nan\n",
       "    2018-11-20 12:55:12  14.639 sec  1             4.44697e+06                          1.32843e+08\n",
       "    2018-11-20 12:55:14  16.015 sec  2             124070                               8.88992e+07\n",
       "    2018-11-20 12:55:15  17.061 sec  3             156173                               8.23488e+07\n",
       "    2018-11-20 12:55:16  18.064 sec  4             228973                               7.7674e+07\n",
       "    2018-11-20 12:55:17  19.119 sec  5             237155                               7.45909e+07\n",
       "    2018-11-20 12:55:18  20.144 sec  6             208714                               7.2694e+07\n",
       "    2018-11-20 12:55:19  21.133 sec  7             178722                               7.14532e+07\n",
       "    2018-11-20 12:55:20  22.149 sec  8             157907                               7.05659e+07\n",
       "    2018-11-20 12:55:21  23.187 sec  9             144935                               6.9925e+07\n",
       "    2018-11-20 12:55:22  24.169 sec  10            133398                               6.9464e+07"
      ]
     },
     "metadata": {},
     "output_type": "display_data"
    },
    {
     "data": {
      "text/plain": []
     },
     "execution_count": 94,
     "metadata": {},
     "output_type": "execute_result"
    }
   ],
   "source": [
    "cluster_estimator"
   ]
  },
  {
   "cell_type": "code",
   "execution_count": 95,
   "metadata": {},
   "outputs": [
    {
     "name": "stdout",
     "output_type": "stream",
     "text": [
      "pca Model Build progress: |███████████████████████████████████████████████| 100%\n"
     ]
    }
   ],
   "source": [
    "from h2o.transforms.decomposition import H2OPCA\n",
    "pca_decomp = H2OPCA(k=7, transform=\"NONE\", pca_method=\"Power\")\n",
    "pca_decomp.train(x=['assists','boosts','damageDealt','DBNOs','headshotKills','heals','killPlace','killPoints','kills','killStreaks','longestKill','matchDuration','maxPlace','numGroups','rankPoints','revives','rideDistance','roadKills','swimDistance','teamKills','vehicleDestroys','walkDistance','winPoints'], training_frame=df)"
   ]
  },
  {
   "cell_type": "code",
   "execution_count": 96,
   "metadata": {},
   "outputs": [
    {
     "name": "stdout",
     "output_type": "stream",
     "text": [
      "Model Details\n",
      "=============\n",
      "H2OPCA :  Principal Components Analysis\n",
      "Model Key:  PCA_model_python_1542740085689_3\n",
      "\n",
      "\n",
      "ModelMetricsPCA: pca\n",
      "** Reported on train data. **\n",
      "\n",
      "MSE: NaN\n",
      "RMSE: NaN\n",
      "Scoring History from Power SVD: \n"
     ]
    },
    {
     "data": {
      "text/html": [
       "<div style=\"overflow:auto\"><table style=\"width:50%\"><tr><td><b></b></td>\n",
       "<td><b>timestamp</b></td>\n",
       "<td><b>duration</b></td>\n",
       "<td><b>iterations</b></td>\n",
       "<td><b>err</b></td>\n",
       "<td><b>principal_component_</b></td></tr>\n",
       "<tr><td></td>\n",
       "<td>2018-11-20 12:55:25</td>\n",
       "<td> 0.999 sec</td>\n",
       "<td>0.0</td>\n",
       "<td>946556.1974180</td>\n",
       "<td>1.0</td></tr>\n",
       "<tr><td></td>\n",
       "<td>2018-11-20 12:55:25</td>\n",
       "<td> 0.999 sec</td>\n",
       "<td>1.0</td>\n",
       "<td>2565279.2157200</td>\n",
       "<td>1.0</td></tr>\n",
       "<tr><td></td>\n",
       "<td>2018-11-20 12:55:25</td>\n",
       "<td> 0.999 sec</td>\n",
       "<td>2.0</td>\n",
       "<td>1165683.9701500</td>\n",
       "<td>1.0</td></tr>\n",
       "<tr><td></td>\n",
       "<td>2018-11-20 12:55:25</td>\n",
       "<td> 0.999 sec</td>\n",
       "<td>3.0</td>\n",
       "<td>271859.1120810</td>\n",
       "<td>1.0</td></tr>\n",
       "<tr><td></td>\n",
       "<td>2018-11-20 12:55:25</td>\n",
       "<td> 0.999 sec</td>\n",
       "<td>4.0</td>\n",
       "<td>60545.1373298</td>\n",
       "<td>1.0</td></tr>\n",
       "<tr><td>---</td>\n",
       "<td>---</td>\n",
       "<td>---</td>\n",
       "<td>---</td>\n",
       "<td>---</td>\n",
       "<td>---</td></tr>\n",
       "<tr><td></td>\n",
       "<td>2018-11-20 12:55:37</td>\n",
       "<td>12.888 sec</td>\n",
       "<td>235.0</td>\n",
       "<td>0.0001726</td>\n",
       "<td>7.0</td></tr>\n",
       "<tr><td></td>\n",
       "<td>2018-11-20 12:55:37</td>\n",
       "<td>12.888 sec</td>\n",
       "<td>236.0</td>\n",
       "<td>0.0001221</td>\n",
       "<td>7.0</td></tr>\n",
       "<tr><td></td>\n",
       "<td>2018-11-20 12:55:37</td>\n",
       "<td>12.888 sec</td>\n",
       "<td>237.0</td>\n",
       "<td>0.0001495</td>\n",
       "<td>7.0</td></tr>\n",
       "<tr><td></td>\n",
       "<td>2018-11-20 12:55:37</td>\n",
       "<td>12.888 sec</td>\n",
       "<td>238.0</td>\n",
       "<td>0.0001726</td>\n",
       "<td>7.0</td></tr>\n",
       "<tr><td></td>\n",
       "<td>2018-11-20 12:55:37</td>\n",
       "<td>12.888 sec</td>\n",
       "<td>239.0</td>\n",
       "<td>0.0</td>\n",
       "<td>7.0</td></tr></table></div>"
      ],
      "text/plain": [
       "     timestamp            duration    iterations    err                principal_component_\n",
       "---  -------------------  ----------  ------------  -----------------  ----------------------\n",
       "     2018-11-20 12:55:25  0.999 sec   0.0           946556.197418      1.0\n",
       "     2018-11-20 12:55:25  0.999 sec   1.0           2565279.21572      1.0\n",
       "     2018-11-20 12:55:25  0.999 sec   2.0           1165683.97015      1.0\n",
       "     2018-11-20 12:55:25  0.999 sec   3.0           271859.112081      1.0\n",
       "     2018-11-20 12:55:25  0.999 sec   4.0           60545.1373298      1.0\n",
       "---  ---                  ---         ---           ---                ---\n",
       "     2018-11-20 12:55:37  12.888 sec  235.0         0.000172633491501  7.0\n",
       "     2018-11-20 12:55:37  12.888 sec  236.0         0.0001220703125    7.0\n",
       "     2018-11-20 12:55:37  12.888 sec  237.0         0.000149504989184  7.0\n",
       "     2018-11-20 12:55:37  12.888 sec  238.0         0.000172633491501  7.0\n",
       "     2018-11-20 12:55:37  12.888 sec  239.0         0.0                7.0"
      ]
     },
     "metadata": {},
     "output_type": "display_data"
    },
    {
     "name": "stdout",
     "output_type": "stream",
     "text": [
      "\n",
      "See the whole table with table.as_data_frame()\n"
     ]
    },
    {
     "data": {
      "text/plain": []
     },
     "execution_count": 96,
     "metadata": {},
     "output_type": "execute_result"
    }
   ],
   "source": [
    "pca_decomp"
   ]
  },
  {
   "cell_type": "code",
   "execution_count": 97,
   "metadata": {},
   "outputs": [
    {
     "name": "stdout",
     "output_type": "stream",
     "text": [
      "[WARNING] in <ipython-input-97-1edf85295eae> line 1:\n",
      "    >>> h2o.shutdown()\n",
      "        ^^^^ Deprecated, use ``h2o.cluster().shutdown()``.\n",
      "H2O session _sid_9c58 closed.\n"
     ]
    }
   ],
   "source": [
    "h2o.shutdown()"
   ]
  },
  {
   "cell_type": "code",
   "execution_count": null,
   "metadata": {},
   "outputs": [],
   "source": []
  }
 ],
 "metadata": {
  "kernelspec": {
   "display_name": "Python 3",
   "language": "python",
   "name": "python3"
  },
  "language_info": {
   "codemirror_mode": {
    "name": "ipython",
    "version": 3
   },
   "file_extension": ".py",
   "mimetype": "text/x-python",
   "name": "python",
   "nbconvert_exporter": "python",
   "pygments_lexer": "ipython3",
   "version": "3.6.6"
  }
 },
 "nbformat": 4,
 "nbformat_minor": 2
}
