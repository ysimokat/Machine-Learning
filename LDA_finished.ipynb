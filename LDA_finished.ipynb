{
 "cells": [
  {
   "cell_type": "code",
   "execution_count": 1,
   "metadata": {},
   "outputs": [],
   "source": [
    "import numpy as np\n",
    "import pandas as pd\n",
    "import seaborn as sns\n",
    "import matplotlib.pyplot as plt\n",
    "%matplotlib inline"
   ]
  },
  {
   "cell_type": "code",
   "execution_count": 2,
   "metadata": {},
   "outputs": [],
   "source": [
    "import warnings\n",
    "warnings.filterwarnings('ignore')"
   ]
  },
  {
   "cell_type": "code",
   "execution_count": 3,
   "metadata": {},
   "outputs": [
    {
     "data": {
      "text/plain": [
       "(408648, 11)"
      ]
     },
     "execution_count": 3,
     "metadata": {},
     "output_type": "execute_result"
    }
   ],
   "source": [
    "df = pd.read_csv('after_clean_concat_dataset.csv',delimiter=',')\n",
    "df.shape"
   ]
  },
  {
   "cell_type": "code",
   "execution_count": 4,
   "metadata": {},
   "outputs": [
    {
     "data": {
      "text/html": [
       "<div>\n",
       "<style scoped>\n",
       "    .dataframe tbody tr th:only-of-type {\n",
       "        vertical-align: middle;\n",
       "    }\n",
       "\n",
       "    .dataframe tbody tr th {\n",
       "        vertical-align: top;\n",
       "    }\n",
       "\n",
       "    .dataframe thead th {\n",
       "        text-align: right;\n",
       "    }\n",
       "</style>\n",
       "<table border=\"1\" class=\"dataframe\">\n",
       "  <thead>\n",
       "    <tr style=\"text-align: right;\">\n",
       "      <th></th>\n",
       "      <th>App Name</th>\n",
       "      <th>App Store</th>\n",
       "      <th>App ID</th>\n",
       "      <th>Review ID</th>\n",
       "      <th>Country</th>\n",
       "      <th>Version</th>\n",
       "      <th>Rating</th>\n",
       "      <th>Date</th>\n",
       "      <th>Subject</th>\n",
       "      <th>Body</th>\n",
       "      <th>Emotion</th>\n",
       "    </tr>\n",
       "  </thead>\n",
       "  <tbody>\n",
       "    <tr>\n",
       "      <th>0</th>\n",
       "      <td>Google Maps</td>\n",
       "      <td>iOS</td>\n",
       "      <td>585027354</td>\n",
       "      <td>2361429743</td>\n",
       "      <td>China</td>\n",
       "      <td>4.47</td>\n",
       "      <td>5</td>\n",
       "      <td>2018-03-30</td>\n",
       "      <td>Comments can use it?</td>\n",
       "      <td>Obviously also used before, why not now ah</td>\n",
       "      <td>NaN</td>\n",
       "    </tr>\n",
       "    <tr>\n",
       "      <th>1</th>\n",
       "      <td>Google Maps</td>\n",
       "      <td>iOS</td>\n",
       "      <td>585027354</td>\n",
       "      <td>2361409552</td>\n",
       "      <td>China</td>\n",
       "      <td>4.47</td>\n",
       "      <td>1</td>\n",
       "      <td>2018-03-30</td>\n",
       "      <td>Blank</td>\n",
       "      <td>After downloading are they not ah</td>\n",
       "      <td>NaN</td>\n",
       "    </tr>\n",
       "    <tr>\n",
       "      <th>2</th>\n",
       "      <td>Google Maps</td>\n",
       "      <td>iOS</td>\n",
       "      <td>585027354</td>\n",
       "      <td>2361279254</td>\n",
       "      <td>China</td>\n",
       "      <td>4.47</td>\n",
       "      <td>3</td>\n",
       "      <td>2018-03-30</td>\n",
       "      <td>Alternate Map</td>\n",
       "      <td>Why open a blank, you really can not use it? I...</td>\n",
       "      <td>NaN</td>\n",
       "    </tr>\n",
       "    <tr>\n",
       "      <th>3</th>\n",
       "      <td>Google Maps</td>\n",
       "      <td>iOS</td>\n",
       "      <td>585027354</td>\n",
       "      <td>2361458244</td>\n",
       "      <td>USA</td>\n",
       "      <td>4.47</td>\n",
       "      <td>5</td>\n",
       "      <td>2018-03-30</td>\n",
       "      <td>A great app</td>\n",
       "      <td>I love this app so much</td>\n",
       "      <td>NaN</td>\n",
       "    </tr>\n",
       "    <tr>\n",
       "      <th>4</th>\n",
       "      <td>Google Maps</td>\n",
       "      <td>iOS</td>\n",
       "      <td>585027354</td>\n",
       "      <td>2361375637</td>\n",
       "      <td>USA</td>\n",
       "      <td>4.47</td>\n",
       "      <td>2</td>\n",
       "      <td>2018-03-30</td>\n",
       "      <td>Needs improvements</td>\n",
       "      <td>For a company with a $718 billion market cap, ...</td>\n",
       "      <td>sad</td>\n",
       "    </tr>\n",
       "  </tbody>\n",
       "</table>\n",
       "</div>"
      ],
      "text/plain": [
       "      App Name App Store     App ID   Review ID Country Version  Rating  \\\n",
       "0  Google Maps       iOS  585027354  2361429743   China    4.47       5   \n",
       "1  Google Maps       iOS  585027354  2361409552   China    4.47       1   \n",
       "2  Google Maps       iOS  585027354  2361279254   China    4.47       3   \n",
       "3  Google Maps       iOS  585027354  2361458244     USA    4.47       5   \n",
       "4  Google Maps       iOS  585027354  2361375637     USA    4.47       2   \n",
       "\n",
       "         Date               Subject  \\\n",
       "0  2018-03-30  Comments can use it?   \n",
       "1  2018-03-30                 Blank   \n",
       "2  2018-03-30         Alternate Map   \n",
       "3  2018-03-30           A great app   \n",
       "4  2018-03-30    Needs improvements   \n",
       "\n",
       "                                                Body Emotion  \n",
       "0         Obviously also used before, why not now ah     NaN  \n",
       "1                  After downloading are they not ah     NaN  \n",
       "2  Why open a blank, you really can not use it? I...     NaN  \n",
       "3                            I love this app so much     NaN  \n",
       "4  For a company with a $718 billion market cap, ...     sad  "
      ]
     },
     "execution_count": 4,
     "metadata": {},
     "output_type": "execute_result"
    }
   ],
   "source": [
    "df.head()"
   ]
  },
  {
   "cell_type": "markdown",
   "metadata": {},
   "source": [
    "# Text Mining"
   ]
  },
  {
   "cell_type": "markdown",
   "metadata": {},
   "source": [
    "Steps for text preprocessing\n",
    "1. Remove punctuations and lowercase all words\n",
    "2. Tokenize and remove stop words (eg. it, with, on, of, etc)\n",
    "3. Lemmatization: covert words to a stem"
   ]
  },
  {
   "cell_type": "code",
   "execution_count": 5,
   "metadata": {},
   "outputs": [],
   "source": [
    "import nltk\n",
    "from nltk.corpus import stopwords\n",
    "from nltk.stem import WordNetLemmatizer"
   ]
  },
  {
   "cell_type": "code",
   "execution_count": 6,
   "metadata": {},
   "outputs": [],
   "source": [
    "#EX: existential there (like: \"there is\")\n",
    "#FW: foreign word\n",
    "#MD: modal(could, will)\n",
    "#PRP: pePRP$,possessive pronoun my, his, hersrsonal pronoun, I, he, she\n",
    "#PRP$: possessive pronoun  my, his, hers\n",
    "#TO: to go 'to' the store.\n",
    "#UH: interjection          errrrrrrrm"
   ]
  },
  {
   "cell_type": "code",
   "execution_count": 7,
   "metadata": {},
   "outputs": [],
   "source": [
    "reject_type = ['EX','FW','MD','PRP','PRP$','TO','UH']\n",
    "def str_stem(word):\n",
    "    review = word.lower()\n",
    "    review = nltk.word_tokenize(review)\n",
    "    pos_tags = nltk.pos_tag(review) # token types\n",
    "    review = [w for w,f in pos_tags if f not in reject_type if len(w) > 4]\n",
    "    review = [word for word in review if not word in set(stopwords.words('english')) if word.isalpha()]\n",
    "    lemma = nltk.WordNetLemmatizer()\n",
    "    review = [lemma.lemmatize(word) for word in review]\n",
    "    review = \" \".join(review)\n",
    "    return review"
   ]
  },
  {
   "cell_type": "code",
   "execution_count": 8,
   "metadata": {},
   "outputs": [],
   "source": [
    "#Now apply all steps above to the reviews\n",
    "df['Subject'] =df['Subject'].map(lambda x:str_stem(str(x)))\n",
    "df['Body'] =df['Body'].map(lambda x:str_stem(str(x)))"
   ]
  },
  {
   "cell_type": "code",
   "execution_count": 9,
   "metadata": {},
   "outputs": [],
   "source": [
    "df['text'] = df['Subject'] + ' ' + df['Body']"
   ]
  },
  {
   "cell_type": "code",
   "execution_count": 10,
   "metadata": {
    "scrolled": true
   },
   "outputs": [
    {
     "data": {
      "text/html": [
       "<div>\n",
       "<style scoped>\n",
       "    .dataframe tbody tr th:only-of-type {\n",
       "        vertical-align: middle;\n",
       "    }\n",
       "\n",
       "    .dataframe tbody tr th {\n",
       "        vertical-align: top;\n",
       "    }\n",
       "\n",
       "    .dataframe thead th {\n",
       "        text-align: right;\n",
       "    }\n",
       "</style>\n",
       "<table border=\"1\" class=\"dataframe\">\n",
       "  <thead>\n",
       "    <tr style=\"text-align: right;\">\n",
       "      <th></th>\n",
       "      <th>App Name</th>\n",
       "      <th>App Store</th>\n",
       "      <th>App ID</th>\n",
       "      <th>Review ID</th>\n",
       "      <th>Country</th>\n",
       "      <th>Version</th>\n",
       "      <th>Rating</th>\n",
       "      <th>Date</th>\n",
       "      <th>Subject</th>\n",
       "      <th>Body</th>\n",
       "      <th>Emotion</th>\n",
       "      <th>text</th>\n",
       "    </tr>\n",
       "  </thead>\n",
       "  <tbody>\n",
       "    <tr>\n",
       "      <th>0</th>\n",
       "      <td>Google Maps</td>\n",
       "      <td>iOS</td>\n",
       "      <td>585027354</td>\n",
       "      <td>2361429743</td>\n",
       "      <td>China</td>\n",
       "      <td>4.47</td>\n",
       "      <td>5</td>\n",
       "      <td>2018-03-30</td>\n",
       "      <td>comment</td>\n",
       "      <td>obviously</td>\n",
       "      <td>NaN</td>\n",
       "      <td>comment obviously</td>\n",
       "    </tr>\n",
       "    <tr>\n",
       "      <th>1</th>\n",
       "      <td>Google Maps</td>\n",
       "      <td>iOS</td>\n",
       "      <td>585027354</td>\n",
       "      <td>2361409552</td>\n",
       "      <td>China</td>\n",
       "      <td>4.47</td>\n",
       "      <td>1</td>\n",
       "      <td>2018-03-30</td>\n",
       "      <td>blank</td>\n",
       "      <td>downloading</td>\n",
       "      <td>NaN</td>\n",
       "      <td>blank downloading</td>\n",
       "    </tr>\n",
       "    <tr>\n",
       "      <th>2</th>\n",
       "      <td>Google Maps</td>\n",
       "      <td>iOS</td>\n",
       "      <td>585027354</td>\n",
       "      <td>2361279254</td>\n",
       "      <td>China</td>\n",
       "      <td>4.47</td>\n",
       "      <td>3</td>\n",
       "      <td>2018-03-30</td>\n",
       "      <td>alternate</td>\n",
       "      <td>blank really believe people junsuh wrote revie...</td>\n",
       "      <td>NaN</td>\n",
       "      <td>alternate blank really believe people junsuh w...</td>\n",
       "    </tr>\n",
       "    <tr>\n",
       "      <th>3</th>\n",
       "      <td>Google Maps</td>\n",
       "      <td>iOS</td>\n",
       "      <td>585027354</td>\n",
       "      <td>2361458244</td>\n",
       "      <td>USA</td>\n",
       "      <td>4.47</td>\n",
       "      <td>5</td>\n",
       "      <td>2018-03-30</td>\n",
       "      <td>great</td>\n",
       "      <td></td>\n",
       "      <td>NaN</td>\n",
       "      <td>great</td>\n",
       "    </tr>\n",
       "    <tr>\n",
       "      <th>4</th>\n",
       "      <td>Google Maps</td>\n",
       "      <td>iOS</td>\n",
       "      <td>585027354</td>\n",
       "      <td>2361375637</td>\n",
       "      <td>USA</td>\n",
       "      <td>4.47</td>\n",
       "      <td>2</td>\n",
       "      <td>2018-03-30</td>\n",
       "      <td>need improvement</td>\n",
       "      <td>company billion market nearly everyone need se...</td>\n",
       "      <td>sad</td>\n",
       "      <td>need improvement company billion market nearly...</td>\n",
       "    </tr>\n",
       "  </tbody>\n",
       "</table>\n",
       "</div>"
      ],
      "text/plain": [
       "      App Name App Store     App ID   Review ID Country Version  Rating  \\\n",
       "0  Google Maps       iOS  585027354  2361429743   China    4.47       5   \n",
       "1  Google Maps       iOS  585027354  2361409552   China    4.47       1   \n",
       "2  Google Maps       iOS  585027354  2361279254   China    4.47       3   \n",
       "3  Google Maps       iOS  585027354  2361458244     USA    4.47       5   \n",
       "4  Google Maps       iOS  585027354  2361375637     USA    4.47       2   \n",
       "\n",
       "         Date           Subject  \\\n",
       "0  2018-03-30           comment   \n",
       "1  2018-03-30             blank   \n",
       "2  2018-03-30         alternate   \n",
       "3  2018-03-30             great   \n",
       "4  2018-03-30  need improvement   \n",
       "\n",
       "                                                Body Emotion  \\\n",
       "0                                          obviously     NaN   \n",
       "1                                        downloading     NaN   \n",
       "2  blank really believe people junsuh wrote revie...     NaN   \n",
       "3                                                        NaN   \n",
       "4  company billion market nearly everyone need se...     sad   \n",
       "\n",
       "                                                text  \n",
       "0                                  comment obviously  \n",
       "1                                  blank downloading  \n",
       "2  alternate blank really believe people junsuh w...  \n",
       "3                                             great   \n",
       "4  need improvement company billion market nearly...  "
      ]
     },
     "execution_count": 10,
     "metadata": {},
     "output_type": "execute_result"
    }
   ],
   "source": [
    "df.head()"
   ]
  },
  {
   "cell_type": "code",
   "execution_count": 11,
   "metadata": {},
   "outputs": [],
   "source": [
    "#df.to_csv('data_tokens.csv',index=False)"
   ]
  },
  {
   "cell_type": "code",
   "execution_count": 12,
   "metadata": {},
   "outputs": [
    {
     "name": "stdout",
     "output_type": "stream",
     "text": [
      "['comment', 'obviously', 'blank', 'downloading', 'alternate', 'blank', 'really', 'believe', 'people']\n"
     ]
    }
   ],
   "source": [
    "doc = df['text']\n",
    "reviews = []\n",
    "for i in doc:\n",
    "    token = i.strip().split()\n",
    "    for j in token:\n",
    "        reviews.append(j)\n",
    "print(reviews[0:9])"
   ]
  },
  {
   "cell_type": "code",
   "execution_count": 13,
   "metadata": {},
   "outputs": [
    {
     "name": "stdout",
     "output_type": "stream",
     "text": [
      "[('great', 25171), ('update', 21271), ('google', 19784), ('route', 19606), ('application', 18003), ('excellent', 17202), ('navigation', 13343), ('useful', 12100), ('location', 11857), ('traffic', 10976), ('helpful', 10856), ('please', 10127), ('always', 9460), ('better', 9429), ('really', 9365), ('place', 9297), ('direction', 8069), ('super', 7619), ('accurate', 7012), ('problem', 6965)]\n"
     ]
    }
   ],
   "source": [
    "# Count frequencies of the vocabulary terms\n",
    "fdist = nltk.FreqDist(reviews)\n",
    "\n",
    "# fdist is essentially a Python dictionary\n",
    "tfpairs = fdist.items()\n",
    "\n",
    "# Access the frequency of a given term.  \n",
    "vocabulary = [tok for (tok, freq) in tfpairs] # or fdist.keys() would work too\n",
    "\n",
    "common = fdist.most_common(20)\n",
    "print(common)"
   ]
  },
  {
   "cell_type": "code",
   "execution_count": 14,
   "metadata": {},
   "outputs": [
    {
     "name": "stderr",
     "output_type": "stream",
     "text": [
      "IOPub data rate exceeded.\n",
      "The notebook server will temporarily stop sending output\n",
      "to the client in order to avoid crashing it.\n",
      "To change this limit, set the config variable\n",
      "`--NotebookApp.iopub_data_rate_limit`.\n",
      "\n",
      "Current values:\n",
      "NotebookApp.iopub_data_rate_limit=1000000.0 (bytes/sec)\n",
      "NotebookApp.rate_limit_window=3.0 (secs)\n",
      "\n"
     ]
    }
   ],
   "source": [
    "pos_tags = nltk.pos_tag(reviews) # token types\n",
    "print(pos_tags)"
   ]
  },
  {
   "cell_type": "code",
   "execution_count": 15,
   "metadata": {},
   "outputs": [
    {
     "data": {
      "text/plain": [
       "FreqDist({'NN': 638960, 'JJ': 352611, 'RB': 130960, 'VBG': 89310, 'VBD': 56505, 'VBP': 38830, 'VBN': 31088, 'IN': 27330, 'NNS': 25419, 'VB': 23418, ...})"
      ]
     },
     "execution_count": 15,
     "metadata": {},
     "output_type": "execute_result"
    }
   ],
   "source": [
    "#access the type of each term\n",
    "types = [types for (tok, types) in pos_tags]\n",
    "\n",
    "#top 20 most common token type with frequency\n",
    "fdist1 = nltk.FreqDist(types)\n",
    "fdist1"
   ]
  },
  {
   "cell_type": "code",
   "execution_count": 16,
   "metadata": {},
   "outputs": [
    {
     "name": "stdout",
     "output_type": "stream",
     "text": [
      "0.9990\n"
     ]
    }
   ],
   "source": [
    "common = fdist1.most_common(20)\n",
    "\n",
    "#access the type of each term\n",
    "tp = [tok for (tok, types) in common] \n",
    "\n",
    "#percentage of tokens in the dataset that is covered by the top 20 token types\n",
    "percentage = 0\n",
    "for i in tp:\n",
    "    p = fdist1.freq(i)\n",
    "    percentage = percentage + p\n",
    "print('{:.4f}'.format(percentage))"
   ]
  },
  {
   "cell_type": "code",
   "execution_count": 17,
   "metadata": {
    "scrolled": false
   },
   "outputs": [
    {
     "data": {
      "image/png": "[encoded data removed]",
      "text/plain": [
       "<Figure size 864x864 with 1 Axes>"
      ]
     },
     "metadata": {
      "needs_background": "light"
     },
     "output_type": "display_data"
    }
   ],
   "source": [
    "from wordcloud import WordCloud\n",
    "plt.subplots(figsize=(12,12))\n",
    "wordcloud=WordCloud(background_color=\"white\",width=1024,height=768).generate(\" \".join(vocabulary))\n",
    "plt.imshow(wordcloud)\n",
    "plt.title('Word Cloud - User Review')\n",
    "plt.show()"
   ]
  },
  {
   "cell_type": "markdown",
   "metadata": {},
   "source": [
    "# Latent Dirichlet Allocation"
   ]
  },
  {
   "cell_type": "code",
   "execution_count": 18,
   "metadata": {},
   "outputs": [],
   "source": [
    "lst = [i for i in df['text']]"
   ]
  },
  {
   "cell_type": "code",
   "execution_count": 19,
   "metadata": {},
   "outputs": [
    {
     "data": {
      "text/plain": [
       "(['comment obviously',\n",
       "  'blank downloading',\n",
       "  'alternate blank really believe people junsuh wrote review order'],\n",
       " 408648,\n",
       " list)"
      ]
     },
     "execution_count": 19,
     "metadata": {},
     "output_type": "execute_result"
    }
   ],
   "source": [
    "lst[:3],len(lst),type(lst)"
   ]
  },
  {
   "cell_type": "code",
   "execution_count": 20,
   "metadata": {},
   "outputs": [
    {
     "name": "stdout",
     "output_type": "stream",
     "text": [
      "The 50 Most Common Words:  ['ability', 'abroad', 'absolutely', 'access', 'accident', 'according', 'account', 'accuracy', 'accurate', 'accurately', 'across', 'action', 'active', 'activity', 'actual', 'actually', 'added', 'adding', 'addition', 'additional', 'address', 'adjust', 'advance', 'advantage', 'advertising', 'advice', 'advise', 'afraid', 'ahead', 'alert', 'alley', 'allow', 'allowed', 'allows', 'almost', 'alone', 'along', 'already', 'alternate', 'alternative', 'although', 'always', 'amazing', 'amount', 'android', 'annoying', 'another', 'answer', 'anymore', 'anyone']\n"
     ]
    }
   ],
   "source": [
    "# Count the word frequency in the dataset\n",
    "from sklearn.feature_extraction.text import CountVectorizer\n",
    "max_features=1000\n",
    "\n",
    "count_of_vectors=CountVectorizer(max_features=max_features)\n",
    "sparce_matrix=count_of_vectors.fit_transform(lst).toarray()\n",
    "\n",
    "# all_words is a list ordered by word frequency\n",
    "all_words=count_of_vectors.get_feature_names()\n",
    "print('The 50 Most Common Words: ', all_words[0:50])"
   ]
  },
  {
   "cell_type": "code",
   "execution_count": 21,
   "metadata": {},
   "outputs": [
    {
     "name": "stderr",
     "output_type": "stream",
     "text": [
      "/home/ysimokat/anaconda3/envs/tf-gpu/lib/python3.7/site-packages/past/types/oldstr.py:5: DeprecationWarning: Using or importing the ABCs from 'collections' instead of from 'collections.abc' is deprecated, and in 3.8 it will stop working\n",
      "  from collections import Iterable\n"
     ]
    }
   ],
   "source": [
    "from sklearn.decomposition import LatentDirichletAllocation as LDA\n",
    "count_data =count_of_vectors.fit_transform(lst)\n",
    "lda = LDA(n_components = 20, random_state = 10)\n",
    "model = lda.fit(count_data)\n",
    "\n",
    "import pyLDAvis\n",
    "import pyLDAvis.sklearn\n",
    "pyLDAvis.enable_notebook()\n",
    "vis = pyLDAvis.sklearn.prepare(model, count_data, count_of_vectors, mds='tsne')\n",
    "saved = pyLDAvis.save_html(vis, fileobj = \"vis.html\")"
   ]
  },
  {
   "cell_type": "code",
   "execution_count": 22,
   "metadata": {},
   "outputs": [
    {
     "data": {
      "text/plain": [
       "Google Maps    234651\n",
       "Waze           163252\n",
       "HERE WeGo       10736\n",
       "AcuraLink           9\n",
       "Name: App Name, dtype: int64"
      ]
     },
     "execution_count": 22,
     "metadata": {},
     "output_type": "execute_result"
    }
   ],
   "source": [
    "df['App Name'].value_counts()"
   ]
  },
  {
   "cell_type": "markdown",
   "metadata": {},
   "source": [
    "## topics on each app"
   ]
  },
  {
   "cell_type": "code",
   "execution_count": 23,
   "metadata": {},
   "outputs": [],
   "source": [
    "#google map\n",
    "g0 = df[df['App Name']=='Google Maps']\n",
    "g = [i for i in g0['text']]\n",
    "#WAze\n",
    "w0 = df[df['App Name']=='Waze']\n",
    "w = [i for i in w0['text']]\n",
    "#Here WeGo\n",
    "h0 = df[df['App Name']=='HERE WeGo']\n",
    "h = [i for i in h0['text']]\n",
    "#AcuraLink\n",
    "a0 = df[df['App Name']=='AcuraLink']\n",
    "a = [i for i in a0['text']]"
   ]
  },
  {
   "cell_type": "code",
   "execution_count": 24,
   "metadata": {},
   "outputs": [],
   "source": [
    "from sklearn.decomposition import LatentDirichletAllocation as LDA\n",
    "max_features=100\n",
    "\n",
    "count_of_vectors=CountVectorizer(max_features=max_features)\n",
    "count_data =count_of_vectors.fit_transform(g)\n",
    "lda = LDA(n_components = 10, random_state = 10)\n",
    "model_g = lda.fit(count_data)\n",
    "\n",
    "import pyLDAvis\n",
    "import pyLDAvis.sklearn\n",
    "pyLDAvis.enable_notebook()\n",
    "vis1 = pyLDAvis.sklearn.prepare(model_g, count_data, count_of_vectors, mds='tsne')\n",
    "saved = pyLDAvis.save_html(vis1, fileobj = \"vis_google.html\")"
   ]
  },
  {
   "cell_type": "code",
   "execution_count": 25,
   "metadata": {},
   "outputs": [],
   "source": [
    "from sklearn.decomposition import LatentDirichletAllocation as LDA\n",
    "count_data =count_of_vectors.fit_transform(w)\n",
    "lda = LDA(n_components = 10, random_state = 10)\n",
    "model_w = lda.fit(count_data)\n",
    "\n",
    "import pyLDAvis\n",
    "import pyLDAvis.sklearn\n",
    "pyLDAvis.enable_notebook()\n",
    "vis = pyLDAvis.sklearn.prepare(model_w, count_data, count_of_vectors, mds='tsne')\n",
    "saved = pyLDAvis.save_html(vis, fileobj = \"vis_waze.html\")"
   ]
  },
  {
   "cell_type": "code",
   "execution_count": 26,
   "metadata": {},
   "outputs": [],
   "source": [
    "from sklearn.decomposition import LatentDirichletAllocation as LDA\n",
    "count_data =count_of_vectors.fit_transform(h)\n",
    "lda = LDA(n_components = 10, random_state = 10)\n",
    "model_h = lda.fit(count_data)\n",
    "\n",
    "import pyLDAvis\n",
    "import pyLDAvis.sklearn\n",
    "pyLDAvis.enable_notebook()\n",
    "vis = pyLDAvis.sklearn.prepare(model_h, count_data, count_of_vectors, mds='tsne')\n",
    "saved = pyLDAvis.save_html(vis, fileobj = \"vis_here_wego.html\")"
   ]
  },
  {
   "cell_type": "code",
   "execution_count": 27,
   "metadata": {},
   "outputs": [],
   "source": [
    "from sklearn.decomposition import LatentDirichletAllocation as LDA\n",
    "count_data =count_of_vectors.fit_transform(a)\n",
    "lda = LDA(n_components = 10, random_state = 10)\n",
    "model_a = lda.fit(count_data)\n",
    "\n",
    "import pyLDAvis\n",
    "import pyLDAvis.sklearn\n",
    "pyLDAvis.enable_notebook()\n",
    "vis = pyLDAvis.sklearn.prepare(model_a, count_data, count_of_vectors, mds='tsne')\n",
    "saved = pyLDAvis.save_html(vis, fileobj = \"vis_acuralink.html\")"
   ]
  },
  {
   "cell_type": "markdown",
   "metadata": {},
   "source": [
    "## good/bad topics on each app "
   ]
  },
  {
   "cell_type": "code",
   "execution_count": 28,
   "metadata": {},
   "outputs": [],
   "source": [
    "#google map with bad reviews, rating <4\n",
    "google_bad = g0[g0['Rating']<4]\n",
    "gb = [i for i in google_bad['text']]"
   ]
  },
  {
   "cell_type": "code",
   "execution_count": 29,
   "metadata": {},
   "outputs": [],
   "source": [
    "from sklearn.decomposition import LatentDirichletAllocation as LDA\n",
    "max_features=500\n",
    "\n",
    "count_of_vectors=CountVectorizer(max_features=max_features)\n",
    "count_data =count_of_vectors.fit_transform(gb)\n",
    "lda = LDA(n_components = 10, random_state = 10)\n",
    "model_g = lda.fit(count_data)\n",
    "\n",
    "import pyLDAvis\n",
    "import pyLDAvis.sklearn\n",
    "pyLDAvis.enable_notebook()\n",
    "vis1 = pyLDAvis.sklearn.prepare(model_g, count_data, count_of_vectors, mds='tsne')\n",
    "saved = pyLDAvis.save_html(vis1, fileobj = \"vis_google_bad.html\")"
   ]
  },
  {
   "cell_type": "code",
   "execution_count": 30,
   "metadata": {},
   "outputs": [],
   "source": [
    "#google map with good reviews, rating = 5\n",
    "google_good = g0[g0['Rating']==5]\n",
    "gg = [i for i in google_good['text']]"
   ]
  },
  {
   "cell_type": "code",
   "execution_count": 31,
   "metadata": {},
   "outputs": [],
   "source": [
    "from sklearn.decomposition import LatentDirichletAllocation as LDA\n",
    "max_features=500\n",
    "\n",
    "count_of_vectors=CountVectorizer(max_features=max_features)\n",
    "count_data =count_of_vectors.fit_transform(gg)\n",
    "lda = LDA(n_components = 10, random_state = 10)\n",
    "model_g = lda.fit(count_data)\n",
    "\n",
    "import pyLDAvis\n",
    "import pyLDAvis.sklearn\n",
    "pyLDAvis.enable_notebook()\n",
    "vis1 = pyLDAvis.sklearn.prepare(model_g, count_data, count_of_vectors, mds='tsne')\n",
    "saved = pyLDAvis.save_html(vis1, fileobj = \"vis_google_good.html\")"
   ]
  },
  {
   "cell_type": "code",
   "execution_count": 32,
   "metadata": {},
   "outputs": [],
   "source": [
    "#waze with bad reviews, rating <4\n",
    "waze_bad = w0[w0['Rating']<4]\n",
    "wb = [i for i in waze_bad['text']]\n",
    "\n",
    "max_features=500\n",
    "count_of_vectors=CountVectorizer(max_features=max_features)\n",
    "count_data =count_of_vectors.fit_transform(wb)\n",
    "lda = LDA(n_components = 10, random_state = 10)\n",
    "model_g = lda.fit(count_data)\n",
    "\n",
    "import pyLDAvis\n",
    "import pyLDAvis.sklearn\n",
    "pyLDAvis.enable_notebook()\n",
    "vis1 = pyLDAvis.sklearn.prepare(model_g, count_data, count_of_vectors, mds='tsne')\n",
    "saved = pyLDAvis.save_html(vis1, fileobj = \"vis_waze_bad.html\")"
   ]
  },
  {
   "cell_type": "code",
   "execution_count": 33,
   "metadata": {},
   "outputs": [],
   "source": [
    "#waze with good reviews, rating=5\n",
    "waze_good = w0[w0['Rating']==5]\n",
    "wg = [i for i in waze_good['text']]\n",
    "\n",
    "max_features=500\n",
    "count_of_vectors=CountVectorizer(max_features=max_features)\n",
    "count_data =count_of_vectors.fit_transform(wg)\n",
    "lda = LDA(n_components = 10, random_state = 10)\n",
    "model_g = lda.fit(count_data)\n",
    "\n",
    "import pyLDAvis\n",
    "import pyLDAvis.sklearn\n",
    "pyLDAvis.enable_notebook()\n",
    "vis1 = pyLDAvis.sklearn.prepare(model_g, count_data, count_of_vectors, mds='tsne')\n",
    "saved = pyLDAvis.save_html(vis1, fileobj = \"vis_waze_good.html\")"
   ]
  },
  {
   "cell_type": "code",
   "execution_count": 34,
   "metadata": {},
   "outputs": [],
   "source": [
    "#here wego with bad reviews, rating <4\n",
    "here_wego_bad = h0[h0['Rating']<4]\n",
    "hb = [i for i in here_wego_bad['text']]\n",
    "\n",
    "max_features=500\n",
    "count_of_vectors=CountVectorizer(max_features=max_features)\n",
    "count_data =count_of_vectors.fit_transform(hb)\n",
    "lda = LDA(n_components = 10, random_state = 10)\n",
    "model_g = lda.fit(count_data)\n",
    "\n",
    "import pyLDAvis\n",
    "import pyLDAvis.sklearn\n",
    "pyLDAvis.enable_notebook()\n",
    "vis1 = pyLDAvis.sklearn.prepare(model_g, count_data, count_of_vectors, mds='tsne')\n",
    "saved = pyLDAvis.save_html(vis1, fileobj = \"vis_here_wego_bad.html\")"
   ]
  },
  {
   "cell_type": "code",
   "execution_count": 35,
   "metadata": {},
   "outputs": [],
   "source": [
    "#here wego with bad reviews, rating=5\n",
    "here_wego_good = h0[h0['Rating']==5]\n",
    "hg = [i for i in here_wego_good['text']]\n",
    "\n",
    "max_features=500\n",
    "count_of_vectors=CountVectorizer(max_features=max_features)\n",
    "count_data =count_of_vectors.fit_transform(hg)\n",
    "lda = LDA(n_components = 10, random_state = 10)\n",
    "model_g = lda.fit(count_data)\n",
    "\n",
    "import pyLDAvis\n",
    "import pyLDAvis.sklearn\n",
    "pyLDAvis.enable_notebook()\n",
    "vis1 = pyLDAvis.sklearn.prepare(model_g, count_data, count_of_vectors, mds='tsne')\n",
    "saved = pyLDAvis.save_html(vis1, fileobj = \"vis_here_wego_good.html\")"
   ]
  },
  {
   "cell_type": "code",
   "execution_count": 36,
   "metadata": {},
   "outputs": [],
   "source": [
    "#acuraLink with bad reviews, rating <4\n",
    "acuralink_bad = a0[a0['Rating']<4]\n",
    "ab = [i for i in acuralink_bad['text']]\n",
    "\n",
    "max_features=500\n",
    "count_of_vectors=CountVectorizer(max_features=max_features)\n",
    "count_data =count_of_vectors.fit_transform(ab)\n",
    "lda = LDA(n_components = 10, random_state = 10)\n",
    "model_g = lda.fit(count_data)\n",
    "\n",
    "import pyLDAvis\n",
    "import pyLDAvis.sklearn\n",
    "pyLDAvis.enable_notebook()\n",
    "vis1 = pyLDAvis.sklearn.prepare(model_g, count_data, count_of_vectors, mds='tsne')\n",
    "saved = pyLDAvis.save_html(vis1, fileobj = \"vis_acuraLink_bad.html\")"
   ]
  },
  {
   "cell_type": "code",
   "execution_count": 37,
   "metadata": {},
   "outputs": [
    {
     "data": {
      "text/plain": [
       "[]"
      ]
     },
     "execution_count": 37,
     "metadata": {},
     "output_type": "execute_result"
    }
   ],
   "source": [
    "#acuraLink with bad reviews, rating=5\n",
    "acuralink_good = a0[a0['Rating']==5]\n",
    "ag = [i for i in acuralink_good['text']]\n",
    "ag"
   ]
  },
  {
   "cell_type": "code",
   "execution_count": 38,
   "metadata": {},
   "outputs": [
    {
     "data": {
      "text/plain": [
       "'\\nmax_features=500\\ncount_of_vectors=CountVectorizer(max_features=max_features)\\ncount_data =count_of_vectors.fit_transform(ag)\\nlda = LDA(n_components = 10, random_state = 10)\\nmodel_g = lda.fit(count_data)\\n\\nimport pyLDAvis\\nimport pyLDAvis.sklearn\\npyLDAvis.enable_notebook()\\nvis1 = pyLDAvis.sklearn.prepare(model_g, count_data, count_of_vectors, mds=\\'tsne\\')\\nsaved = pyLDAvis.save_html(vis1, fileobj = \"vis_acuraLink_good.html\")\\n'"
      ]
     },
     "execution_count": 38,
     "metadata": {},
     "output_type": "execute_result"
    }
   ],
   "source": [
    "'''\n",
    "max_features=500\n",
    "count_of_vectors=CountVectorizer(max_features=max_features)\n",
    "count_data =count_of_vectors.fit_transform(ag)\n",
    "lda = LDA(n_components = 10, random_state = 10)\n",
    "model_g = lda.fit(count_data)\n",
    "\n",
    "import pyLDAvis\n",
    "import pyLDAvis.sklearn\n",
    "pyLDAvis.enable_notebook()\n",
    "vis1 = pyLDAvis.sklearn.prepare(model_g, count_data, count_of_vectors, mds='tsne')\n",
    "saved = pyLDAvis.save_html(vis1, fileobj = \"vis_acuraLink_good.html\")\n",
    "'''"
   ]
  },
  {
   "cell_type": "code",
   "execution_count": 39,
   "metadata": {},
   "outputs": [
    {
     "data": {
      "text/plain": [
       "(20, 1000)"
      ]
     },
     "execution_count": 39,
     "metadata": {},
     "output_type": "execute_result"
    }
   ],
   "source": [
    "model.components_.shape"
   ]
  },
  {
   "cell_type": "code",
   "execution_count": 40,
   "metadata": {},
   "outputs": [
    {
     "name": "stderr",
     "output_type": "stream",
     "text": [
      "/home/ysimokat/anaconda3/envs/tf-gpu/lib/python3.7/site-packages/scipy/sparse/sparsetools.py:21: DeprecationWarning: `scipy.sparse.sparsetools` is deprecated!\n",
      "scipy.sparse.sparsetools is a private module for scipy.sparse, and should not be used.\n",
      "  _deprecated()\n"
     ]
    }
   ],
   "source": [
    "from gensim.models.tfidfmodel import TfidfModel\n",
    "from gensim.corpora import Dictionary\n",
    "import gensim"
   ]
  },
  {
   "cell_type": "code",
   "execution_count": 41,
   "metadata": {},
   "outputs": [],
   "source": [
    "corpus0 = [i.strip().split() for i in lst]"
   ]
  },
  {
   "cell_type": "code",
   "execution_count": 42,
   "metadata": {},
   "outputs": [
    {
     "data": {
      "text/plain": [
       "[['comment', 'obviously'], ['blank', 'downloading']]"
      ]
     },
     "execution_count": 42,
     "metadata": {},
     "output_type": "execute_result"
    }
   ],
   "source": [
    "corpus0[:2]"
   ]
  },
  {
   "cell_type": "code",
   "execution_count": 43,
   "metadata": {},
   "outputs": [
    {
     "data": {
      "text/plain": [
       "<gensim.corpora.dictionary.Dictionary at 0x7f1b8ac57198>"
      ]
     },
     "execution_count": 43,
     "metadata": {},
     "output_type": "execute_result"
    }
   ],
   "source": [
    "dct = Dictionary(corpus0)\n",
    "dct"
   ]
  },
  {
   "cell_type": "code",
   "execution_count": 44,
   "metadata": {},
   "outputs": [],
   "source": [
    "# Convert the list reviews into a Document Term Matrix\n",
    "corpus = [dct.doc2bow(line) for line in corpus0]  # convert corpus to BoW format"
   ]
  },
  {
   "cell_type": "code",
   "execution_count": 45,
   "metadata": {},
   "outputs": [
    {
     "data": {
      "text/plain": [
       "[(2, 1), (4, 1), (5, 1), (6, 1), (7, 1), (8, 1), (9, 1), (10, 1), (11, 1)]"
      ]
     },
     "execution_count": 45,
     "metadata": {},
     "output_type": "execute_result"
    }
   ],
   "source": [
    "corpus[2]"
   ]
  },
  {
   "cell_type": "code",
   "execution_count": 46,
   "metadata": {},
   "outputs": [],
   "source": [
    "#calculate TF-IDF on the bag of words vectors\n",
    "tfidf = TfidfModel(corpus)"
   ]
  },
  {
   "cell_type": "code",
   "execution_count": 47,
   "metadata": {},
   "outputs": [],
   "source": [
    "corpus_tfidf = tfidf[corpus]"
   ]
  },
  {
   "cell_type": "code",
   "execution_count": 48,
   "metadata": {},
   "outputs": [],
   "source": [
    "import warnings\n",
    "warnings.simplefilter(\"ignore\")"
   ]
  },
  {
   "cell_type": "code",
   "execution_count": 49,
   "metadata": {},
   "outputs": [],
   "source": [
    "from gensim.models import CoherenceModel\n",
    "def compute_coherence_values(dictionary, data, corpus, limit, start, step):\n",
    "    coherence_values = []\n",
    "    model_list = []\n",
    "    for num_topics in range(start, stop, step):\n",
    "        lda_model = gensim.models.ldamodel.LdaModel(corpus = corpus,\n",
    "                                           id2word = dictionary,\n",
    "                                           num_topics = num_topics,\n",
    "                                           random_state = 10)\n",
    "        model_list.append(model)\n",
    "        coherencemodel = CoherenceModel(model = lda_model,\n",
    "                                        texts = data, \n",
    "                                        dictionary = dictionary,\n",
    "                                        coherence = 'c_v')\n",
    "        coherence_values.append(coherencemodel.get_coherence())\n",
    "\n",
    "    return model_list, coherence_values"
   ]
  },
  {
   "cell_type": "code",
   "execution_count": 50,
   "metadata": {},
   "outputs": [],
   "source": [
    "start = 1\n",
    "stop = 20\n",
    "step = 1\n",
    "#whole data set\n",
    "model_list, coherence_values = compute_coherence_values(dictionary = dct, \n",
    "                                                        data = corpus0, corpus = corpus, \n",
    "                                                        start = start, limit = stop,\n",
    "                                                       step = step)"
   ]
  },
  {
   "cell_type": "code",
   "execution_count": 51,
   "metadata": {
    "scrolled": false
   },
   "outputs": [
    {
     "data": {
      "image/png": "[encoded data removed]",
      "text/plain": [
       "<Figure size 936x288 with 1 Axes>"
      ]
     },
     "metadata": {
      "needs_background": "light"
     },
     "output_type": "display_data"
    }
   ],
   "source": [
    "#plot the coherence values\n",
    "x = range(1,20,1)  #start.limit,steps\n",
    "plt.figure(figsize = (13, 4))\n",
    "plt.plot(x, coherence_values, color = 'green')\n",
    "plt.xlabel(\"Num Topics\", fontsize = 13)\n",
    "plt.ylabel(\"Coherence score\", fontsize = 13)\n",
    "plt.xticks(x)\n",
    "plt.show()"
   ]
  },
  {
   "cell_type": "markdown",
   "metadata": {},
   "source": [
    "have a number of topics on X-axis and coherence score on Y-axis. \n",
    "Of the number of topics, 9 have the highest coherence score, so the optimum number of topics are 9."
   ]
  },
  {
   "cell_type": "markdown",
   "metadata": {},
   "source": [
    "Running LDA using Bag of Words"
   ]
  },
  {
   "cell_type": "code",
   "execution_count": 52,
   "metadata": {},
   "outputs": [],
   "source": [
    "#Train our lda model using gensim.models.LdaMulticore\n",
    "lda_model = gensim.models.LdaMulticore(corpus, num_topics=9, id2word=dct, passes=2, workers=2)"
   ]
  },
  {
   "cell_type": "code",
   "execution_count": 53,
   "metadata": {},
   "outputs": [
    {
     "name": "stdout",
     "output_type": "stream",
     "text": [
      "\n",
      "Score: 0.37037160992622375\t \n",
      "Topic: [('google', 0.11333069), ('better', 0.06457213), ('location', 0.046821464), ('review', 0.015759548), ('nothing', 0.015621065), ('search', 0.015472289), ('point', 0.014735438), ('never', 0.012383577), ('feature', 0.012135126), ('place', 0.011977312)]\n",
      "\n",
      "Score: 0.370304673910141\t \n",
      "Topic: [('great', 0.28324017), ('excellent', 0.17745323), ('useful', 0.11771877), ('application', 0.0429801), ('program', 0.021964287), ('comment', 0.021526854), ('practical', 0.017225236), ('convenient', 0.015740875), ('simple', 0.011689883), ('congratulation', 0.009333553)]\n",
      "\n",
      "Score: 0.03706411272287369\t \n",
      "Topic: [('application', 0.15390208), ('thank', 0.05395301), ('place', 0.03530348), ('battery', 0.020502051), ('travel', 0.016927341), ('guide', 0.016757807), ('right', 0.012949767), ('superb', 0.010239009), ('handy', 0.008438373), ('trouble', 0.007864453)]\n",
      "\n",
      "Score: 0.03705388680100441\t \n",
      "Topic: [('really', 0.073570855), ('awesome', 0.056137577), ('thanks', 0.051726993), ('work', 0.031559985), ('people', 0.024907501), ('loved', 0.0157057), ('helped', 0.01386887), ('world', 0.013732548), ('thing', 0.0127366595), ('pretty', 0.012505267)]\n",
      "\n",
      "Score: 0.037047989666461945\t \n",
      "Topic: [('speed', 0.042552553), ('amazing', 0.027397815), ('steady', 0.023263302), ('alert', 0.022535834), ('updated', 0.019656457), ('limit', 0.016425136), ('radar', 0.016019095), ('driver', 0.015287557), ('camera', 0.015166528), ('first', 0.015128016)]\n",
      "\n",
      "Score: 0.03704661875963211\t \n",
      "Topic: [('route', 0.05661689), ('traffic', 0.045083538), ('helpful', 0.039260324), ('navigation', 0.027155628), ('direction', 0.02577543), ('accurate', 0.02506024), ('sometimes', 0.023996316), ('always', 0.02335826), ('wrong', 0.0152737675), ('destination', 0.014689171)]\n",
      "\n",
      "Score: 0.03703703731298447\t \n",
      "Topic: [('street', 0.023414467), ('help', 0.015955754), ('driving', 0.015018928), ('route', 0.012619392), ('please', 0.009423813), ('screen', 0.009224252), ('change', 0.008982055), ('wonderful', 0.008485463), ('drive', 0.008359215), ('everything', 0.008269814)]\n",
      "\n",
      "Score: 0.03703703731298447\t \n",
      "Topic: [('perfect', 0.038937725), ('without', 0.0382465), ('address', 0.027427666), ('offline', 0.026491655), ('recommend', 0.025185611), ('download', 0.017664082), ('internet', 0.014542685), ('network', 0.013758662), ('fantastic', 0.011538025), ('daily', 0.011371394)]\n",
      "\n",
      "Score: 0.03703703731298447\t \n",
      "Topic: [('update', 0.08650016), ('super', 0.042026903), ('problem', 0.023738977), ('please', 0.019434573), ('phone', 0.01813586), ('every', 0.017434264), ('since', 0.017279241), ('signal', 0.01613848), ('working', 0.015302749), ('version', 0.012999196)]\n"
     ]
    }
   ],
   "source": [
    "for index, score in sorted(lda_model[corpus[0]], key=lambda tup: -1*tup[1]):\n",
    "    print(\"\\nScore: {}\\t \\nTopic: {}\".format(score, lda_model.show_topic(index, 10)))"
   ]
  },
  {
   "cell_type": "code",
   "execution_count": 54,
   "metadata": {},
   "outputs": [],
   "source": [
    "# Transfer both model to document-topic matrix with corresponding probability\n",
    "lda = []\n",
    "for i in corpus:\n",
    "    lda1 = []\n",
    "    for index, prob in lda_model[i]:\n",
    "        lda1.append(prob)\n",
    "    lda.append(lda1)"
   ]
  },
  {
   "cell_type": "code",
   "execution_count": 55,
   "metadata": {
    "scrolled": false
   },
   "outputs": [
    {
     "data": {
      "text/html": [
       "<div>\n",
       "<style scoped>\n",
       "    .dataframe tbody tr th:only-of-type {\n",
       "        vertical-align: middle;\n",
       "    }\n",
       "\n",
       "    .dataframe tbody tr th {\n",
       "        vertical-align: top;\n",
       "    }\n",
       "\n",
       "    .dataframe thead th {\n",
       "        text-align: right;\n",
       "    }\n",
       "</style>\n",
       "<table border=\"1\" class=\"dataframe\">\n",
       "  <thead>\n",
       "    <tr style=\"text-align: right;\">\n",
       "      <th></th>\n",
       "      <th>w1</th>\n",
       "      <th>w2</th>\n",
       "      <th>w3</th>\n",
       "      <th>w4</th>\n",
       "      <th>w5</th>\n",
       "      <th>w6</th>\n",
       "      <th>w7</th>\n",
       "      <th>w8</th>\n",
       "      <th>w9</th>\n",
       "    </tr>\n",
       "  </thead>\n",
       "  <tbody>\n",
       "    <tr>\n",
       "      <th>0</th>\n",
       "      <td>0.370375</td>\n",
       "      <td>0.037047</td>\n",
       "      <td>0.037037</td>\n",
       "      <td>0.037048</td>\n",
       "      <td>0.037061</td>\n",
       "      <td>0.037037</td>\n",
       "      <td>0.037054</td>\n",
       "      <td>0.370305</td>\n",
       "      <td>0.037037</td>\n",
       "    </tr>\n",
       "    <tr>\n",
       "      <th>1</th>\n",
       "      <td>0.037062</td>\n",
       "      <td>0.037037</td>\n",
       "      <td>0.037037</td>\n",
       "      <td>0.037037</td>\n",
       "      <td>0.370345</td>\n",
       "      <td>0.370370</td>\n",
       "      <td>0.037037</td>\n",
       "      <td>0.037037</td>\n",
       "      <td>0.037037</td>\n",
       "    </tr>\n",
       "    <tr>\n",
       "      <th>2</th>\n",
       "      <td>0.540890</td>\n",
       "      <td>0.011111</td>\n",
       "      <td>0.133748</td>\n",
       "      <td>0.011117</td>\n",
       "      <td>0.011116</td>\n",
       "      <td>0.011112</td>\n",
       "      <td>0.258680</td>\n",
       "      <td>0.011114</td>\n",
       "      <td>0.011112</td>\n",
       "    </tr>\n",
       "    <tr>\n",
       "      <th>3</th>\n",
       "      <td>0.055556</td>\n",
       "      <td>0.055556</td>\n",
       "      <td>0.055556</td>\n",
       "      <td>0.055556</td>\n",
       "      <td>0.055556</td>\n",
       "      <td>0.055556</td>\n",
       "      <td>0.055556</td>\n",
       "      <td>0.555556</td>\n",
       "      <td>0.055556</td>\n",
       "    </tr>\n",
       "    <tr>\n",
       "      <th>4</th>\n",
       "      <td>0.152596</td>\n",
       "      <td>0.066358</td>\n",
       "      <td>0.219728</td>\n",
       "      <td>0.272566</td>\n",
       "      <td>0.059252</td>\n",
       "      <td>0.213622</td>\n",
       "      <td>NaN</td>\n",
       "      <td>NaN</td>\n",
       "      <td>NaN</td>\n",
       "    </tr>\n",
       "  </tbody>\n",
       "</table>\n",
       "</div>"
      ],
      "text/plain": [
       "         w1        w2        w3        w4        w5        w6        w7  \\\n",
       "0  0.370375  0.037047  0.037037  0.037048  0.037061  0.037037  0.037054   \n",
       "1  0.037062  0.037037  0.037037  0.037037  0.370345  0.370370  0.037037   \n",
       "2  0.540890  0.011111  0.133748  0.011117  0.011116  0.011112  0.258680   \n",
       "3  0.055556  0.055556  0.055556  0.055556  0.055556  0.055556  0.055556   \n",
       "4  0.152596  0.066358  0.219728  0.272566  0.059252  0.213622       NaN   \n",
       "\n",
       "         w8        w9  \n",
       "0  0.370305  0.037037  \n",
       "1  0.037037  0.037037  \n",
       "2  0.011114  0.011112  \n",
       "3  0.555556  0.055556  \n",
       "4       NaN       NaN  "
      ]
     },
     "execution_count": 55,
     "metadata": {},
     "output_type": "execute_result"
    }
   ],
   "source": [
    "df_lda = pd.DataFrame(lda,columns=['w1','w2','w3','w4','w5','w6','w7','w8','w9'])\n",
    "df_lda.head()"
   ]
  },
  {
   "cell_type": "code",
   "execution_count": 56,
   "metadata": {},
   "outputs": [],
   "source": [
    "df_lda['rating'] = df['Rating']"
   ]
  },
  {
   "cell_type": "code",
   "execution_count": 57,
   "metadata": {},
   "outputs": [
    {
     "data": {
      "text/html": [
       "<div>\n",
       "<style scoped>\n",
       "    .dataframe tbody tr th:only-of-type {\n",
       "        vertical-align: middle;\n",
       "    }\n",
       "\n",
       "    .dataframe tbody tr th {\n",
       "        vertical-align: top;\n",
       "    }\n",
       "\n",
       "    .dataframe thead th {\n",
       "        text-align: right;\n",
       "    }\n",
       "</style>\n",
       "<table border=\"1\" class=\"dataframe\">\n",
       "  <thead>\n",
       "    <tr style=\"text-align: right;\">\n",
       "      <th></th>\n",
       "      <th>w1</th>\n",
       "      <th>w2</th>\n",
       "      <th>w3</th>\n",
       "      <th>w4</th>\n",
       "      <th>w5</th>\n",
       "      <th>w6</th>\n",
       "      <th>w7</th>\n",
       "      <th>w8</th>\n",
       "      <th>w9</th>\n",
       "      <th>rating</th>\n",
       "    </tr>\n",
       "  </thead>\n",
       "  <tbody>\n",
       "    <tr>\n",
       "      <th>0</th>\n",
       "      <td>0.370375</td>\n",
       "      <td>0.037047</td>\n",
       "      <td>0.037037</td>\n",
       "      <td>0.037048</td>\n",
       "      <td>0.037061</td>\n",
       "      <td>0.037037</td>\n",
       "      <td>0.037054</td>\n",
       "      <td>0.370305</td>\n",
       "      <td>0.037037</td>\n",
       "      <td>5</td>\n",
       "    </tr>\n",
       "    <tr>\n",
       "      <th>1</th>\n",
       "      <td>0.037062</td>\n",
       "      <td>0.037037</td>\n",
       "      <td>0.037037</td>\n",
       "      <td>0.037037</td>\n",
       "      <td>0.370345</td>\n",
       "      <td>0.370370</td>\n",
       "      <td>0.037037</td>\n",
       "      <td>0.037037</td>\n",
       "      <td>0.037037</td>\n",
       "      <td>1</td>\n",
       "    </tr>\n",
       "    <tr>\n",
       "      <th>2</th>\n",
       "      <td>0.540890</td>\n",
       "      <td>0.011111</td>\n",
       "      <td>0.133748</td>\n",
       "      <td>0.011117</td>\n",
       "      <td>0.011116</td>\n",
       "      <td>0.011112</td>\n",
       "      <td>0.258680</td>\n",
       "      <td>0.011114</td>\n",
       "      <td>0.011112</td>\n",
       "      <td>3</td>\n",
       "    </tr>\n",
       "    <tr>\n",
       "      <th>3</th>\n",
       "      <td>0.055556</td>\n",
       "      <td>0.055556</td>\n",
       "      <td>0.055556</td>\n",
       "      <td>0.055556</td>\n",
       "      <td>0.055556</td>\n",
       "      <td>0.055556</td>\n",
       "      <td>0.055556</td>\n",
       "      <td>0.555556</td>\n",
       "      <td>0.055556</td>\n",
       "      <td>5</td>\n",
       "    </tr>\n",
       "    <tr>\n",
       "      <th>4</th>\n",
       "      <td>0.152596</td>\n",
       "      <td>0.066358</td>\n",
       "      <td>0.219728</td>\n",
       "      <td>0.272566</td>\n",
       "      <td>0.059252</td>\n",
       "      <td>0.213622</td>\n",
       "      <td>NaN</td>\n",
       "      <td>NaN</td>\n",
       "      <td>NaN</td>\n",
       "      <td>2</td>\n",
       "    </tr>\n",
       "  </tbody>\n",
       "</table>\n",
       "</div>"
      ],
      "text/plain": [
       "         w1        w2        w3        w4        w5        w6        w7  \\\n",
       "0  0.370375  0.037047  0.037037  0.037048  0.037061  0.037037  0.037054   \n",
       "1  0.037062  0.037037  0.037037  0.037037  0.370345  0.370370  0.037037   \n",
       "2  0.540890  0.011111  0.133748  0.011117  0.011116  0.011112  0.258680   \n",
       "3  0.055556  0.055556  0.055556  0.055556  0.055556  0.055556  0.055556   \n",
       "4  0.152596  0.066358  0.219728  0.272566  0.059252  0.213622       NaN   \n",
       "\n",
       "         w8        w9  rating  \n",
       "0  0.370305  0.037037       5  \n",
       "1  0.037037  0.037037       1  \n",
       "2  0.011114  0.011112       3  \n",
       "3  0.555556  0.055556       5  \n",
       "4       NaN       NaN       2  "
      ]
     },
     "execution_count": 57,
     "metadata": {},
     "output_type": "execute_result"
    }
   ],
   "source": [
    "df_lda.head()"
   ]
  },
  {
   "cell_type": "code",
   "execution_count": 58,
   "metadata": {},
   "outputs": [
    {
     "data": {
      "text/plain": [
       "w1            0\n",
       "w2          139\n",
       "w3         1454\n",
       "w4         6400\n",
       "w5        14939\n",
       "w6        23655\n",
       "w7        29482\n",
       "w8        32373\n",
       "w9        33520\n",
       "rating        0\n",
       "dtype: int64"
      ]
     },
     "execution_count": 58,
     "metadata": {},
     "output_type": "execute_result"
    }
   ],
   "source": [
    "df_lda.isnull().sum()"
   ]
  },
  {
   "cell_type": "code",
   "execution_count": 59,
   "metadata": {},
   "outputs": [
    {
     "data": {
      "text/plain": [
       "(408648, 10)"
      ]
     },
     "execution_count": 59,
     "metadata": {},
     "output_type": "execute_result"
    }
   ],
   "source": [
    "df_lda.shape"
   ]
  },
  {
   "cell_type": "code",
   "execution_count": 60,
   "metadata": {},
   "outputs": [],
   "source": [
    "w1 = df_lda['w9'].mean()\n",
    "w2 = df_lda['w2'].mean()\n",
    "w3 = df_lda['w3'].mean()\n",
    "w4 = df_lda['w4'].mean()\n",
    "w5 = df_lda['w5'].mean()\n",
    "w6 = df_lda['w6'].mean()\n",
    "w7 = df_lda['w7'].mean()\n",
    "w8 = df_lda['w8'].mean()\n",
    "df_lda['w9'].fillna(w1,axis=0,inplace=True)\n",
    "df_lda['w2'].fillna(w2,axis=0,inplace=True)\n",
    "df_lda['w3'].fillna(w3,axis=0,inplace=True)\n",
    "df_lda['w4'].fillna(w4,axis=0,inplace=True)\n",
    "df_lda['w5'].fillna(w5,axis=0,inplace=True)\n",
    "df_lda['w6'].fillna(w6,axis=0,inplace=True)\n",
    "df_lda['w7'].fillna(w7,axis=0,inplace=True)\n",
    "df_lda['w8'].fillna(w8,axis=0,inplace=True)"
   ]
  },
  {
   "cell_type": "code",
   "execution_count": 61,
   "metadata": {},
   "outputs": [
    {
     "data": {
      "text/plain": [
       "w1        0\n",
       "w2        0\n",
       "w3        0\n",
       "w4        0\n",
       "w5        0\n",
       "w6        0\n",
       "w7        0\n",
       "w8        0\n",
       "w9        0\n",
       "rating    0\n",
       "dtype: int64"
      ]
     },
     "execution_count": 61,
     "metadata": {},
     "output_type": "execute_result"
    }
   ],
   "source": [
    "df_lda.isnull().sum()"
   ]
  },
  {
   "cell_type": "code",
   "execution_count": 62,
   "metadata": {},
   "outputs": [
    {
     "data": {
      "text/html": [
       "<div>\n",
       "<style scoped>\n",
       "    .dataframe tbody tr th:only-of-type {\n",
       "        vertical-align: middle;\n",
       "    }\n",
       "\n",
       "    .dataframe tbody tr th {\n",
       "        vertical-align: top;\n",
       "    }\n",
       "\n",
       "    .dataframe thead th {\n",
       "        text-align: right;\n",
       "    }\n",
       "</style>\n",
       "<table border=\"1\" class=\"dataframe\">\n",
       "  <thead>\n",
       "    <tr style=\"text-align: right;\">\n",
       "      <th></th>\n",
       "      <th>count</th>\n",
       "      <th>mean</th>\n",
       "      <th>std</th>\n",
       "      <th>min</th>\n",
       "      <th>25%</th>\n",
       "      <th>50%</th>\n",
       "      <th>75%</th>\n",
       "      <th>max</th>\n",
       "    </tr>\n",
       "  </thead>\n",
       "  <tbody>\n",
       "    <tr>\n",
       "      <th>w1</th>\n",
       "      <td>408648.0</td>\n",
       "      <td>0.111967</td>\n",
       "      <td>0.132342</td>\n",
       "      <td>0.010101</td>\n",
       "      <td>0.037037</td>\n",
       "      <td>0.055556</td>\n",
       "      <td>0.111111</td>\n",
       "      <td>0.996568</td>\n",
       "    </tr>\n",
       "    <tr>\n",
       "      <th>w2</th>\n",
       "      <td>408648.0</td>\n",
       "      <td>0.147216</td>\n",
       "      <td>0.173898</td>\n",
       "      <td>0.010101</td>\n",
       "      <td>0.055556</td>\n",
       "      <td>0.111111</td>\n",
       "      <td>0.111111</td>\n",
       "      <td>0.953189</td>\n",
       "    </tr>\n",
       "    <tr>\n",
       "      <th>w3</th>\n",
       "      <td>408648.0</td>\n",
       "      <td>0.112205</td>\n",
       "      <td>0.133070</td>\n",
       "      <td>0.010101</td>\n",
       "      <td>0.037038</td>\n",
       "      <td>0.055556</td>\n",
       "      <td>0.111111</td>\n",
       "      <td>0.932874</td>\n",
       "    </tr>\n",
       "    <tr>\n",
       "      <th>w4</th>\n",
       "      <td>408648.0</td>\n",
       "      <td>0.105418</td>\n",
       "      <td>0.127017</td>\n",
       "      <td>0.010101</td>\n",
       "      <td>0.037037</td>\n",
       "      <td>0.055556</td>\n",
       "      <td>0.111111</td>\n",
       "      <td>0.911102</td>\n",
       "    </tr>\n",
       "    <tr>\n",
       "      <th>w5</th>\n",
       "      <td>408648.0</td>\n",
       "      <td>0.103079</td>\n",
       "      <td>0.121994</td>\n",
       "      <td>0.010101</td>\n",
       "      <td>0.037037</td>\n",
       "      <td>0.055556</td>\n",
       "      <td>0.111111</td>\n",
       "      <td>0.919192</td>\n",
       "    </tr>\n",
       "    <tr>\n",
       "      <th>w6</th>\n",
       "      <td>408648.0</td>\n",
       "      <td>0.101191</td>\n",
       "      <td>0.118295</td>\n",
       "      <td>0.010101</td>\n",
       "      <td>0.037037</td>\n",
       "      <td>0.055556</td>\n",
       "      <td>0.111111</td>\n",
       "      <td>0.919177</td>\n",
       "    </tr>\n",
       "    <tr>\n",
       "      <th>w7</th>\n",
       "      <td>408648.0</td>\n",
       "      <td>0.104079</td>\n",
       "      <td>0.123380</td>\n",
       "      <td>0.010101</td>\n",
       "      <td>0.037037</td>\n",
       "      <td>0.055556</td>\n",
       "      <td>0.111111</td>\n",
       "      <td>0.911107</td>\n",
       "    </tr>\n",
       "    <tr>\n",
       "      <th>w8</th>\n",
       "      <td>408648.0</td>\n",
       "      <td>0.127521</td>\n",
       "      <td>0.154469</td>\n",
       "      <td>0.010044</td>\n",
       "      <td>0.037037</td>\n",
       "      <td>0.111111</td>\n",
       "      <td>0.111111</td>\n",
       "      <td>0.919192</td>\n",
       "    </tr>\n",
       "    <tr>\n",
       "      <th>w9</th>\n",
       "      <td>408648.0</td>\n",
       "      <td>0.124491</td>\n",
       "      <td>0.152648</td>\n",
       "      <td>0.010101</td>\n",
       "      <td>0.037048</td>\n",
       "      <td>0.055583</td>\n",
       "      <td>0.111111</td>\n",
       "      <td>0.919189</td>\n",
       "    </tr>\n",
       "    <tr>\n",
       "      <th>rating</th>\n",
       "      <td>408648.0</td>\n",
       "      <td>4.137757</td>\n",
       "      <td>1.357826</td>\n",
       "      <td>1.000000</td>\n",
       "      <td>4.000000</td>\n",
       "      <td>5.000000</td>\n",
       "      <td>5.000000</td>\n",
       "      <td>5.000000</td>\n",
       "    </tr>\n",
       "  </tbody>\n",
       "</table>\n",
       "</div>"
      ],
      "text/plain": [
       "           count      mean       std       min       25%       50%       75%  \\\n",
       "w1      408648.0  0.111967  0.132342  0.010101  0.037037  0.055556  0.111111   \n",
       "w2      408648.0  0.147216  0.173898  0.010101  0.055556  0.111111  0.111111   \n",
       "w3      408648.0  0.112205  0.133070  0.010101  0.037038  0.055556  0.111111   \n",
       "w4      408648.0  0.105418  0.127017  0.010101  0.037037  0.055556  0.111111   \n",
       "w5      408648.0  0.103079  0.121994  0.010101  0.037037  0.055556  0.111111   \n",
       "w6      408648.0  0.101191  0.118295  0.010101  0.037037  0.055556  0.111111   \n",
       "w7      408648.0  0.104079  0.123380  0.010101  0.037037  0.055556  0.111111   \n",
       "w8      408648.0  0.127521  0.154469  0.010044  0.037037  0.111111  0.111111   \n",
       "w9      408648.0  0.124491  0.152648  0.010101  0.037048  0.055583  0.111111   \n",
       "rating  408648.0  4.137757  1.357826  1.000000  4.000000  5.000000  5.000000   \n",
       "\n",
       "             max  \n",
       "w1      0.996568  \n",
       "w2      0.953189  \n",
       "w3      0.932874  \n",
       "w4      0.911102  \n",
       "w5      0.919192  \n",
       "w6      0.919177  \n",
       "w7      0.911107  \n",
       "w8      0.919192  \n",
       "w9      0.919189  \n",
       "rating  5.000000  "
      ]
     },
     "execution_count": 62,
     "metadata": {},
     "output_type": "execute_result"
    }
   ],
   "source": [
    "df_lda.describe().T"
   ]
  },
  {
   "cell_type": "code",
   "execution_count": 63,
   "metadata": {},
   "outputs": [],
   "source": [
    "corr = df_lda.corr()"
   ]
  },
  {
   "cell_type": "code",
   "execution_count": 64,
   "metadata": {},
   "outputs": [
    {
     "data": {
      "image/png": "[encoded data removed]",
      "text/plain": [
       "<Figure size 432x288 with 2 Axes>"
      ]
     },
     "metadata": {
      "needs_background": "light"
     },
     "output_type": "display_data"
    }
   ],
   "source": [
    "names = df_lda.columns\n",
    "fig,ax = plt.subplots()\n",
    "d = ax.imshow(corr)\n",
    "plt.colorbar(d)\n",
    "ax.set_title(\"Correlation Plot\")\n",
    "ax.set_xticks(np.arange(len(names)))\n",
    "ax.set_yticks(np.arange(len(names)))\n",
    "ax.set_xticklabels(names)\n",
    "ax.set_yticklabels(names)\n",
    "#rotate x tick lables\n",
    "plt.setp(ax.get_xticklabels(),rotation=90)\n",
    "plt.show()"
   ]
  },
  {
   "cell_type": "code",
   "execution_count": 65,
   "metadata": {},
   "outputs": [],
   "source": [
    "from sklearn.model_selection import KFold\n",
    "from sklearn.linear_model import LinearRegression,Lasso,Ridge,ElasticNet,SGDRegressor\n",
    "from numpy import *\n",
    "import numpy as np\n",
    "\n",
    "#split the data into trainning and test sets\n",
    "from sklearn.model_selection import train_test_split\n",
    "from sklearn import preprocessing"
   ]
  },
  {
   "cell_type": "code",
   "execution_count": 66,
   "metadata": {},
   "outputs": [],
   "source": [
    "y = df_lda['rating']\n",
    "x = df_lda.drop('rating',axis=1)"
   ]
  },
  {
   "cell_type": "code",
   "execution_count": 67,
   "metadata": {},
   "outputs": [],
   "source": [
    "import numpy as np\n",
    "x = np.array(x)\n",
    "y = np.array(y).reshape(-1,1)"
   ]
  },
  {
   "cell_type": "code",
   "execution_count": 68,
   "metadata": {},
   "outputs": [
    {
     "data": {
      "text/plain": [
       "array([[0.36521631, 0.02857167, 0.02919029, ..., 0.02991418, 0.39626224,\n",
       "        0.02962971],\n",
       "       [0.02733135, 0.02856153, 0.02919029, ..., 0.02989551, 0.02969094,\n",
       "        0.02962972],\n",
       "       [0.53807104, 0.00107145, 0.13399465, ..., 0.2758903 , 0.00117764,\n",
       "        0.00111168],\n",
       "       ...,\n",
       "       [0.00384536, 0.22285184, 0.00411253, ..., 0.19753295, 0.21276623,\n",
       "        0.00418486],\n",
       "       [0.02730556, 0.02856153, 0.02919029, ..., 0.39985239, 0.02969094,\n",
       "        0.02962972],\n",
       "       [0.00853328, 0.38754541, 0.00912522, ..., 0.53792508, 0.00932185,\n",
       "        0.00925954]])"
      ]
     },
     "execution_count": 68,
     "metadata": {},
     "output_type": "execute_result"
    }
   ],
   "source": [
    "#Normalization\n",
    "#each feature is scaled to [0,1] range\n",
    "min_max_scaler = preprocessing.MinMaxScaler()\n",
    "x_norm = min_max_scaler.fit_transform(x)\n",
    "x_norm"
   ]
  },
  {
   "cell_type": "code",
   "execution_count": 69,
   "metadata": {},
   "outputs": [],
   "source": [
    "np.set_printoptions(precision=2, linewidth=80, suppress=True)"
   ]
  },
  {
   "cell_type": "code",
   "execution_count": 70,
   "metadata": {},
   "outputs": [
    {
     "data": {
      "text/plain": [
       "array([[1.  ],\n",
       "       [0.  ],\n",
       "       [0.5 ],\n",
       "       ...,\n",
       "       [1.  ],\n",
       "       [1.  ],\n",
       "       [0.75]])"
      ]
     },
     "execution_count": 70,
     "metadata": {},
     "output_type": "execute_result"
    }
   ],
   "source": [
    "y_norm = min_max_scaler.fit_transform(y)\n",
    "y_norm"
   ]
  },
  {
   "cell_type": "code",
   "execution_count": 71,
   "metadata": {},
   "outputs": [],
   "source": [
    "from sklearn.model_selection import cross_val_score\n",
    "from sklearn.model_selection import cross_validate"
   ]
  },
  {
   "cell_type": "code",
   "execution_count": 72,
   "metadata": {},
   "outputs": [],
   "source": [
    "x_train,x_test,y_train,y_test = train_test_split(x_norm,y_norm,test_size=0.3,random_state=33)"
   ]
  },
  {
   "cell_type": "code",
   "execution_count": 73,
   "metadata": {},
   "outputs": [],
   "source": [
    "#random forest\n",
    "from sklearn.ensemble import RandomForestRegressor\n",
    "rf = RandomForestRegressor(n_estimators=120,max_depth=12)\n",
    "rf.fit(x_train, y_train)\n",
    "y_pred_1= rf.predict(x_test)"
   ]
  },
  {
   "cell_type": "code",
   "execution_count": 74,
   "metadata": {},
   "outputs": [
    {
     "name": "stdout",
     "output_type": "stream",
     "text": [
      "0.3278110222174453 0.25739269531545494\n"
     ]
    }
   ],
   "source": [
    "rf_train_score = rf.score(x_train, y_train)\n",
    "rf_test_score = rf.score(x_test, y_test)\n",
    "print(rf_train_score,rf_test_score)"
   ]
  },
  {
   "cell_type": "code",
   "execution_count": 75,
   "metadata": {},
   "outputs": [
    {
     "data": {
      "text/plain": [
       "0.2918945556088429"
      ]
     },
     "execution_count": 75,
     "metadata": {},
     "output_type": "execute_result"
    }
   ],
   "source": [
    "rf_scores = np.sqrt(-cross_val_score(rf, x_train, y_train, cv=5, scoring='neg_mean_squared_error'))\n",
    "rf_scores = np.mean(rf_scores)\n",
    "rf_scores"
   ]
  },
  {
   "cell_type": "code",
   "execution_count": 76,
   "metadata": {},
   "outputs": [],
   "source": [
    "from sklearn.model_selection import KFold\n",
    "\n",
    "# Create linear regression object\n",
    "linreg = LinearRegression()\n",
    "\n",
    "# Train the model using the training sets\n",
    "linreg.fit(x_norm,y_norm)\n",
    "\n",
    "kf = KFold(n_splits=5)\n",
    "x_err = 0\n",
    "for train,test in kf.split(x_norm):\n",
    "    linreg.fit(x_norm[train],y_norm[train])\n",
    "    p = linreg.predict(x_norm[test])  #compute rmse on training data\n",
    "    e = p-y_norm[test]\n",
    "    x_err += np.dot(e.T,e)\n",
    "    \n",
    "rmse_10cv = np.sqrt(x_err/len(x_norm))"
   ]
  },
  {
   "cell_type": "code",
   "execution_count": 77,
   "metadata": {},
   "outputs": [
    {
     "data": {
      "text/plain": [
       "0.3117212263484787"
      ]
     },
     "execution_count": 77,
     "metadata": {},
     "output_type": "execute_result"
    }
   ],
   "source": [
    "rmse_10cv[0][0]"
   ]
  },
  {
   "cell_type": "code",
   "execution_count": 78,
   "metadata": {},
   "outputs": [],
   "source": [
    "#Gradient Boosting for Regression\n",
    "from sklearn.ensemble import GradientBoostingRegressor\n",
    "gb = GradientBoostingRegressor(n_estimators=500, max_depth=6,loss='ls',random_state=42)\n",
    "gb.fit(x_train, y_train)\n",
    "y_pred_3 = gb.predict(x_test)"
   ]
  },
  {
   "cell_type": "code",
   "execution_count": 79,
   "metadata": {},
   "outputs": [
    {
     "data": {
      "text/plain": [
       "0.29276095247705347"
      ]
     },
     "execution_count": 79,
     "metadata": {},
     "output_type": "execute_result"
    }
   ],
   "source": [
    "gradient_scores = np.sqrt(-cross_val_score(gb, x_train, y_train, cv=10, scoring='neg_mean_squared_error'))\n",
    "gradient_scores= np.mean(gradient_scores)\n",
    "gradient_scores"
   ]
  },
  {
   "cell_type": "code",
   "execution_count": 80,
   "metadata": {},
   "outputs": [
    {
     "name": "stdout",
     "output_type": "stream",
     "text": [
      "0.3187126057293195 0.252479988221324\n"
     ]
    }
   ],
   "source": [
    "gb_train_score = gb.score(x_train, y_train)\n",
    "gb_test_score = gb.score(x_test, y_test)\n",
    "print(gb_train_score,gb_test_score)"
   ]
  },
  {
   "cell_type": "code",
   "execution_count": 81,
   "metadata": {},
   "outputs": [],
   "source": [
    "# Decision Tree\n",
    "from sklearn.tree import DecisionTreeRegressor\n",
    "#dec = DecisionTreeRegressor(criterion='mse', splitter='random', max_depth=6)\n",
    "dec = DecisionTreeRegressor(criterion='mse', splitter='random', max_depth=6, random_state=42)\n",
    "dec.fit(x_train, y_train)\n",
    "y_pred_4 = dec.predict(x_test)"
   ]
  },
  {
   "cell_type": "code",
   "execution_count": 82,
   "metadata": {},
   "outputs": [
    {
     "data": {
      "text/plain": [
       "0.30108953038151504"
      ]
     },
     "execution_count": 82,
     "metadata": {},
     "output_type": "execute_result"
    }
   ],
   "source": [
    "dec_scores = np.sqrt(-cross_val_score(dec, x_train, y_train, cv=25, scoring='neg_mean_squared_error'))\n",
    "dec_scores = np.mean(dec_scores)\n",
    "dec_scores"
   ]
  },
  {
   "cell_type": "code",
   "execution_count": 83,
   "metadata": {},
   "outputs": [],
   "source": [
    "# Ridge Regression\n",
    "from sklearn.linear_model import RidgeCV\n",
    "ridge = RidgeCV(cv=10)\n",
    "ridge.fit(x_train, y_train)\n",
    "y_pred_5 = ridge.predict(x_test)"
   ]
  },
  {
   "cell_type": "code",
   "execution_count": 84,
   "metadata": {},
   "outputs": [
    {
     "data": {
      "text/plain": [
       "0.311678119072885"
      ]
     },
     "execution_count": 84,
     "metadata": {},
     "output_type": "execute_result"
    }
   ],
   "source": [
    "ridge_scores = np.sqrt(-cross_val_score(ridge, x_train, y_train, cv=10, scoring='neg_mean_squared_error'))\n",
    "ridge_scores = np.mean(ridge_scores)\n",
    "ridge_scores"
   ]
  },
  {
   "cell_type": "code",
   "execution_count": 85,
   "metadata": {},
   "outputs": [],
   "source": [
    "# KNN\n",
    "from sklearn.neighbors import KNeighborsRegressor\n",
    "knn = KNeighborsRegressor(10,  weights=\"uniform\")\n",
    "knn.fit(x_train, y_train)\n",
    "y_pred_6 = knn.predict(x_test)"
   ]
  },
  {
   "cell_type": "code",
   "execution_count": 86,
   "metadata": {},
   "outputs": [
    {
     "data": {
      "text/plain": [
       "0.3044610128812105"
      ]
     },
     "execution_count": 86,
     "metadata": {},
     "output_type": "execute_result"
    }
   ],
   "source": [
    "knn_scores = np.sqrt(-cross_val_score(knn, x_train, y_train, cv=10, scoring='neg_mean_squared_error'))\n",
    "knn_scores = np.mean(knn_scores)\n",
    "knn_scores"
   ]
  },
  {
   "cell_type": "code",
   "execution_count": 87,
   "metadata": {},
   "outputs": [],
   "source": [
    "#linear regression\n",
    "from sklearn.linear_model import LinearRegression\n",
    "linear = LinearRegression()\n",
    "linear.fit(x_train, y_train)\n",
    "y_pred_8 = linear.predict(x_test)"
   ]
  },
  {
   "cell_type": "code",
   "execution_count": 88,
   "metadata": {},
   "outputs": [
    {
     "data": {
      "text/plain": [
       "0.3116781189641803"
      ]
     },
     "execution_count": 88,
     "metadata": {},
     "output_type": "execute_result"
    }
   ],
   "source": [
    "linear_scores = np.sqrt(-cross_val_score(linear, x_train, y_train, cv=10, scoring='neg_mean_squared_error'))\n",
    "linear_scores = np.mean(linear_scores)\n",
    "linear_scores"
   ]
  },
  {
   "cell_type": "code",
   "execution_count": 89,
   "metadata": {},
   "outputs": [],
   "source": [
    "# XGB Boost\n",
    "from xgboost import XGBRegressor\n",
    "xgb = XGBRegressor()\n",
    "xgb.fit(x_train, y_train)\n",
    "y_pred_9 = xgb.predict(x_test)"
   ]
  },
  {
   "cell_type": "code",
   "execution_count": 90,
   "metadata": {},
   "outputs": [
    {
     "data": {
      "text/plain": [
       "0.2978254493153599"
      ]
     },
     "execution_count": 90,
     "metadata": {},
     "output_type": "execute_result"
    }
   ],
   "source": [
    "xgb_scores = np.sqrt(-cross_val_score(xgb, x_train, y_train, cv=10, scoring='neg_mean_squared_error'))\n",
    "xgb_scores = np.mean(xgb_scores)\n",
    "xgb_scores"
   ]
  },
  {
   "cell_type": "code",
   "execution_count": 91,
   "metadata": {},
   "outputs": [
    {
     "data": {
      "text/plain": [
       "(408648, 10)"
      ]
     },
     "execution_count": 91,
     "metadata": {},
     "output_type": "execute_result"
    }
   ],
   "source": [
    "df_lda.shape"
   ]
  },
  {
   "cell_type": "code",
   "execution_count": 92,
   "metadata": {},
   "outputs": [],
   "source": [
    "df_lda.to_csv('lda.csv',index=False)"
   ]
  },
  {
   "cell_type": "code",
   "execution_count": null,
   "metadata": {},
   "outputs": [],
   "source": []
  },
  {
   "cell_type": "code",
   "execution_count": null,
   "metadata": {},
   "outputs": [],
   "source": []
  }
 ],
 "metadata": {
  "kernelspec": {
   "display_name": "Python 3",
   "language": "python",
   "name": "python3"
  },
  "language_info": {
   "codemirror_mode": {
    "name": "ipython",
    "version": 3
   },
   "file_extension": ".py",
   "mimetype": "text/x-python",
   "name": "python",
   "nbconvert_exporter": "python",
   "pygments_lexer": "ipython3",
   "version": "3.7.3"
  }
 },
 "nbformat": 4,
 "nbformat_minor": 2
}
