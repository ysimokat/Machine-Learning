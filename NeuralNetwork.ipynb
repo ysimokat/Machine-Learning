{
 "cells": [
  {
   "cell_type": "code",
   "execution_count": 1,
   "metadata": {},
   "outputs": [
    {
     "name": "stdout",
     "output_type": "stream",
     "text": [
      "[Epoch 0] Training: MSE=0.27493646, CrossEntropy=1.66697033, LogLikelihood=0.77194219, Correct: 1/1, Acc=1.00000000\n",
      "          Test:     MSE=0.39191198, CrossEntropy=2.15652136, LogLikelihood=1.07689692, Correct: 0/1, Acc=0.00000000\n"
     ]
    },
    {
     "data": {
      "text/plain": [
       "[[[1, 1.0, 0.2749364640266245, 1.6669703311809374, 0.7719421893712425]],\n",
       " [[0, 0.0, 0.3919119754995679, 2.1565213628849698, 1.0768969159720378]]]"
      ]
     },
     "execution_count": 1,
     "metadata": {},
     "output_type": "execute_result"
    }
   ],
   "source": [
    "import NN578_network as network\n",
    "import numpy as np\n",
    "net4 = network.load_network(\"iris4-20-7-3.dat\")\n",
    "\n",
    "inst1 = (np.array([5.7, 3, 4.2, 1.2]), np.array([0., 1., 0.]))\n",
    "x1 = np.reshape(inst1[0], (4, 1))\n",
    "y1 = np.reshape(inst1[1], (3, 1))\n",
    "sample1 = [(x1, y1)]\n",
    "inst2 = (np.array([4.8, 3.4, 1.6, 0.2]), np.array([1., 0., 0.]))\n",
    "x2 = np.reshape(inst2[0], (4, 1))\n",
    "y2 = np.reshape(inst2[1], (3, 1))\n",
    "sample2 = [(x2, y2)]\n",
    "\n",
    "net4.SGD(sample1, 1, 1, 1.0, sample2)"
   ]
  },
  {
   "cell_type": "code",
   "execution_count": 2,
   "metadata": {},
   "outputs": [
    {
     "name": "stdout",
     "output_type": "stream",
     "text": [
      "[Epoch 0] Training: MSE=0.27493646, CrossEntropy=1.66697033, LogLikelihood=0.77194219, Correct: 1/1, Acc=1.00000000\n",
      "          Test:     MSE=0.39191198, CrossEntropy=2.15652136, LogLikelihood=1.07689692, Correct: 0/1, Acc=0.00000000\n",
      "[Epoch 0] Training: MSE=0.20300176, CrossEntropy=1.36186833, LogLikelihood=0.62390215, Correct: 1/1, Acc=1.00000000\n",
      "[[[1, 1.0, 0.2749364640266245, 1.6669703311809374, 0.7719421893712425]], [[0, 0.0, 0.3919119754995679, 2.1565213628849698, 1.0768969159720378]]]\n",
      "[[[1, 1.0, 0.20300176474076947, 1.3618683258693898, 0.6239021510460967]], [], []]\n"
     ]
    }
   ],
   "source": [
    "# reload the network \n",
    "net4 = network.load_network(\"iris4-20-7-3.dat\")\n",
    "results1 = net4.SGD(sample1, 1, 1, 1.0, sample2)\n",
    "results2 = net4.SGD(sample1, 1, 1, 1.0)\n",
    "print (results1) # results from the previous run \n",
    "print (results2) # results from the 2nd run"
   ]
  },
  {
   "cell_type": "code",
   "execution_count": 3,
   "metadata": {},
   "outputs": [],
   "source": [
    "# Function to load the iris train-test (separate) data files\n",
    "def my_load_csv(fname, no_trainfeatures, no_testfeatures):\n",
    "    ret = np.genfromtxt(fname, delimiter=',')\n",
    "    data = np.array([(entry[:no_trainfeatures],entry[no_trainfeatures:]) for entry in ret])\n",
    "    temp_inputs = [np.reshape(x, (no_trainfeatures, 1)) for x in data[:,0]]\n",
    "    temp_results = [np.reshape(y, (no_testfeatures, 1)) for y in data[:,1]]\n",
    "    dataset = list(zip(temp_inputs, temp_results))\n",
    "    return dataset\n",
    "\n",
    "# Call the function to load the data\n",
    "iris_data = my_load_csv('iris.csv', 4, 3)"
   ]
  },
  {
   "cell_type": "code",
   "execution_count": 4,
   "metadata": {},
   "outputs": [
    {
     "name": "stdout",
     "output_type": "stream",
     "text": [
      "[Epoch 0] Training: MSE=0.34033460, CrossEntropy=1.94026240, LogLikelihood=1.07764660, Correct: 50/150, Acc=0.33333333\n",
      "[Epoch 1] Training: MSE=0.34353314, CrossEntropy=1.95533001, LogLikelihood=1.12243302, Correct: 50/150, Acc=0.33333333\n",
      "[Epoch 2] Training: MSE=0.34469017, CrossEntropy=1.96081626, LogLikelihood=1.13503515, Correct: 50/150, Acc=0.33333333\n",
      "[Epoch 3] Training: MSE=0.34465884, CrossEntropy=1.96076548, LogLikelihood=1.13807950, Correct: 50/150, Acc=0.33333333\n",
      "[Epoch 4] Training: MSE=0.34414519, CrossEntropy=1.95847979, LogLikelihood=1.13786331, Correct: 50/150, Acc=0.33333333\n",
      "[Epoch 5] Training: MSE=0.34350384, CrossEntropy=1.95560135, LogLikelihood=1.13662864, Correct: 50/150, Acc=0.33333333\n",
      "[Epoch 6] Training: MSE=0.34288490, CrossEntropy=1.95282074, LogLikelihood=1.13522407, Correct: 50/150, Acc=0.33333333\n",
      "[Epoch 7] Training: MSE=0.34233831, CrossEntropy=1.95036625, LogLikelihood=1.13392712, Correct: 50/150, Acc=0.33333333\n",
      "[Epoch 8] Training: MSE=0.34186962, CrossEntropy=1.94826278, LogLikelihood=1.13277772, Correct: 50/150, Acc=0.33333333\n",
      "[Epoch 9] Training: MSE=0.34146701, CrossEntropy=1.94645632, LogLikelihood=1.13172844, Correct: 50/150, Acc=0.33333333\n",
      "[Epoch 10] Training: MSE=0.34111320, CrossEntropy=1.94486848, LogLikelihood=1.13070817, Correct: 50/150, Acc=0.33333333\n",
      "[Epoch 11] Training: MSE=0.34079018, CrossEntropy=1.94341760, LogLikelihood=1.12964433, Correct: 50/150, Acc=0.33333333\n",
      "[Epoch 12] Training: MSE=0.34048059, CrossEntropy=1.94202498, LogLikelihood=1.12846704, Correct: 50/150, Acc=0.33333333\n",
      "[Epoch 13] Training: MSE=0.34016791, CrossEntropy=1.94061536, LogLikelihood=1.12710705, Correct: 50/150, Acc=0.33333333\n",
      "[Epoch 14] Training: MSE=0.33983625, CrossEntropy=1.93911562, LogLikelihood=1.12549278, Correct: 50/150, Acc=0.33333333\n",
      "[Epoch 15] Training: MSE=0.33947022, CrossEntropy=1.93745363, LogLikelihood=1.12354873, Correct: 50/150, Acc=0.33333333\n",
      "[Epoch 16] Training: MSE=0.33905488, CrossEntropy=1.93555730, LogLikelihood=1.12119636, Correct: 50/150, Acc=0.33333333\n",
      "[Epoch 17] Training: MSE=0.33857573, CrossEntropy=1.93335317, LogLikelihood=1.11835727, Correct: 50/150, Acc=0.33333333\n",
      "[Epoch 18] Training: MSE=0.33801849, CrossEntropy=1.93076377, LogLikelihood=1.11495759, Correct: 50/150, Acc=0.33333333\n",
      "[Epoch 19] Training: MSE=0.33736862, CrossEntropy=1.92770347, LogLikelihood=1.11092989, Correct: 50/150, Acc=0.33333333\n",
      "[Epoch 20] Training: MSE=0.33660994, CrossEntropy=1.92407172, LogLikelihood=1.10620557, Correct: 50/150, Acc=0.33333333\n",
      "[Epoch 21] Training: MSE=0.33572213, CrossEntropy=1.91974162, LogLikelihood=1.10069059, Correct: 50/150, Acc=0.33333333\n",
      "[Epoch 22] Training: MSE=0.33467779, CrossEntropy=1.91454533, LogLikelihood=1.09422790, Correct: 50/150, Acc=0.33333333\n",
      "[Epoch 23] Training: MSE=0.33344163, CrossEntropy=1.90826271, LogLikelihood=1.08656134, Correct: 50/150, Acc=0.33333333\n",
      "[Epoch 24] Training: MSE=0.33197400, CrossEntropy=1.90061818, LogLikelihood=1.07731011, Correct: 50/150, Acc=0.33333333\n",
      "[Epoch 25] Training: MSE=0.33024358, CrossEntropy=1.89130258, LogLikelihood=1.06596045, Correct: 50/150, Acc=0.33333333\n",
      "[Epoch 26] Training: MSE=0.32826738, CrossEntropy=1.88011255, LogLikelihood=1.05194586, Correct: 50/150, Acc=0.33333333\n",
      "[Epoch 27] Training: MSE=0.32616052, CrossEntropy=1.86724871, LogLikelihood=1.03494065, Correct: 50/150, Acc=0.33333333\n",
      "[Epoch 28] Training: MSE=0.32394212, CrossEntropy=1.85286352, LogLikelihood=1.01495214, Correct: 50/150, Acc=0.33333333\n",
      "[Epoch 29] Training: MSE=0.32117076, CrossEntropy=1.83566213, LogLikelihood=0.99196255, Correct: 50/150, Acc=0.33333333\n",
      "[Epoch 30] Training: MSE=0.31729632, CrossEntropy=1.81388511, LogLikelihood=0.96636236, Correct: 50/150, Acc=0.33333333\n",
      "[Epoch 31] Training: MSE=0.31214211, CrossEntropy=1.78704306, LogLikelihood=0.93903109, Correct: 50/150, Acc=0.33333333\n",
      "[Epoch 32] Training: MSE=0.30587585, CrossEntropy=1.75587935, LogLikelihood=0.91084888, Correct: 73/150, Acc=0.48666667\n",
      "[Epoch 33] Training: MSE=0.29884048, CrossEntropy=1.72178131, LogLikelihood=0.88258397, Correct: 99/150, Acc=0.66000000\n"
     ]
    }
   ],
   "source": [
    "# Reload the network\n",
    "net2 = network.load_network(\"iris4-20-7-3.dat\")\n",
    "# Set the termination percentage\n",
    "net2.termpercent = 0.6\n",
    "# Train the network (for max of 100 epochs, minibatch_size=20, eta=1.0)\n",
    "results = net2.SGD(iris_data, 34, 20, 1.0)"
   ]
  },
  {
   "cell_type": "code",
   "execution_count": 5,
   "metadata": {},
   "outputs": [
    {
     "name": "stdout",
     "output_type": "stream",
     "text": [
      "[Epoch 0] Training: MSE=0.34033460, CrossEntropy=1.94026240, LogLikelihood=1.07764660, Correct: 50/150, Acc=0.33333333\n",
      "[Epoch 1] Training: MSE=0.34353314, CrossEntropy=1.95533001, LogLikelihood=1.12243302, Correct: 50/150, Acc=0.33333333\n",
      "[Epoch 2] Training: MSE=0.34469017, CrossEntropy=1.96081626, LogLikelihood=1.13503515, Correct: 50/150, Acc=0.33333333\n",
      "[Epoch 3] Training: MSE=0.34465884, CrossEntropy=1.96076548, LogLikelihood=1.13807950, Correct: 50/150, Acc=0.33333333\n",
      "[Epoch 4] Training: MSE=0.34414519, CrossEntropy=1.95847979, LogLikelihood=1.13786331, Correct: 50/150, Acc=0.33333333\n",
      "[Epoch 5] Training: MSE=0.34350384, CrossEntropy=1.95560135, LogLikelihood=1.13662864, Correct: 50/150, Acc=0.33333333\n",
      "[Epoch 6] Training: MSE=0.34288490, CrossEntropy=1.95282074, LogLikelihood=1.13522407, Correct: 50/150, Acc=0.33333333\n",
      "[Epoch 7] Training: MSE=0.34233831, CrossEntropy=1.95036625, LogLikelihood=1.13392712, Correct: 50/150, Acc=0.33333333\n",
      "[Epoch 8] Training: MSE=0.34186962, CrossEntropy=1.94826278, LogLikelihood=1.13277772, Correct: 50/150, Acc=0.33333333\n",
      "[Epoch 9] Training: MSE=0.34146701, CrossEntropy=1.94645632, LogLikelihood=1.13172844, Correct: 50/150, Acc=0.33333333\n",
      "[Epoch 10] Training: MSE=0.34111320, CrossEntropy=1.94486848, LogLikelihood=1.13070817, Correct: 50/150, Acc=0.33333333\n",
      "[Epoch 11] Training: MSE=0.34079018, CrossEntropy=1.94341760, LogLikelihood=1.12964433, Correct: 50/150, Acc=0.33333333\n",
      "[Epoch 12] Training: MSE=0.34048059, CrossEntropy=1.94202498, LogLikelihood=1.12846704, Correct: 50/150, Acc=0.33333333\n",
      "[Epoch 13] Training: MSE=0.34016791, CrossEntropy=1.94061536, LogLikelihood=1.12710705, Correct: 50/150, Acc=0.33333333\n",
      "[Epoch 14] Training: MSE=0.33983625, CrossEntropy=1.93911562, LogLikelihood=1.12549278, Correct: 50/150, Acc=0.33333333\n",
      "[Epoch 15] Training: MSE=0.33947022, CrossEntropy=1.93745363, LogLikelihood=1.12354873, Correct: 50/150, Acc=0.33333333\n",
      "[Epoch 16] Training: MSE=0.33905488, CrossEntropy=1.93555730, LogLikelihood=1.12119636, Correct: 50/150, Acc=0.33333333\n",
      "[Epoch 17] Training: MSE=0.33857573, CrossEntropy=1.93335317, LogLikelihood=1.11835727, Correct: 50/150, Acc=0.33333333\n",
      "[Epoch 18] Training: MSE=0.33801849, CrossEntropy=1.93076377, LogLikelihood=1.11495759, Correct: 50/150, Acc=0.33333333\n",
      "[Epoch 19] Training: MSE=0.33736862, CrossEntropy=1.92770347, LogLikelihood=1.11092989, Correct: 50/150, Acc=0.33333333\n",
      "[Epoch 20] Training: MSE=0.33660994, CrossEntropy=1.92407172, LogLikelihood=1.10620557, Correct: 50/150, Acc=0.33333333\n",
      "[Epoch 21] Training: MSE=0.33572213, CrossEntropy=1.91974162, LogLikelihood=1.10069059, Correct: 50/150, Acc=0.33333333\n",
      "[Epoch 22] Training: MSE=0.33467779, CrossEntropy=1.91454533, LogLikelihood=1.09422790, Correct: 50/150, Acc=0.33333333\n",
      "[Epoch 23] Training: MSE=0.33344163, CrossEntropy=1.90826271, LogLikelihood=1.08656134, Correct: 50/150, Acc=0.33333333\n",
      "[Epoch 24] Training: MSE=0.33197400, CrossEntropy=1.90061818, LogLikelihood=1.07731011, Correct: 50/150, Acc=0.33333333\n",
      "[Epoch 25] Training: MSE=0.33024358, CrossEntropy=1.89130258, LogLikelihood=1.06596045, Correct: 50/150, Acc=0.33333333\n",
      "[Epoch 26] Training: MSE=0.32826738, CrossEntropy=1.88011255, LogLikelihood=1.05194586, Correct: 50/150, Acc=0.33333333\n",
      "[Epoch 27] Training: MSE=0.32616052, CrossEntropy=1.86724871, LogLikelihood=1.03494065, Correct: 50/150, Acc=0.33333333\n",
      "[Epoch 28] Training: MSE=0.32394212, CrossEntropy=1.85286352, LogLikelihood=1.01495214, Correct: 50/150, Acc=0.33333333\n",
      "[Epoch 29] Training: MSE=0.32117076, CrossEntropy=1.83566213, LogLikelihood=0.99196255, Correct: 50/150, Acc=0.33333333\n",
      "[Epoch 30] Training: MSE=0.31729632, CrossEntropy=1.81388511, LogLikelihood=0.96636236, Correct: 50/150, Acc=0.33333333\n",
      "[Epoch 31] Training: MSE=0.31214211, CrossEntropy=1.78704306, LogLikelihood=0.93903109, Correct: 50/150, Acc=0.33333333\n",
      "[Epoch 32] Training: MSE=0.30587585, CrossEntropy=1.75587935, LogLikelihood=0.91084888, Correct: 73/150, Acc=0.48666667\n",
      "[Epoch 33] Training: MSE=0.29884048, CrossEntropy=1.72178131, LogLikelihood=0.88258397, Correct: 99/150, Acc=0.66000000\n",
      "[Epoch 34] Training: MSE=0.29141059, CrossEntropy=1.68622959, LogLikelihood=0.85488139, Correct: 100/150, Acc=0.66666667\n",
      "[Epoch 35] Training: MSE=0.28389595, CrossEntropy=1.65041484, LogLikelihood=0.82826142, Correct: 100/150, Acc=0.66666667\n",
      "[Epoch 36] Training: MSE=0.27654745, CrossEntropy=1.61527042, LogLikelihood=0.80323077, Correct: 100/150, Acc=0.66666667\n",
      "[Epoch 37] Training: MSE=0.26959280, CrossEntropy=1.58163779, LogLikelihood=0.78033274, Correct: 100/150, Acc=0.66666667\n",
      "[Epoch 38] Training: MSE=0.26322823, CrossEntropy=1.55025867, LogLikelihood=0.76004441, Correct: 100/150, Acc=0.66666667\n",
      "[Epoch 39] Training: MSE=0.25759079, CrossEntropy=1.52168178, LogLikelihood=0.74264650, Correct: 100/150, Acc=0.66666667\n",
      "[Epoch 40] Training: MSE=0.25274067, CrossEntropy=1.49619399, LogLikelihood=0.72816122, Correct: 100/150, Acc=0.66666667\n",
      "[Epoch 41] Training: MSE=0.24866509, CrossEntropy=1.47382261, LogLikelihood=0.71637670, Correct: 100/150, Acc=0.66666667\n",
      "[Epoch 42] Training: MSE=0.24529947, CrossEntropy=1.45440062, LogLikelihood=0.70692876, Correct: 100/150, Acc=0.66666667\n",
      "[Epoch 43] Training: MSE=0.24255324, CrossEntropy=1.43765226, LogLikelihood=0.69939322, Correct: 100/150, Acc=0.66666667\n",
      "[Epoch 44] Training: MSE=0.24033059, CrossEntropy=1.42326473, LogLikelihood=0.69335565, Correct: 100/150, Acc=0.66666667\n",
      "[Epoch 45] Training: MSE=0.23854342, CrossEntropy=1.41093597, LogLikelihood=0.68844909, Correct: 100/150, Acc=0.66666667\n",
      "[Epoch 46] Training: MSE=0.23711803, CrossEntropy=1.40040292, LogLikelihood=0.68436582, Correct: 100/150, Acc=0.66666667\n",
      "[Epoch 47] Training: MSE=0.23599784, CrossEntropy=1.39145721, LogLikelihood=0.68085362, Correct: 100/150, Acc=0.66666667\n",
      "[Epoch 48] Training: MSE=0.23514394, CrossEntropy=1.38395325, LogLikelihood=0.67770589, Correct: 100/150, Acc=0.66666667\n",
      "[Epoch 49] Training: MSE=0.23453424, CrossEntropy=1.37781140, LogLikelihood=0.67475238, Correct: 100/150, Acc=0.66666667\n",
      "[Epoch 50] Training: MSE=0.23416084, CrossEntropy=1.37301233, LogLikelihood=0.67185477, Correct: 100/150, Acc=0.66666667\n",
      "[Epoch 51] Training: MSE=0.23402114, CrossEntropy=1.36956232, LogLikelihood=0.66890746, Correct: 100/150, Acc=0.66666667\n",
      "[Epoch 52] Training: MSE=0.23409489, CrossEntropy=1.36738794, LogLikelihood=0.66583566, Correct: 100/150, Acc=0.66666667\n",
      "[Epoch 53] Training: MSE=0.23430530, CrossEntropy=1.36614334, LogLikelihood=0.66257355, Correct: 100/150, Acc=0.66666667\n",
      "[Epoch 54] Training: MSE=0.23448989, CrossEntropy=1.36504613, LogLikelihood=0.65901444, Correct: 100/150, Acc=0.66666667\n",
      "[Epoch 55] Training: MSE=0.23442626, CrossEntropy=1.36297576, LogLikelihood=0.65497167, Correct: 100/150, Acc=0.66666667\n",
      "[Epoch 56] Training: MSE=0.23392460, CrossEntropy=1.35892847, LogLikelihood=0.65022351, Correct: 100/150, Acc=0.66666667\n",
      "[Epoch 57] Training: MSE=0.23293307, CrossEntropy=1.35257407, LogLikelihood=0.64466293, Correct: 100/150, Acc=0.66666667\n",
      "[Epoch 58] Training: MSE=0.23156954, CrossEntropy=1.34444871, LogLikelihood=0.63844637, Correct: 100/150, Acc=0.66666667\n",
      "[Epoch 59] Training: MSE=0.23003657, CrossEntropy=1.33553957, LogLikelihood=0.63196240, Correct: 100/150, Acc=0.66666667\n",
      "[Epoch 60] Training: MSE=0.22849448, CrossEntropy=1.32664132, LogLikelihood=0.62560347, Correct: 100/150, Acc=0.66666667\n",
      "[Epoch 61] Training: MSE=0.22702357, CrossEntropy=1.31815733, LogLikelihood=0.61958655, Correct: 100/150, Acc=0.66666667\n",
      "[Epoch 62] Training: MSE=0.22568900, CrossEntropy=1.31041999, LogLikelihood=0.61397793, Correct: 100/150, Acc=0.66666667\n",
      "[Epoch 63] Training: MSE=0.22462965, CrossEntropy=1.30413750, LogLikelihood=0.60882461, Correct: 100/150, Acc=0.66666667\n",
      "[Epoch 64] Training: MSE=0.22404780, CrossEntropy=1.30034665, LogLikelihood=0.60423030, Correct: 100/150, Acc=0.66666667\n",
      "[Epoch 65] Training: MSE=0.22391541, CrossEntropy=1.29892613, LogLikelihood=0.60018724, Correct: 100/150, Acc=0.66666667\n",
      "[Epoch 66] Training: MSE=0.22376362, CrossEntropy=1.29747378, LogLikelihood=0.59630298, Correct: 100/150, Acc=0.66666667\n",
      "[Epoch 67] Training: MSE=0.22326248, CrossEntropy=1.29425428, LogLikelihood=0.59217021, Correct: 100/150, Acc=0.66666667\n",
      "[Epoch 68] Training: MSE=0.22247144, CrossEntropy=1.28955434, LogLikelihood=0.58780517, Correct: 100/150, Acc=0.66666667\n",
      "[Epoch 69] Training: MSE=0.22153410, CrossEntropy=1.28411657, LogLikelihood=0.58340902, Correct: 100/150, Acc=0.66666667\n",
      "[Epoch 70] Training: MSE=0.22051806, CrossEntropy=1.27828870, LogLikelihood=0.57911165, Correct: 100/150, Acc=0.66666667\n",
      "[Epoch 71] Training: MSE=0.21945169, CrossEntropy=1.27221115, LogLikelihood=0.57497631, Correct: 100/150, Acc=0.66666667\n",
      "[Epoch 72] Training: MSE=0.21833094, CrossEntropy=1.26585328, LogLikelihood=0.57100976, Correct: 100/150, Acc=0.66666667\n",
      "[Epoch 73] Training: MSE=0.21716428, CrossEntropy=1.25925294, LogLikelihood=0.56722690, Correct: 101/150, Acc=0.67333333\n",
      "[Epoch 74] Training: MSE=0.21595184, CrossEntropy=1.25240794, LogLikelihood=0.56362497, Correct: 101/150, Acc=0.67333333\n",
      "[Epoch 75] Training: MSE=0.21472274, CrossEntropy=1.24547379, LogLikelihood=0.56024052, Correct: 101/150, Acc=0.67333333\n"
     ]
    },
    {
     "name": "stdout",
     "output_type": "stream",
     "text": [
      "[Epoch 76] Training: MSE=0.21347330, CrossEntropy=1.23843628, LogLikelihood=0.55705421, Correct: 101/150, Acc=0.67333333\n",
      "[Epoch 77] Training: MSE=0.21225600, CrossEntropy=1.23157941, LogLikelihood=0.55413557, Correct: 101/150, Acc=0.67333333\n",
      "[Epoch 78] Training: MSE=0.21101243, CrossEntropy=1.22460419, LogLikelihood=0.55136512, Correct: 101/150, Acc=0.67333333\n",
      "[Epoch 79] Training: MSE=0.20988704, CrossEntropy=1.21827661, LogLikelihood=0.54897309, Correct: 101/150, Acc=0.67333333\n",
      "[Epoch 80] Training: MSE=0.20859067, CrossEntropy=1.21108924, LogLikelihood=0.54642282, Correct: 102/150, Acc=0.68000000\n",
      "[Epoch 81] Training: MSE=0.20778659, CrossEntropy=1.20650964, LogLikelihood=0.54489343, Correct: 102/150, Acc=0.68000000\n",
      "[Epoch 82] Training: MSE=0.20601157, CrossEntropy=1.19690997, LogLikelihood=0.54165830, Correct: 102/150, Acc=0.68000000\n",
      "[Epoch 83] Training: MSE=0.20711477, CrossEntropy=1.20228256, LogLikelihood=0.54388953, Correct: 102/150, Acc=0.68000000\n",
      "[Epoch 84] Training: MSE=0.20566527, CrossEntropy=1.19414794, LogLikelihood=0.54103107, Correct: 102/150, Acc=0.68000000\n",
      "[Epoch 85] Training: MSE=0.20845252, CrossEntropy=1.20806682, LogLikelihood=0.54651737, Correct: 102/150, Acc=0.68000000\n",
      "[Epoch 86] Training: MSE=0.21712070, CrossEntropy=1.25351434, LogLikelihood=0.56358529, Correct: 101/150, Acc=0.67333333\n",
      "[Epoch 87] Training: MSE=0.18760348, CrossEntropy=1.09804497, LogLikelihood=0.50582710, Correct: 103/150, Acc=0.68666667\n",
      "[Epoch 88] Training: MSE=0.20265746, CrossEntropy=1.17469087, LogLikelihood=0.53603042, Correct: 102/150, Acc=0.68000000\n",
      "[Epoch 89] Training: MSE=0.19102588, CrossEntropy=1.11929376, LogLikelihood=0.51512837, Correct: 104/150, Acc=0.69333333\n",
      "[Epoch 90] Training: MSE=0.20216243, CrossEntropy=1.17358476, LogLikelihood=0.53757399, Correct: 102/150, Acc=0.68000000\n",
      "[Epoch 91] Training: MSE=0.19733402, CrossEntropy=1.15282855, LogLikelihood=0.53020180, Correct: 103/150, Acc=0.68666667\n",
      "[Epoch 92] Training: MSE=0.19903547, CrossEntropy=1.15881897, LogLikelihood=0.53368798, Correct: 103/150, Acc=0.68666667\n",
      "[Epoch 93] Training: MSE=0.19578508, CrossEntropy=1.14277741, LogLikelihood=0.52778188, Correct: 103/150, Acc=0.68666667\n",
      "[Epoch 94] Training: MSE=0.21366243, CrossEntropy=1.23656894, LogLikelihood=0.56679221, Correct: 102/150, Acc=0.68000000\n",
      "[Epoch 95] Training: MSE=0.16827327, CrossEntropy=1.00847630, LogLikelihood=0.47240474, Correct: 106/150, Acc=0.70666667\n",
      "[Epoch 96] Training: MSE=0.20001788, CrossEntropy=1.16181063, LogLikelihood=0.54021733, Correct: 103/150, Acc=0.68666667\n",
      "[Epoch 97] Training: MSE=0.20647399, CrossEntropy=1.19727679, LogLikelihood=0.55321011, Correct: 103/150, Acc=0.68666667\n",
      "[Epoch 98] Training: MSE=0.19889469, CrossEntropy=1.15794295, LogLikelihood=0.53688483, Correct: 103/150, Acc=0.68666667\n",
      "[Epoch 99] Training: MSE=0.21375460, CrossEntropy=1.23506442, LogLikelihood=0.57250477, Correct: 102/150, Acc=0.68000000\n",
      "[Epoch 100] Training: MSE=0.20597572, CrossEntropy=1.18825519, LogLikelihood=0.55341039, Correct: 102/150, Acc=0.68000000\n",
      "[Epoch 101] Training: MSE=0.21193482, CrossEntropy=1.21740232, LogLikelihood=0.56808540, Correct: 102/150, Acc=0.68000000\n",
      "[Epoch 102] Training: MSE=0.16995629, CrossEntropy=1.00036108, LogLikelihood=0.47549335, Correct: 106/150, Acc=0.70666667\n",
      "[Epoch 103] Training: MSE=0.16619098, CrossEntropy=0.98374226, LogLikelihood=0.46838668, Correct: 107/150, Acc=0.71333333\n",
      "[Epoch 104] Training: MSE=0.16863793, CrossEntropy=0.99821599, LogLikelihood=0.47386751, Correct: 107/150, Acc=0.71333333\n",
      "[Epoch 105] Training: MSE=0.18803565, CrossEntropy=1.09591562, LogLikelihood=0.51717234, Correct: 105/150, Acc=0.70000000\n",
      "[Epoch 106] Training: MSE=0.19592451, CrossEntropy=1.14042024, LogLikelihood=0.53534584, Correct: 105/150, Acc=0.70000000\n",
      "[Epoch 107] Training: MSE=0.22366332, CrossEntropy=1.29432746, LogLikelihood=0.60573134, Correct: 102/150, Acc=0.68000000\n",
      "[Epoch 108] Training: MSE=0.18567083, CrossEntropy=1.07865587, LogLikelihood=0.51062291, Correct: 105/150, Acc=0.70000000\n",
      "[Epoch 109] Training: MSE=0.19807775, CrossEntropy=1.14281190, LogLikelihood=0.54140076, Correct: 105/150, Acc=0.70000000\n",
      "[Epoch 110] Training: MSE=0.16811730, CrossEntropy=0.99094707, LogLikelihood=0.47361605, Correct: 108/150, Acc=0.72000000\n",
      "[Epoch 111] Training: MSE=0.18593970, CrossEntropy=1.08094611, LogLikelihood=0.51467250, Correct: 105/150, Acc=0.70000000\n",
      "[Epoch 112] Training: MSE=0.16247945, CrossEntropy=0.96734097, LogLikelihood=0.46209702, Correct: 109/150, Acc=0.72666667\n",
      "[Epoch 113] Training: MSE=0.19105518, CrossEntropy=1.10912549, LogLikelihood=0.52929329, Correct: 105/150, Acc=0.70000000\n",
      "[Epoch 114] Training: MSE=0.14986081, CrossEntropy=0.91014262, LogLikelihood=0.43486100, Correct: 113/150, Acc=0.75333333\n",
      "[Epoch 115] Training: MSE=0.15863602, CrossEntropy=0.95094646, LogLikelihood=0.45571215, Correct: 111/150, Acc=0.74000000\n",
      "[Epoch 116] Training: MSE=0.16225243, CrossEntropy=0.96880722, LogLikelihood=0.46415236, Correct: 110/150, Acc=0.73333333\n",
      "[Epoch 117] Training: MSE=0.16792673, CrossEntropy=0.99887075, LogLikelihood=0.47748288, Correct: 110/150, Acc=0.73333333\n",
      "[Epoch 118] Training: MSE=0.16522693, CrossEntropy=0.98568894, LogLikelihood=0.47083427, Correct: 110/150, Acc=0.73333333\n",
      "[Epoch 119] Training: MSE=0.18033670, CrossEntropy=1.06404757, LogLikelihood=0.50769120, Correct: 109/150, Acc=0.72666667\n",
      "[Epoch 120] Training: MSE=0.18625158, CrossEntropy=1.09530298, LogLikelihood=0.52186783, Correct: 107/150, Acc=0.71333333\n",
      "[Epoch 121] Training: MSE=0.22083806, CrossEntropy=1.29040454, LogLikelihood=0.61393675, Correct: 103/150, Acc=0.68666667\n",
      "[Epoch 122] Training: MSE=0.17926857, CrossEntropy=1.05028364, LogLikelihood=0.50315414, Correct: 107/150, Acc=0.71333333\n",
      "[Epoch 123] Training: MSE=0.17415542, CrossEntropy=1.02674193, LogLikelihood=0.49222579, Correct: 109/150, Acc=0.72666667\n",
      "[Epoch 124] Training: MSE=0.13626125, CrossEntropy=0.84315958, LogLikelihood=0.40489745, Correct: 119/150, Acc=0.79333333\n",
      "[Epoch 125] Training: MSE=0.13069447, CrossEntropy=0.81518283, LogLikelihood=0.39307129, Correct: 120/150, Acc=0.80000000\n"
     ]
    }
   ],
   "source": [
    "# Reload the network\n",
    "net2 = network.load_network(\"iris4-20-7-3.dat\")\n",
    "# Set the termination percentage\n",
    "net2.termpercent = 0.8\n",
    "# Train the network (for max of 100 epochs, minibatch_size=20, eta=1.0)\n",
    "results = net2.SGD(iris_data, 126, 20, 1.0)"
   ]
  },
  {
   "cell_type": "code",
   "execution_count": null,
   "metadata": {},
   "outputs": [],
   "source": []
  }
 ],
 "metadata": {
  "kernelspec": {
   "display_name": "Python 3",
   "language": "python",
   "name": "python3"
  },
  "language_info": {
   "codemirror_mode": {
    "name": "ipython",
    "version": 3
   },
   "file_extension": ".py",
   "mimetype": "text/x-python",
   "name": "python",
   "nbconvert_exporter": "python",
   "pygments_lexer": "ipython3",
   "version": "3.6.5"
  }
 },
 "nbformat": 4,
 "nbformat_minor": 2
}
